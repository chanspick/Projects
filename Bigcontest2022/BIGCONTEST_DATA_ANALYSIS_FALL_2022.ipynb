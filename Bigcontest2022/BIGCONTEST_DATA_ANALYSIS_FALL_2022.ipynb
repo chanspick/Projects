{
  "nbformat": 4,
  "nbformat_minor": 0,
  "metadata": {
    "colab": {
      "provenance": [],
      "collapsed_sections": [
        "goX6KKIAl_rO",
        "KTvg8Uy_nmzL",
        "vRTIri9Y7dDq",
        "Tx2qdEp4t_8r",
        "z8OwanYGuFn4",
        "cc01yzxG90XS",
        "cqign-B6JhcO",
        "hnHQf5v0pW-F",
        "ZtZFatpOrqjl",
        "56jT20XNzuZZ"
      ],
      "machine_shape": "hm",
      "include_colab_link": true
    },
    "kernelspec": {
      "name": "python3",
      "display_name": "Python 3"
    },
    "language_info": {
      "name": "python"
    }
  },
  "cells": [
    {
      "cell_type": "markdown",
      "metadata": {
        "id": "view-in-github",
        "colab_type": "text"
      },
      "source": [
        "<a href=\"https://colab.research.google.com/github/SeungbeomDo/Projects/blob/main/BIGCONTEST_DATA_ANALYSIS_FALL_2022.ipynb\" target=\"_parent\"><img src=\"https://colab.research.google.com/assets/colab-badge.svg\" alt=\"Open In Colab\"/></a>"
      ]
    },
    {
      "cell_type": "markdown",
      "source": [
        "#코드 목차\n",
        "\n",
        "<br>\n",
        "0. 데이터 불러오기<br>\n",
        "#0.1. 필요한 라이브러리 목록 <br>\n",
        "#0.2. 데이터 임포트 <br>\n",
        "\n",
        "<br>\n",
        "1. 데이터 전처리<br>\n",
        "#1.1. 데이터 병합<br>\n",
        "##1.1.1. Loan 데이터와 Spec 데이터 병합<br>\n",
        "#1.2. 변수 처리<br>\n",
        "##1.2.1. 변수 조작<br>\n",
        "##1.2.2. 결측치 처리<br>\n",
        "#1.3. 데이터 6월 기준으로 분리<br>\n",
        "##1.3.1. spec_loan 데이터의 분리<br>\n",
        "##1.3.2. log 데이터의 분리<br>\n",
        "#1.4. 한번이라도 대출을 받은 사람을 표시<br>\n",
        "#1.5. log 데이터의 유저별 데이터로 변환<br>\n",
        "##1.5.1. log 데이터의 유저별 데이터로 변환<br>\n",
        "\n",
        "<br>\n",
        "2. 탐색적 데이터 분석<br>\n",
        "#2.1. Spec 데이터 탐색<br>\n",
        "##2.1.1. Spec 데이터와 대출금리의 상관관계<br>\n",
        "##2.1.2. Spec 데이터와 대출한도의 상관관계<br>\n",
        "##2.1.3. Spec 데이터와 대출신청여부의 상관관계<br>\n",
        "#2.2. Loan 데이터 탐색<br>\n",
        "##2.2.1. 대출금리 및 대출한도의 신청여부와의 상관관계<br>\n",
        "##2.2.2. 은행 및 대출상품유형별 대출 신청률<br>\n",
        "#2.3. Log 데이터 탐색<br>\n",
        "##2.3.1. 대출신청여부에 따른 행동별 횟수 차이<br>\n",
        "\n",
        "<br>\n",
        "3. 예측 모델 훈련<br>\n",
        "#3.1. 인풋 변수 선택<br>\n",
        "#3.2. train 데이터와 test 데이터 분리<br>\n",
        "#3.3. 유저가 대출을 받을 확률 예측 훈련<br>\n",
        "##3.3.1. 유저 예측 훈련 train set 분리<br>\n",
        "##3.3.2. 모델 훈련<br>\n",
        "##3.3.3. 유저 예측 모델 성능<br>\n",
        "#3.4. 유저가 대출을 받을 때 주어진 상품이 선택될 확률 예측 훈련<br>\n",
        "##3.4.1. 상품 예측 훈련 train set 분리<br>\n",
        "##3.4.2. 모델 훈련<br>\n",
        "##3.4.3. 상품 예측 모델 성능<br>\n",
        "\n",
        "<br>\n",
        "4. 예측 모델 평가<br>\n",
        "#4.1. 유저가 대출을 받을 확률<br>\n",
        "#4.2. 유저가 대출을 받을 때 상품이 선택될 확률<br>\n",
        "#4.3. 최종 예측과 성능<br>\n",
        "\n",
        "<br>\n",
        "5. 6월 예측<br>\n",
        "#5.1. 3~5월 데이터 전체에 대하여 훈련<br>\n",
        "#5.2. 유저 예측 훈련<br>\n",
        "#5.3. 상품 예측 훈련<br>\n",
        "#5.4. 예측값 산출<br>"
      ],
      "metadata": {
        "id": "f4I-19xuusUE"
      }
    },
    {
      "cell_type": "markdown",
      "source": [
        "#0. 데이터 불러오기"
      ],
      "metadata": {
        "id": "goX6KKIAl_rO"
      }
    },
    {
      "cell_type": "markdown",
      "source": [
        "##0.1. 필요한 라이브러리 목록 <br>"
      ],
      "metadata": {
        "id": "n3TpLZgi9DKW"
      }
    },
    {
      "cell_type": "code",
      "source": [
        "#데이터 전처리, 조작, 시각화에 필요한 라이브러리\n",
        "\n",
        "import pandas as pd #데이터프레임 조작 과정\n",
        "import numpy as np #데이터 가공 과정\n",
        "import matplotlib.pyplot as plt #시각화 라이브러리\n",
        "\n",
        "#모델 훈련에 사용하는 라이브러리\n",
        "from sklearn.linear_model import LinearRegression #선형회귀 모델\n",
        "from sklearn.ensemble import RandomForestClassifier #랜덤포레스트 분류 모델\n",
        "from sklearn.metrics import accuracy_score #모델 성능 측정\n",
        "from sklearn.metrics import precision_score #모델 성능 측정\n",
        "from sklearn.metrics import recall_score #모델 성능 측정\n",
        "from sklearn.metrics import f1_score #모델 성능 측정\n",
        "from sklearn.metrics import confusion_matrix #모델 성능 측정\n",
        "from sklearn.preprocessing import minmax_scale #데이터 스케일링\n",
        "from sklearn.model_selection import train_test_split #훈련/검증 데이터 분리\n",
        "from imblearn.over_sampling import SMOTE,RandomOverSampler,ADASYN #오버샘플링\n",
        "from collections import Counter #오버샘플링\n",
        "import joblib #훈련된 모델 저장\n"
      ],
      "metadata": {
        "id": "8Dt1FAaD9M-H"
      },
      "execution_count": null,
      "outputs": []
    },
    {
      "cell_type": "code",
      "source": [
        "#Google Colab\n",
        "\n",
        "from google.colab import drive\n",
        "drive.mount('/content/drive')\n",
        "\n",
        "%cd /content/drive/MyDrive/Modeling Project 2022/제출할 것만 최종정리"
      ],
      "metadata": {
        "colab": {
          "base_uri": "https://localhost:8080/"
        },
        "id": "TJjj1DhFmDvS",
        "outputId": "11a4233b-ca1d-43ac-c175-a9f5e0c5b950"
      },
      "execution_count": null,
      "outputs": [
        {
          "output_type": "stream",
          "name": "stdout",
          "text": [
            "Drive already mounted at /content/drive; to attempt to forcibly remount, call drive.mount(\"/content/drive\", force_remount=True).\n",
            "/content/drive/MyDrive/Modeling Project 2022/제출할 것만 최종정리\n"
          ]
        }
      ]
    },
    {
      "cell_type": "markdown",
      "source": [
        "##0.2. 데이터 임포트"
      ],
      "metadata": {
        "id": "fE9mmBzK_ERF"
      }
    },
    {
      "cell_type": "code",
      "source": [
        "#loan_result, log_data, user_spec 각각 불러와 loan, log, spec으로 저장\n",
        "\n",
        "\n",
        "loan = pd.read_csv('/content/drive/MyDrive/Modeling Project 2022/Data/raw data/loan_result.csv')\n",
        "loan = pd.DataFrame(loan)\n",
        "\n",
        "log = pd.read_csv('/content/drive/MyDrive/Modeling Project 2022/Data/raw data/log_data.csv')\n",
        "log = pd.DataFrame(log)\n",
        "\n",
        "spec = pd.read_csv('/content/drive/MyDrive/Modeling Project 2022/Data/raw data/user_spec.csv')\n",
        "spec = pd.DataFrame(spec)"
      ],
      "metadata": {
        "id": "HLc9XpuEmtsC"
      },
      "execution_count": null,
      "outputs": []
    },
    {
      "cell_type": "code",
      "source": [
        "#raw data의 정보\n",
        "\n",
        "print('<loan data>')\n",
        "print('크기 : ', len(loan), '*', len(loan.columns))\n",
        "print('변수명 : ', loan.columns)\n",
        "print('고유한 대출신청번호의 수 : ', len(loan['application_id'].unique()))\n",
        "print('')\n",
        "\n",
        "print('<log data>')\n",
        "print('크기 : ', len(log), '*', len(log.columns))\n",
        "print('변수명 : ', log.columns)\n",
        "print('고유한 유저의 수 : ', len(spec['user_id'].unique()))\n",
        "print('')\n",
        "\n",
        "print('<spec data>')\n",
        "print('크기 : ', len(spec), '*', len(spec.columns))\n",
        "print('변수명 : ', spec.columns)\n",
        "print('고유한 유저의 수 : ', len(log['user_id'].unique()))\n"
      ],
      "metadata": {
        "id": "p3cc-l8moBvP",
        "colab": {
          "base_uri": "https://localhost:8080/"
        },
        "outputId": "956fb534-47ab-4d9b-f8f2-24d947e9ce71"
      },
      "execution_count": null,
      "outputs": [
        {
          "output_type": "stream",
          "name": "stdout",
          "text": [
            "<loan data>\n",
            "크기 :  13527363 * 7\n",
            "변수명 :  Index(['application_id', 'loanapply_insert_time', 'bank_id', 'product_id',\n",
            "       'loan_limit', 'loan_rate', 'is_applied'],\n",
            "      dtype='object')\n",
            "고유한 대출신청번호의 수 :  968866\n",
            "\n",
            "<log data>\n",
            "크기 :  17843993 * 6\n",
            "변수명 :  Index(['user_id', 'event', 'timestamp', 'mp_os', 'mp_app_version', 'date_cd'], dtype='object')\n",
            "고유한 유저의 수 :  405213\n",
            "\n",
            "<spec data>\n",
            "크기 :  1394216 * 17\n",
            "변수명 :  Index(['application_id', 'user_id', 'birth_year', 'gender', 'insert_time',\n",
            "       'credit_score', 'yearly_income', 'income_type', 'company_enter_month',\n",
            "       'employment_type', 'houseown_type', 'desired_amount', 'purpose',\n",
            "       'personal_rehabilitation_yn', 'personal_rehabilitation_complete_yn',\n",
            "       'existing_loan_cnt', 'existing_loan_amt'],\n",
            "      dtype='object')\n",
            "고유한 유저의 수 :  584636\n"
          ]
        }
      ]
    },
    {
      "cell_type": "code",
      "source": [
        "#결측값 확인\n",
        "\n",
        "print('Loan data')\n",
        "print(loan.isna().sum())\n",
        "print('')\n",
        "\n",
        "print('Log data')\n",
        "print(log.isna().sum())\n",
        "print('')\n",
        "\n",
        "print('Spec data')\n",
        "print(spec.isna().sum())"
      ],
      "metadata": {
        "id": "pNl5lL1WAVvP",
        "colab": {
          "base_uri": "https://localhost:8080/"
        },
        "outputId": "8f11d4e5-388f-4371-a583-11d760636428"
      },
      "execution_count": null,
      "outputs": [
        {
          "output_type": "stream",
          "name": "stdout",
          "text": [
            "Loan data\n",
            "application_id                 0\n",
            "loanapply_insert_time          0\n",
            "bank_id                        0\n",
            "product_id                     0\n",
            "loan_limit                  7495\n",
            "loan_rate                   7495\n",
            "is_applied               3257239\n",
            "dtype: int64\n",
            "\n",
            "Log data\n",
            "user_id                0\n",
            "event                  0\n",
            "timestamp              0\n",
            "mp_os                980\n",
            "mp_app_version    660597\n",
            "date_cd                0\n",
            "dtype: int64\n",
            "\n",
            "Spec data\n",
            "application_id                               0\n",
            "user_id                                      0\n",
            "birth_year                               12961\n",
            "gender                                   12961\n",
            "insert_time                                  0\n",
            "credit_score                            105115\n",
            "yearly_income                               90\n",
            "income_type                                 85\n",
            "company_enter_month                     171760\n",
            "employment_type                             85\n",
            "houseown_type                               85\n",
            "desired_amount                              85\n",
            "purpose                                     85\n",
            "personal_rehabilitation_yn              587461\n",
            "personal_rehabilitation_complete_yn    1203354\n",
            "existing_loan_cnt                       198556\n",
            "existing_loan_amt                       313774\n",
            "dtype: int64\n"
          ]
        }
      ]
    },
    {
      "cell_type": "markdown",
      "source": [
        "#1. 데이터 전처리"
      ],
      "metadata": {
        "id": "KTvg8Uy_nmzL"
      }
    },
    {
      "cell_type": "markdown",
      "source": [
        "##1.1. 데이터 병합"
      ],
      "metadata": {
        "id": "NHKL8AwanoJw"
      }
    },
    {
      "cell_type": "markdown",
      "source": [
        "###1.1.1. spec data와 loan data를 application_id를 기준으로 right join"
      ],
      "metadata": {
        "id": "HhrgCAnynuW3"
      }
    },
    {
      "cell_type": "code",
      "source": [
        "spec_loan = pd.merge(spec, loan, left_on='application_id', right_on='application_id', how='right')"
      ],
      "metadata": {
        "id": "3WeXm3ETqgqX"
      },
      "execution_count": null,
      "outputs": []
    },
    {
      "cell_type": "code",
      "source": [
        "#spec_loan 병합된 data의 정보\n",
        "\n",
        "print('<spec_loan data>')\n",
        "print('크기 : ', len(spec_loan), '*', len(spec_loan.columns))\n",
        "print('변수명 : ', spec_loan.columns)\n",
        "print('고유한 유저의 수 : ', len(spec_loan['user_id'].unique()))\n",
        "print('고유한 대출신청서의 수 : ', len(spec_loan['application_id'].unique()))\n"
      ],
      "metadata": {
        "colab": {
          "base_uri": "https://localhost:8080/"
        },
        "id": "-x-_plkaqhoe",
        "outputId": "2fc4886e-48da-45d1-f7f4-d1ce9f1d5de5"
      },
      "execution_count": null,
      "outputs": [
        {
          "output_type": "stream",
          "name": "stdout",
          "text": [
            "<spec_loan data>\n",
            "크기 :  13527363 * 23\n",
            "변수명 :  Index(['application_id', 'user_id', 'birth_year', 'gender', 'insert_time',\n",
            "       'credit_score', 'yearly_income', 'income_type', 'company_enter_month',\n",
            "       'employment_type', 'houseown_type', 'desired_amount', 'purpose',\n",
            "       'personal_rehabilitation_yn', 'personal_rehabilitation_complete_yn',\n",
            "       'existing_loan_cnt', 'existing_loan_amt', 'loanapply_insert_time',\n",
            "       'bank_id', 'product_id', 'loan_limit', 'loan_rate', 'is_applied'],\n",
            "      dtype='object')\n",
            "고유한 유저의 수 :  317468\n",
            "고유한 대출신청서의 수 :  968866\n"
          ]
        }
      ]
    },
    {
      "cell_type": "code",
      "source": [
        "#결측값 확인\n",
        "\n",
        "print('Spec_Loan data')\n",
        "print(spec_loan.isna().sum())\n",
        "print('')"
      ],
      "metadata": {
        "colab": {
          "base_uri": "https://localhost:8080/"
        },
        "id": "Sm_uZENBBD7h",
        "outputId": "4143f6a9-8e3e-4adb-a178-543cb4b001b8"
      },
      "execution_count": null,
      "outputs": [
        {
          "output_type": "stream",
          "name": "stdout",
          "text": [
            "Spec_Loan data\n",
            "application_id                                0\n",
            "user_id                                     113\n",
            "birth_year                               128209\n",
            "gender                                   128209\n",
            "insert_time                                 113\n",
            "credit_score                            1509389\n",
            "yearly_income                               119\n",
            "income_type                                 113\n",
            "company_enter_month                      400450\n",
            "employment_type                             113\n",
            "houseown_type                               113\n",
            "desired_amount                              113\n",
            "purpose                                     113\n",
            "personal_rehabilitation_yn              5888814\n",
            "personal_rehabilitation_complete_yn    11794090\n",
            "existing_loan_cnt                       2685822\n",
            "existing_loan_amt                       3890276\n",
            "loanapply_insert_time                         0\n",
            "bank_id                                       0\n",
            "product_id                                    0\n",
            "loan_limit                                 7495\n",
            "loan_rate                                  7495\n",
            "is_applied                              3257239\n",
            "dtype: int64\n",
            "\n"
          ]
        }
      ]
    },
    {
      "cell_type": "code",
      "source": [
        "#loan data에는 있는데 user data에는 없는 경우, 주최측의 안내에 따라 drop\n",
        "\n",
        "spec_loan = spec_loan.dropna(subset = ['user_id']) "
      ],
      "metadata": {
        "id": "1pNEQ7RzbH8G"
      },
      "execution_count": null,
      "outputs": []
    },
    {
      "cell_type": "code",
      "source": [
        "#loan_limit과 loan_rate가 결측치인 경우, 주최측의 안내에 따라 drop\n",
        "\n",
        "spec_loan = spec_loan.dropna(subset = ['loan_limit']) \n",
        "spec_loan = spec_loan.dropna(subset = ['loan_rate'])"
      ],
      "metadata": {
        "id": "BEjfHAE1cXDj"
      },
      "execution_count": null,
      "outputs": []
    },
    {
      "cell_type": "code",
      "source": [
        "#결측값 제거 후 데이터 프레임 정보\n",
        "\n",
        "print('<spec_loan data>')\n",
        "print('크기 : ', len(spec_loan), '*', len(spec_loan.columns))\n",
        "print('변수명 : ', spec_loan.columns)\n",
        "print('고유한 유저의 수 : ', len(spec_loan['user_id'].unique()))\n",
        "print('고유한 대출신청서의 수 : ', len(spec_loan['application_id'].unique()))"
      ],
      "metadata": {
        "colab": {
          "base_uri": "https://localhost:8080/"
        },
        "id": "5KkGULu5bbi0",
        "outputId": "5ab5bc18-1550-4559-a05f-6ca1d73ae518"
      },
      "execution_count": null,
      "outputs": [
        {
          "output_type": "stream",
          "name": "stdout",
          "text": [
            "<spec_loan data>\n",
            "크기 :  13519868 * 23\n",
            "변수명 :  Index(['application_id', 'user_id', 'birth_year', 'gender', 'insert_time',\n",
            "       'credit_score', 'yearly_income', 'income_type', 'company_enter_month',\n",
            "       'employment_type', 'houseown_type', 'desired_amount', 'purpose',\n",
            "       'personal_rehabilitation_yn', 'personal_rehabilitation_complete_yn',\n",
            "       'existing_loan_cnt', 'existing_loan_amt', 'loanapply_insert_time',\n",
            "       'bank_id', 'product_id', 'loan_limit', 'loan_rate', 'is_applied'],\n",
            "      dtype='object')\n",
            "고유한 유저의 수 :  317458\n",
            "고유한 대출신청서의 수 :  968727\n"
          ]
        }
      ]
    },
    {
      "cell_type": "code",
      "source": [
        "#나머지 결측값\n",
        "\n",
        "print('Spec_Loan data')\n",
        "print(spec_loan.isna().sum())\n",
        "print('')"
      ],
      "metadata": {
        "colab": {
          "base_uri": "https://localhost:8080/"
        },
        "id": "E4JHplmWbSQf",
        "outputId": "ff0c1239-7b21-4cda-c156-ca6dde31db2a"
      },
      "execution_count": null,
      "outputs": [
        {
          "output_type": "stream",
          "name": "stdout",
          "text": [
            "Spec_Loan data\n",
            "application_id                                0\n",
            "user_id                                       0\n",
            "birth_year                               128038\n",
            "gender                                   128038\n",
            "insert_time                                   0\n",
            "credit_score                            1508618\n",
            "yearly_income                                 6\n",
            "income_type                                   0\n",
            "company_enter_month                      399201\n",
            "employment_type                               0\n",
            "houseown_type                                 0\n",
            "desired_amount                                0\n",
            "purpose                                       0\n",
            "personal_rehabilitation_yn              5885910\n",
            "personal_rehabilitation_complete_yn    11787488\n",
            "existing_loan_cnt                       2684723\n",
            "existing_loan_amt                       3888718\n",
            "loanapply_insert_time                         0\n",
            "bank_id                                       0\n",
            "product_id                                    0\n",
            "loan_limit                                    0\n",
            "loan_rate                                     0\n",
            "is_applied                              3255482\n",
            "dtype: int64\n",
            "\n"
          ]
        }
      ]
    },
    {
      "cell_type": "markdown",
      "source": [
        "##1.2. 변수 처리"
      ],
      "metadata": {
        "id": "22zsomrD-FIB"
      }
    },
    {
      "cell_type": "markdown",
      "source": [
        "###1.2.1. 변수 조작"
      ],
      "metadata": {
        "id": "4R1k4DokgJWy"
      }
    },
    {
      "cell_type": "code",
      "source": [
        "#태어난 연도를 연령으로 바꾸기\n",
        "\n",
        "spec_loan['birth_year'] = round(2022 - spec_loan['birth_year']) #태어난 연도를 연령으로 바꾸기\n",
        "spec_loan = spec_loan.rename(columns={'birth_year' : 'age'}) #변수명을 연령으로 바꾸기"
      ],
      "metadata": {
        "id": "5orWxupa-JQ5"
      },
      "execution_count": null,
      "outputs": []
    },
    {
      "cell_type": "code",
      "source": [
        "#purpose 변수는 한글과 영어가 혼합돼있어 영어로 통일\n",
        "\n",
        "purpose_rename = []\n",
        "for i in spec_loan['purpose']:\n",
        "  if i == '주택구입':\n",
        "    k = 'BUYHOUSE'\n",
        "  elif i == '전월세보증금':\n",
        "    k = 'HOUSEDEPOSIT'\n",
        "  elif i == '투자':\n",
        "    k = 'INVEST'\n",
        "  elif i == '자동차구입':\n",
        "    k = 'BUYCAR'\n",
        "  elif i == '기타':\n",
        "    k = 'ETC'\n",
        "  elif i == '사업자금':\n",
        "    k = 'BUSINESS'\n",
        "  elif i == '생활비':\n",
        "    k = 'LIVING'\n",
        "  elif i == '대환대출':\n",
        "    k = 'SWITCHLOAN'\n",
        "  else:\n",
        "    k = i\n",
        "  purpose_rename.append(k)\n",
        "spec_loan['purpose'] = purpose_rename"
      ],
      "metadata": {
        "id": "zVx56PhsaSxq"
      },
      "execution_count": null,
      "outputs": []
    },
    {
      "cell_type": "markdown",
      "source": [
        "###1.2.2. 결측치 처리"
      ],
      "metadata": {
        "id": "CwsHqqHVgOcH"
      }
    },
    {
      "cell_type": "code",
      "source": [
        "#결측값이 너무 많은 개인회생관련 칼럼 2개는 drop\n",
        "\n",
        "spec_loan.value_counts('personal_rehabilitation_complete_yn')\n",
        "spec_loan = spec_loan.drop(['personal_rehabilitation_complete_yn', 'personal_rehabilitation_yn'], axis = 1) "
      ],
      "metadata": {
        "id": "gcBnf0Hmck_h"
      },
      "execution_count": null,
      "outputs": []
    },
    {
      "cell_type": "code",
      "source": [
        "#기존대출금액은 결측값이 너무 많고 (약 3백만개) 합리적 추정이 불가능하여 칼럼 drop\n",
        "spec_loan = spec_loan.drop('existing_loan_amt', axis = 1)"
      ],
      "metadata": {
        "id": "EO3nQP_o_GFH"
      },
      "execution_count": null,
      "outputs": []
    },
    {
      "cell_type": "code",
      "source": [
        "#입사월은 결측값이 너무 많고 (약 40만개) 합리적 추정이 불가능하여 칼럼 drop\n",
        "spec_loan = spec_loan.drop('company_enter_month', axis = 1)"
      ],
      "metadata": {
        "id": "onDaHio9b0LL"
      },
      "execution_count": null,
      "outputs": []
    },
    {
      "cell_type": "code",
      "source": [
        "#기존대출개수의 최소값이 1이므로, 결측값은 기존대출이 없다는 것으로 간주\n",
        "\n",
        "spec_loan['existing_loan_cnt'].fillna(0, inplace = True) \n",
        "spec_loan['existing_loan_cnt'].min()"
      ],
      "metadata": {
        "colab": {
          "base_uri": "https://localhost:8080/"
        },
        "id": "h-omd8Z4dHxb",
        "outputId": "5c096c56-95dd-41d1-9943-86da43b89941"
      },
      "execution_count": null,
      "outputs": [
        {
          "output_type": "execute_result",
          "data": {
            "text/plain": [
              "0.0"
            ]
          },
          "metadata": {},
          "execution_count": 56
        }
      ]
    },
    {
      "cell_type": "code",
      "source": [
        "#yearly_income의 경우 결측치가 6으로 매우 작으므로, 해당 칼럼의 평균으로 대체\n",
        "\n",
        "spec_loan['yearly_income'] = spec_loan['yearly_income'].fillna(spec_loan['yearly_income'].mean())"
      ],
      "metadata": {
        "id": "gZGJBdtZdAnQ"
      },
      "execution_count": null,
      "outputs": []
    },
    {
      "cell_type": "code",
      "source": [
        "#credit score의 경우 결측치가 많고 중요한 변수이므로, 선형회귀분석 결과로 대체\n",
        "\n",
        "##선형회귀 결과로 신용점수가 1000점이 넘지 않도록 하기 위하여, 0~1사이의 값으로 min-max 스케일링\n",
        "\n",
        "spec_loan['credit_score'] = minmax_scale(spec_loan['credit_score'])\n",
        "\n",
        "##범주형 변수들을 회귀분석 모델의 인풋으로 사용하기 위하여, 인코딩하는 과정\n",
        "\n",
        "uniq_incom_type = spec_loan['income_type'].unique().tolist() \n",
        "income_type_dict= {'PRACTITIONER':6, 'EARNEDINCOME':5,'EARNEDINCOME2':4 ,\n",
        "                   'PRIVATEBUSINESS':3,'FREELANCER':2,'OTHERINCOME':1, 'nan':0}\n",
        "\n",
        "uniq_house_type= spec_loan['houseown_type'].unique().tolist()\n",
        "house_type_dict= {'자가':4, '배우자':3, '기타가족소유':2, '전월세':1,'nan':0 }\n",
        "\n",
        "uniq_employment_type = spec_loan['employment_type'].unique().tolist()\n",
        "employment_type_dict= {'정규직':4, '계약직':3, '일용직':2, '기타':1 , 'nan':0 }\n",
        "\n",
        "def mapp_income(x):\n",
        "  x= str(x)\n",
        "  x=income_type_dict[x]\n",
        "  return x\n",
        "\n",
        "spec_loan['income_type'] = spec_loan['income_type'].apply(mapp_income)\n",
        "\n",
        "def mapp_house(x):\n",
        "  x= str(x)\n",
        "  x=house_type_dict[x]\n",
        "  return x\n",
        "\n",
        "spec_loan['houseown_type'] = spec_loan['houseown_type'].apply(mapp_house)\n",
        "\n",
        "def mapp_emp(x):\n",
        "  x= str(x)\n",
        "  x=employment_type_dict[x]\n",
        "  return x\n",
        "\n",
        "spec_loan['employment_type'] = spec_loan['employment_type'].apply(mapp_emp)\n",
        "\n",
        "##금리 및 대출한도를 회귀모형의 입력변수로 사용\n",
        "##단, 개인 내에서도 금리 및 대출한도가 바뀐다는 점을 감안하여 개인이 제시 받은 평균 금리 및 평균 한도로 대체\n",
        "\n",
        "user_rate_mean = spec_loan.groupby('user_id')['loan_rate'].mean()\n",
        "user_limit_mean = spec_loan.groupby('user_id')['loan_limit'].mean()\n",
        "\n",
        "loan_st = pd.DataFrame()\n",
        "loan_st['user_id'] = spec_loan['user_id'].unique()\n",
        "loan_st = loan_st.sort_values('user_id')\n",
        "loan_st['rate_mean'] = user_rate_mean.tolist()\n",
        "loan_st['limit_mean'] = user_limit_mean.tolist()\n",
        "\n",
        "spec_loan = pd.merge(spec_loan, loan_st, left_on = 'user_id', right_on = 'user_id', how = 'left')\n",
        "\n",
        "##회귀분석 과정\n",
        "\n",
        "X_train = spec_loan[spec_loan['credit_score'].isna() == False] #결측이 아닌 행들을 모델 훈련에 사용\n",
        "X_test =  spec_loan[spec_loan['credit_score'].isna()] #결측인 행들을 테스트셋으로 사용\n",
        "\n",
        "#회귀모형의 종속변수는 신용점수\n",
        "\n",
        "y_train = spec_loan[spec_loan['credit_score'].isna() == False]['credit_score']\n",
        "\n",
        "#회귀모형의 독립변수는 소득, 소득형태, 주거형태, 고용형태, 개인별 평균 대출한도 및 평균 대출금리\n",
        "\n",
        "X_train = X_train[['yearly_income','income_type','houseown_type','employment_type', 'limit_mean', 'limit_mean']] \n",
        "X_test = X_test[['yearly_income','income_type','houseown_type','employment_type', 'limit_mean', 'limit_mean']]\n",
        "\n",
        "lr = LinearRegression()\n",
        "lr.fit(X_train,y_train)\n",
        "\n",
        "##회귀모형의 예측값으로 credit_score 대체\n",
        "\n",
        "y_pred = lr.predict(X_test)\n",
        "spec_loan.loc[X_test.index, 'credit_score'] = y_pred\n",
        "\n",
        "##예측값이 0~1범위를 초과했을 수 있으므로 다시 한 번 스케일링\n",
        "spec_loan['credit_score'] = minmax_scale(spec_loan['credit_score'])\n",
        "\n",
        "##원래 신용점수와 동일하게 0~1000의 값을 갖게 하기 위하여 1000을 곱하기\n",
        "spec_loan['credit_score'] = spec_loan['credit_score'] * 1000\n",
        "\n",
        "##사용한 평균 금리 및 한도는 드랍\n",
        "spec_loan = spec_loan.drop(['limit_mean', 'rate_mean'], axis = 1)\n"
      ],
      "metadata": {
        "id": "KuqPj3hbdh43"
      },
      "execution_count": null,
      "outputs": []
    },
    {
      "cell_type": "code",
      "source": [
        "plt.hist(spec_loan['credit_score']) #스케일-선형회귀가 완료된 신용점수"
      ],
      "metadata": {
        "colab": {
          "base_uri": "https://localhost:8080/"
        },
        "id": "muXfRLbLqwKL",
        "outputId": "43b8c047-c735-4437-df79-94d18cfeb25f"
      },
      "execution_count": null,
      "outputs": [
        {
          "output_type": "execute_result",
          "data": {
            "text/plain": [
              "(array([2.355000e+03, 1.298000e+03, 1.510000e+03, 1.633300e+05,\n",
              "        3.109121e+06, 4.860443e+06, 2.898177e+06, 2.483595e+06,\n",
              "        2.400000e+01, 1.500000e+01]),\n",
              " array([   0.,  100.,  200.,  300.,  400.,  500.,  600.,  700.,  800.,\n",
              "         900., 1000.]),\n",
              " <a list of 10 Patch objects>)"
            ]
          },
          "metadata": {},
          "execution_count": 59
        },
        {
          "output_type": "display_data",
          "data": {
            "text/plain": [
              "<Figure size 432x288 with 1 Axes>"
            ],
            "image/png": "[encoded data removed]"
          },
          "metadata": {
            "needs_background": "light"
          }
        }
      ]
    },
    {
      "cell_type": "code",
      "source": [
        "#결측값 제거 후 데이터 프레임 정보\n",
        "\n",
        "print('<spec_loan data>')\n",
        "print('크기 : ', len(spec_loan), '*', len(spec_loan.columns))\n",
        "print('변수명 : ', spec_loan.columns)\n",
        "print('고유한 유저의 수 : ', len(spec_loan['user_id'].unique()))\n",
        "print('고유한 대출신청서의 수 : ', len(spec_loan['application_id'].unique()))"
      ],
      "metadata": {
        "colab": {
          "base_uri": "https://localhost:8080/"
        },
        "id": "tiD6EOSVfqdi",
        "outputId": "623538a1-025b-419d-d589-b3d5953b48df"
      },
      "execution_count": null,
      "outputs": [
        {
          "output_type": "stream",
          "name": "stdout",
          "text": [
            "<spec_loan data>\n",
            "크기 :  13519868 * 19\n",
            "변수명 :  Index(['application_id', 'user_id', 'age', 'gender', 'insert_time',\n",
            "       'credit_score', 'yearly_income', 'income_type', 'employment_type',\n",
            "       'houseown_type', 'desired_amount', 'purpose', 'existing_loan_cnt',\n",
            "       'loanapply_insert_time', 'bank_id', 'product_id', 'loan_limit',\n",
            "       'loan_rate', 'is_applied'],\n",
            "      dtype='object')\n",
            "고유한 유저의 수 :  317458\n",
            "고유한 대출신청서의 수 :  968727\n"
          ]
        }
      ]
    },
    {
      "cell_type": "code",
      "source": [
        "#결측값 확인\n",
        "\n",
        "print('Spec_Loan data')\n",
        "print(spec_loan.isna().sum())\n",
        "print('')"
      ],
      "metadata": {
        "colab": {
          "base_uri": "https://localhost:8080/"
        },
        "id": "RcrqycKSBiBe",
        "outputId": "b9ad3e68-d3ce-4f7e-e39b-d039a506389f"
      },
      "execution_count": null,
      "outputs": [
        {
          "output_type": "stream",
          "name": "stdout",
          "text": [
            "Spec_Loan data\n",
            "application_id                 0\n",
            "user_id                        0\n",
            "age                       128038\n",
            "gender                    128038\n",
            "insert_time                    0\n",
            "credit_score                   0\n",
            "yearly_income                  0\n",
            "income_type                    0\n",
            "employment_type                0\n",
            "houseown_type                  0\n",
            "desired_amount                 0\n",
            "purpose                        0\n",
            "existing_loan_cnt              0\n",
            "loanapply_insert_time          0\n",
            "bank_id                        0\n",
            "product_id                     0\n",
            "loan_limit                     0\n",
            "loan_rate                      0\n",
            "is_applied               3255482\n",
            "dtype: int64\n",
            "\n"
          ]
        }
      ]
    },
    {
      "cell_type": "markdown",
      "source": [
        "##1.3. 3~5월 데이터와 6월 데이터를 분리"
      ],
      "metadata": {
        "id": "yCblhhowuZYp"
      }
    },
    {
      "cell_type": "markdown",
      "source": [
        "###1.3.1. spec_loan 데이터의 분리"
      ],
      "metadata": {
        "id": "Rh4Usjsxw9LS"
      }
    },
    {
      "cell_type": "code",
      "source": [
        "from datetime import datetime #datetime 함수 사용\n",
        "\n",
        "spec_loan['loanapply_insert_time'] = pd.to_datetime(spec_loan['loanapply_insert_time'], format = '%Y-%m-%d %H:%M:%S')\n",
        "#spec_loan의 loanapply_insert_time 변수를 날짜형 변수로 변환\n",
        "\n",
        "spec_loan_345 = spec_loan[spec_loan['loanapply_insert_time'] < datetime(2022, 6, 1, 0, 0, 0)]\n",
        "spec_loan_6 = spec_loan[spec_loan['loanapply_insert_time'] >= datetime(2022, 6, 1, 0, 0, 0)]\n",
        "#loanapply_insert_time을 기준으로 spec_loan 데이터를 분리"
      ],
      "metadata": {
        "id": "fvb6L7uFuggY"
      },
      "execution_count": null,
      "outputs": []
    },
    {
      "cell_type": "code",
      "source": [
        "print('spec_loan_345의 크기 : ', len(spec_loan_345), '*', len(spec_loan_345.columns))\n",
        "print('spec_loan_345에 포함된 6월 데이터의 수 : ', sum(spec_loan_345['loanapply_insert_time'] >= datetime(2022, 6, 1, 0, 0, 0)))\n",
        "print('고유한 유저의 수 : ', len(spec_loan_345['user_id'].unique()))\n",
        "print('고유한 대출신청서의 수 : ', len(spec_loan_345['application_id'].unique()))\n",
        "print('')\n",
        "print('날짜순으로 정렬하여 6월 데이터 포함 안 된 것 확인')\n",
        "spec_loan_345['loanapply_insert_time'].sort_values()"
      ],
      "metadata": {
        "colab": {
          "base_uri": "https://localhost:8080/"
        },
        "id": "vpAP8iWIyGgV",
        "outputId": "284fabc4-e424-4d84-c8cc-236e80d1b6df"
      },
      "execution_count": null,
      "outputs": [
        {
          "output_type": "stream",
          "name": "stdout",
          "text": [
            "spec_loan_345의 크기 :  10264386 * 19\n",
            "spec_loan_345에 포함된 6월 데이터의 수 :  0\n",
            "고유한 유저의 수 :  259321\n",
            "고유한 대출신청서의 수 :  728862\n",
            "\n",
            "날짜순으로 정렬하여 6월 데이터 포함 안 된 것 확인\n"
          ]
        },
        {
          "output_type": "execute_result",
          "data": {
            "text/plain": [
              "754620    2022-03-01 00:11:36\n",
              "1116251   2022-03-01 00:12:05\n",
              "1116254   2022-03-01 00:12:05\n",
              "1116252   2022-03-01 00:12:06\n",
              "2659169   2022-03-01 00:12:06\n",
              "                  ...        \n",
              "1385926   2022-05-31 23:54:28\n",
              "1385936   2022-05-31 23:54:28\n",
              "1385940   2022-05-31 23:54:29\n",
              "1385930   2022-05-31 23:54:37\n",
              "688398    2022-05-31 23:54:38\n",
              "Name: loanapply_insert_time, Length: 10264386, dtype: datetime64[ns]"
            ]
          },
          "metadata": {},
          "execution_count": 63
        }
      ]
    },
    {
      "cell_type": "code",
      "source": [
        "spec_loan_345.isna().sum()"
      ],
      "metadata": {
        "colab": {
          "base_uri": "https://localhost:8080/"
        },
        "id": "LqUne56FF4Rz",
        "outputId": "398d2cff-7b1c-41ed-b76c-076449cc1837"
      },
      "execution_count": null,
      "outputs": [
        {
          "output_type": "execute_result",
          "data": {
            "text/plain": [
              "application_id               0\n",
              "user_id                      0\n",
              "age                      91585\n",
              "gender                   91585\n",
              "insert_time                  0\n",
              "credit_score                 0\n",
              "yearly_income                0\n",
              "income_type                  0\n",
              "employment_type              0\n",
              "houseown_type                0\n",
              "desired_amount               0\n",
              "purpose                      0\n",
              "existing_loan_cnt            0\n",
              "loanapply_insert_time        0\n",
              "bank_id                      0\n",
              "product_id                   0\n",
              "loan_limit                   0\n",
              "loan_rate                    0\n",
              "is_applied                   0\n",
              "dtype: int64"
            ]
          },
          "metadata": {},
          "execution_count": 64
        }
      ]
    },
    {
      "cell_type": "code",
      "source": [
        "print('spec_loan_6의 크기 : ', len(spec_loan_6), '*', len(spec_loan_6.columns))\n",
        "print('spec_loan_6에 포함된 3~5월 데이터의 수 : ', sum(spec_loan_6['loanapply_insert_time'] < datetime(2022, 6, 1, 0, 0, 0)))\n",
        "print('고유한 유저의 수 : ', len(spec_loan_6['user_id'].unique()))\n",
        "print('고유한 대출신청서의 수 : ', len(spec_loan_6['application_id'].unique()))\n",
        "print('')\n",
        "print('날짜순으로 정렬하여 3~5월 데이터 포함 안 된 것 확인')\n",
        "spec_loan_6['loanapply_insert_time'].sort_values()"
      ],
      "metadata": {
        "colab": {
          "base_uri": "https://localhost:8080/"
        },
        "id": "W4eYoiJj1eJK",
        "outputId": "811852cf-bac9-4ba1-a3a3-7ae517b7d722"
      },
      "execution_count": null,
      "outputs": [
        {
          "output_type": "stream",
          "name": "stdout",
          "text": [
            "spec_loan_6의 크기 :  3255482 * 19\n",
            "spec_loan_6에 포함된 3~5월 데이터의 수 :  0\n",
            "고유한 유저의 수 :  118185\n",
            "고유한 대출신청서의 수 :  239865\n",
            "\n",
            "날짜순으로 정렬하여 3~5월 데이터 포함 안 된 것 확인\n"
          ]
        },
        {
          "output_type": "execute_result",
          "data": {
            "text/plain": [
              "6628576   2022-06-01 00:12:24\n",
              "6685263   2022-06-01 00:12:24\n",
              "6685261   2022-06-01 00:12:24\n",
              "6685257   2022-06-01 00:12:24\n",
              "6685258   2022-06-01 00:12:25\n",
              "                  ...        \n",
              "9020207   2022-06-30 23:54:48\n",
              "9020205   2022-06-30 23:54:48\n",
              "9020201   2022-06-30 23:54:48\n",
              "8978433   2022-06-30 23:54:52\n",
              "8978431   2022-06-30 23:55:00\n",
              "Name: loanapply_insert_time, Length: 3255482, dtype: datetime64[ns]"
            ]
          },
          "metadata": {},
          "execution_count": 65
        }
      ]
    },
    {
      "cell_type": "markdown",
      "source": [
        "###1.3.2. log 데이터의 분리"
      ],
      "metadata": {
        "id": "el8GCRLo1wNb"
      }
    },
    {
      "cell_type": "code",
      "source": [
        "log['timestamp'] = pd.to_datetime(log['timestamp'], format = '%Y-%m-%d %H:%M:%S')\n",
        "#spec_loan의 timestamp 변수를 날짜형 변수로 변환\n",
        "\n",
        "log_345 = log[log['timestamp'] < datetime(2022, 6, 1, 0, 0, 0)]\n",
        "log_6 = log[log['timestamp'] >= datetime(2022, 6, 1, 0, 0, 0)]\n",
        "#timestamp를 기준으로 log 데이터를 분리"
      ],
      "metadata": {
        "id": "mrYuMs1Z2cJF"
      },
      "execution_count": null,
      "outputs": []
    },
    {
      "cell_type": "code",
      "source": [
        "print('log_345의 크기 : ', len(log_345), '*', len(log_345.columns))\n",
        "print('log_345에 포함된 6월 데이터의 수 : ', sum(log_345['timestamp'] >= datetime(2022, 6, 1, 0, 0, 0)))\n",
        "print('고유한 유저의 수 : ', len(log_345['user_id'].unique()))\n",
        "print('')\n",
        "print('날짜순으로 정렬하여 6월 데이터 포함 안 된 것 확인')\n",
        "log_345['timestamp'].sort_values()"
      ],
      "metadata": {
        "colab": {
          "base_uri": "https://localhost:8080/"
        },
        "id": "u6fCLWQZ3QN0",
        "outputId": "344faced-3feb-4073-81f4-e8763a4c1e32"
      },
      "execution_count": null,
      "outputs": [
        {
          "output_type": "stream",
          "name": "stdout",
          "text": [
            "log_345의 크기 :  12907328 * 6\n",
            "log_345에 포함된 6월 데이터의 수 :  0\n",
            "고유한 유저의 수 :  479773\n",
            "\n",
            "날짜순으로 정렬하여 6월 데이터 포함 안 된 것 확인\n"
          ]
        },
        {
          "output_type": "execute_result",
          "data": {
            "text/plain": [
              "4836383   2022-03-01 00:00:00\n",
              "475653    2022-03-01 00:00:00\n",
              "3640942   2022-03-01 00:00:00\n",
              "6354402   2022-03-01 00:00:03\n",
              "2809      2022-03-01 00:00:03\n",
              "                  ...        \n",
              "4889342   2022-05-31 23:59:54\n",
              "4889343   2022-05-31 23:59:54\n",
              "6979109   2022-05-31 23:59:57\n",
              "6979107   2022-05-31 23:59:57\n",
              "8859927   2022-05-31 23:59:59\n",
              "Name: timestamp, Length: 12907328, dtype: datetime64[ns]"
            ]
          },
          "metadata": {},
          "execution_count": 67
        }
      ]
    },
    {
      "cell_type": "code",
      "source": [
        "print('log_6의 크기 : ', len(log_6), '*', len(log_6.columns))\n",
        "print('log_6에 포함된 3~5월 데이터의 수 : ', sum(log_6['timestamp'] < datetime(2022, 6, 1, 0, 0, 0)))\n",
        "print('고유한 유저의 수 : ', len(log_6['user_id'].unique()))\n",
        "print('')\n",
        "print('날짜순으로 정렬하여 6월 데이터 포함 안 된 것 확인')\n",
        "log_6['timestamp'].sort_values()"
      ],
      "metadata": {
        "colab": {
          "base_uri": "https://localhost:8080/"
        },
        "id": "ilQLagTp3cRC",
        "outputId": "a6a5eb2c-41d6-4cbf-c3fe-170e12d417ee"
      },
      "execution_count": null,
      "outputs": [
        {
          "output_type": "stream",
          "name": "stdout",
          "text": [
            "log_6의 크기 :  4936665 * 6\n",
            "log_6에 포함된 3~5월 데이터의 수 :  0\n",
            "고유한 유저의 수 :  305782\n",
            "\n",
            "날짜순으로 정렬하여 6월 데이터 포함 안 된 것 확인\n"
          ]
        },
        {
          "output_type": "execute_result",
          "data": {
            "text/plain": [
              "1330048    2022-06-01 00:00:02\n",
              "1330047    2022-06-01 00:00:02\n",
              "13067247   2022-06-01 00:00:04\n",
              "16342736   2022-06-01 00:00:05\n",
              "16342737   2022-06-01 00:00:05\n",
              "                   ...        \n",
              "1285893    2022-06-30 23:59:53\n",
              "11511066   2022-06-30 23:59:56\n",
              "11511067   2022-06-30 23:59:57\n",
              "6011502    2022-06-30 23:59:57\n",
              "6011503    2022-06-30 23:59:58\n",
              "Name: timestamp, Length: 4936665, dtype: datetime64[ns]"
            ]
          },
          "metadata": {},
          "execution_count": 68
        }
      ]
    },
    {
      "cell_type": "markdown",
      "source": [
        "##1.4. 한 번이라도 대출을 신청한 경우를 표시"
      ],
      "metadata": {
        "id": "6YQN1maMqEqr"
      }
    },
    {
      "cell_type": "code",
      "source": [
        "spec_loan_345_applied = spec_loan_345[spec_loan_345['is_applied'] == 1] #대출이 신청된 경우\n",
        "spec_loan_345_denied = spec_loan_345[spec_loan_345['is_applied'] == 0] #대출이 신청되지 않은 경우\n",
        "\n",
        "print('3~5월에 대출이 신청된 경우는 총 ', len(spec_loan_345_applied), '번')\n",
        "print('3~5월에 대출이 거절된 경우는 총 ', len(spec_loan_345_denied), '번')"
      ],
      "metadata": {
        "colab": {
          "base_uri": "https://localhost:8080/"
        },
        "id": "UHqsqyWVqKYq",
        "outputId": "e7897960-0d95-494e-9dbf-0fce2247c167"
      },
      "execution_count": null,
      "outputs": [
        {
          "output_type": "stream",
          "name": "stdout",
          "text": [
            "3~5월에 대출이 신청된 경우는 총  554711 번\n",
            "3~5월에 대출이 거절된 경우는 총  9709675 번\n"
          ]
        }
      ]
    },
    {
      "cell_type": "code",
      "source": [
        "spec_loan_345_applied_unique = spec_loan_345_applied.drop_duplicates(['user_id']) #대출이 신청된 경우에서 고유한 user_id만 남기기\n",
        "spec_loan_345_denied_unique = spec_loan_345_denied.drop_duplicates(['user_id']) #대출이 신청되지 않은 경우에서 고유한 user_id만 남기기\n",
        "\n",
        "appid = spec_loan_345_applied_unique['user_id'].unique() #대출이 신청된 경우의 user_id를 저장, 즉 대출을 한 번이라도 신청한 유저들\n",
        "spec_loan_345_denied_unique_real = spec_loan_345_denied_unique[spec_loan_345_denied_unique['user_id'].isin(appid) == False] \n",
        "#대출이 신청되지 않은 경우는, 대출을 신청한 유저가 해당 대출상품을 신청하지 않은 경우와, 대출을 아예 신청하지 않은 유저인 경우를 포함하고 있음\n",
        "#대출을 아예 신청하지 않은 유저만을 분리해내기 위해서, appid에 저장된 user_id에 포함되지 않은 user_id의 행들을 남겼음\n",
        "\n",
        "print('3~5월에 한 번이라도 대출을 신청한 유저의 수 : ', len(spec_loan_345_applied_unique))\n",
        "print('3~5월에 한 번도 대출을 신청하지 않은 유저의 수 : ', len(spec_loan_345_denied_unique_real))"
      ],
      "metadata": {
        "id": "V6A9RLyUq7-H",
        "colab": {
          "base_uri": "https://localhost:8080/"
        },
        "outputId": "09a61016-2f70-4ac3-9a6d-8faeaa505363"
      },
      "execution_count": null,
      "outputs": [
        {
          "output_type": "stream",
          "name": "stdout",
          "text": [
            "3~5월에 한 번이라도 대출을 신청한 유저의 수 :  176656\n",
            "3~5월에 한 번도 대출을 신청하지 않은 유저의 수 :  82665\n"
          ]
        }
      ]
    },
    {
      "cell_type": "code",
      "source": [
        "user_applied = pd.concat([spec_loan_345_applied_unique, spec_loan_345_denied_unique_real])[['user_id', 'is_applied']]\n",
        "user_applied = user_applied.rename(columns={'is_applied' : 'applied_once'}) #기존의 is_applied와 구분하기 위해 칼럼명을 applied_once로 변경\n",
        "user_applied #유저별로 한 번이라도 대출을 신청한 사람인지, 그렇지 않은 사람인지 구분하는 데이터프레임"
      ],
      "metadata": {
        "colab": {
          "base_uri": "https://localhost:8080/"
        },
        "id": "KMmDdymhbZ7Z",
        "outputId": "6161d84e-408e-4b4c-8bac-cde71b2426c0"
      },
      "execution_count": null,
      "outputs": [
        {
          "output_type": "execute_result",
          "data": {
            "text/plain": [
              "           user_id  applied_once\n",
              "13276     346970.0           1.0\n",
              "13296     558819.0           1.0\n",
              "13375      68769.0           1.0\n",
              "13400     561011.0           1.0\n",
              "13417      85206.0           1.0\n",
              "...            ...           ...\n",
              "13511637   72021.0           0.0\n",
              "13511864  815960.0           0.0\n",
              "13511866    3625.0           0.0\n",
              "13511871   52722.0           0.0\n",
              "13511879  479850.0           0.0\n",
              "\n",
              "[259321 rows x 2 columns]"
            ],
            "text/html": [
              "\n",
              "  <div id=\"df-469c41a2-373f-4587-a54d-80e133f91c97\">\n",
              "    <div class=\"colab-df-container\">\n",
              "      <div>\n",
              "<style scoped>\n",
              "    .dataframe tbody tr th:only-of-type {\n",
              "        vertical-align: middle;\n",
              "    }\n",
              "\n",
              "    .dataframe tbody tr th {\n",
              "        vertical-align: top;\n",
              "    }\n",
              "\n",
              "    .dataframe thead th {\n",
              "        text-align: right;\n",
              "    }\n",
              "</style>\n",
              "<table border=\"1\" class=\"dataframe\">\n",
              "  <thead>\n",
              "    <tr style=\"text-align: right;\">\n",
              "      <th></th>\n",
              "      <th>user_id</th>\n",
              "      <th>applied_once</th>\n",
              "    </tr>\n",
              "  </thead>\n",
              "  <tbody>\n",
              "    <tr>\n",
              "      <th>13276</th>\n",
              "      <td>346970.0</td>\n",
              "      <td>1.0</td>\n",
              "    </tr>\n",
              "    <tr>\n",
              "      <th>13296</th>\n",
              "      <td>558819.0</td>\n",
              "      <td>1.0</td>\n",
              "    </tr>\n",
              "    <tr>\n",
              "      <th>13375</th>\n",
              "      <td>68769.0</td>\n",
              "      <td>1.0</td>\n",
              "    </tr>\n",
              "    <tr>\n",
              "      <th>13400</th>\n",
              "      <td>561011.0</td>\n",
              "      <td>1.0</td>\n",
              "    </tr>\n",
              "    <tr>\n",
              "      <th>13417</th>\n",
              "      <td>85206.0</td>\n",
              "      <td>1.0</td>\n",
              "    </tr>\n",
              "    <tr>\n",
              "      <th>...</th>\n",
              "      <td>...</td>\n",
              "      <td>...</td>\n",
              "    </tr>\n",
              "    <tr>\n",
              "      <th>13511637</th>\n",
              "      <td>72021.0</td>\n",
              "      <td>0.0</td>\n",
              "    </tr>\n",
              "    <tr>\n",
              "      <th>13511864</th>\n",
              "      <td>815960.0</td>\n",
              "      <td>0.0</td>\n",
              "    </tr>\n",
              "    <tr>\n",
              "      <th>13511866</th>\n",
              "      <td>3625.0</td>\n",
              "      <td>0.0</td>\n",
              "    </tr>\n",
              "    <tr>\n",
              "      <th>13511871</th>\n",
              "      <td>52722.0</td>\n",
              "      <td>0.0</td>\n",
              "    </tr>\n",
              "    <tr>\n",
              "      <th>13511879</th>\n",
              "      <td>479850.0</td>\n",
              "      <td>0.0</td>\n",
              "    </tr>\n",
              "  </tbody>\n",
              "</table>\n",
              "<p>259321 rows × 2 columns</p>\n",
              "</div>\n",
              "      <button class=\"colab-df-convert\" onclick=\"convertToInteractive('df-469c41a2-373f-4587-a54d-80e133f91c97')\"\n",
              "              title=\"Convert this dataframe to an interactive table.\"\n",
              "              style=\"display:none;\">\n",
              "        \n",
              "  <svg xmlns=\"http://www.w3.org/2000/svg\" height=\"24px\"viewBox=\"0 0 24 24\"\n",
              "       width=\"24px\">\n",
              "    <path d=\"M0 0h24v24H0V0z\" fill=\"none\"/>\n",
              "    <path d=\"M18.56 5.44l.94 2.06.94-2.06 2.06-.94-2.06-.94-.94-2.06-.94 2.06-2.06.94zm-11 1L8.5 8.5l.94-2.06 2.06-.94-2.06-.94L8.5 2.5l-.94 2.06-2.06.94zm10 10l.94 2.06.94-2.06 2.06-.94-2.06-.94-.94-2.06-.94 2.06-2.06.94z\"/><path d=\"M17.41 7.96l-1.37-1.37c-.4-.4-.92-.59-1.43-.59-.52 0-1.04.2-1.43.59L10.3 9.45l-7.72 7.72c-.78.78-.78 2.05 0 2.83L4 21.41c.39.39.9.59 1.41.59.51 0 1.02-.2 1.41-.59l7.78-7.78 2.81-2.81c.8-.78.8-2.07 0-2.86zM5.41 20L4 18.59l7.72-7.72 1.47 1.35L5.41 20z\"/>\n",
              "  </svg>\n",
              "      </button>\n",
              "      \n",
              "  <style>\n",
              "    .colab-df-container {\n",
              "      display:flex;\n",
              "      flex-wrap:wrap;\n",
              "      gap: 12px;\n",
              "    }\n",
              "\n",
              "    .colab-df-convert {\n",
              "      background-color: #E8F0FE;\n",
              "      border: none;\n",
              "      border-radius: 50%;\n",
              "      cursor: pointer;\n",
              "      display: none;\n",
              "      fill: #1967D2;\n",
              "      height: 32px;\n",
              "      padding: 0 0 0 0;\n",
              "      width: 32px;\n",
              "    }\n",
              "\n",
              "    .colab-df-convert:hover {\n",
              "      background-color: #E2EBFA;\n",
              "      box-shadow: 0px 1px 2px rgba(60, 64, 67, 0.3), 0px 1px 3px 1px rgba(60, 64, 67, 0.15);\n",
              "      fill: #174EA6;\n",
              "    }\n",
              "\n",
              "    [theme=dark] .colab-df-convert {\n",
              "      background-color: #3B4455;\n",
              "      fill: #D2E3FC;\n",
              "    }\n",
              "\n",
              "    [theme=dark] .colab-df-convert:hover {\n",
              "      background-color: #434B5C;\n",
              "      box-shadow: 0px 1px 3px 1px rgba(0, 0, 0, 0.15);\n",
              "      filter: drop-shadow(0px 1px 2px rgba(0, 0, 0, 0.3));\n",
              "      fill: #FFFFFF;\n",
              "    }\n",
              "  </style>\n",
              "\n",
              "      <script>\n",
              "        const buttonEl =\n",
              "          document.querySelector('#df-469c41a2-373f-4587-a54d-80e133f91c97 button.colab-df-convert');\n",
              "        buttonEl.style.display =\n",
              "          google.colab.kernel.accessAllowed ? 'block' : 'none';\n",
              "\n",
              "        async function convertToInteractive(key) {\n",
              "          const element = document.querySelector('#df-469c41a2-373f-4587-a54d-80e133f91c97');\n",
              "          const dataTable =\n",
              "            await google.colab.kernel.invokeFunction('convertToInteractive',\n",
              "                                                     [key], {});\n",
              "          if (!dataTable) return;\n",
              "\n",
              "          const docLinkHtml = 'Like what you see? Visit the ' +\n",
              "            '<a target=\"_blank\" href=https://colab.research.google.com/notebooks/data_table.ipynb>data table notebook</a>'\n",
              "            + ' to learn more about interactive tables.';\n",
              "          element.innerHTML = '';\n",
              "          dataTable['output_type'] = 'display_data';\n",
              "          await google.colab.output.renderOutput(dataTable, element);\n",
              "          const docLink = document.createElement('div');\n",
              "          docLink.innerHTML = docLinkHtml;\n",
              "          element.appendChild(docLink);\n",
              "        }\n",
              "      </script>\n",
              "    </div>\n",
              "  </div>\n",
              "  "
            ]
          },
          "metadata": {},
          "execution_count": 71
        }
      ]
    },
    {
      "cell_type": "code",
      "source": [
        "#applied_once를 원 데이터프레임에 칼럼으로 추가\n",
        "\n",
        "spec_loan_345 = pd.merge(spec_loan_345, user_applied, left_on='user_id', right_on='user_id', how='left')\n",
        "spec_loan_345 "
      ],
      "metadata": {
        "colab": {
          "base_uri": "https://localhost:8080/"
        },
        "id": "N8LdeT5xb-FJ",
        "outputId": "a23eae6c-3547-4f77-b830-095c67243ea8"
      },
      "execution_count": null,
      "outputs": [
        {
          "output_type": "execute_result",
          "data": {
            "text/plain": [
              "          application_id   user_id   age  gender          insert_time  \\\n",
              "0                2157865  346970.0  52.0     1.0  2022-05-09 08:44:57   \n",
              "1                 576643  545882.0  45.0     1.0  2022-05-09 10:54:51   \n",
              "2                 576643  545882.0  45.0     1.0  2022-05-09 10:54:51   \n",
              "3                2136706  558819.0  39.0     1.0  2022-05-09 10:41:05   \n",
              "4                2136706  558819.0  39.0     1.0  2022-05-09 10:41:05   \n",
              "...                  ...       ...   ...     ...                  ...   \n",
              "10264381         1969227  109899.0  45.0     1.0  2022-05-16 14:42:55   \n",
              "10264382         1969227  109899.0  45.0     1.0  2022-05-16 14:42:55   \n",
              "10264383         1969227  109899.0  45.0     1.0  2022-05-16 14:42:55   \n",
              "10264384         1969227  109899.0  45.0     1.0  2022-05-16 14:42:55   \n",
              "10264385         1969227  109899.0  45.0     1.0  2022-05-16 14:42:55   \n",
              "\n",
              "          credit_score  yearly_income  income_type  employment_type  \\\n",
              "0           405.463757     32000000.0            5                4   \n",
              "1           439.252403     72000000.0            5                4   \n",
              "2           439.252403     72000000.0            5                4   \n",
              "3           574.406989     39000000.0            5                4   \n",
              "4           574.406989     39000000.0            5                4   \n",
              "...                ...            ...          ...              ...   \n",
              "10264381    456.146726     37000000.0            5                4   \n",
              "10264382    456.146726     37000000.0            5                4   \n",
              "10264383    456.146726     37000000.0            5                4   \n",
              "10264384    456.146726     37000000.0            5                4   \n",
              "10264385    456.146726     37000000.0            5                4   \n",
              "\n",
              "          houseown_type  desired_amount     purpose  existing_loan_cnt  \\\n",
              "0                     4      10000000.0      LIVING               12.0   \n",
              "1                     1      20000000.0      LIVING                7.0   \n",
              "2                     1      20000000.0      LIVING                7.0   \n",
              "3                     1      80000000.0  SWITCHLOAN                2.0   \n",
              "4                     1      80000000.0  SWITCHLOAN                2.0   \n",
              "...                 ...             ...         ...                ...   \n",
              "10264381              4      20000000.0  SWITCHLOAN                9.0   \n",
              "10264382              4      20000000.0  SWITCHLOAN                9.0   \n",
              "10264383              4      20000000.0  SWITCHLOAN                9.0   \n",
              "10264384              4      20000000.0  SWITCHLOAN                9.0   \n",
              "10264385              4      20000000.0  SWITCHLOAN                9.0   \n",
              "\n",
              "         loanapply_insert_time  bank_id  product_id  loan_limit  loan_rate  \\\n",
              "0          2022-05-09 08:44:59       54         235  20000000.0       16.5   \n",
              "1          2022-05-09 10:54:53       54         235  11000000.0       16.5   \n",
              "2          2022-05-09 10:54:53       11         118   3000000.0       20.0   \n",
              "3          2022-05-09 10:41:06       42         216  10000000.0       13.5   \n",
              "4          2022-05-09 10:41:07       25         169  22000000.0       15.9   \n",
              "...                        ...      ...         ...         ...        ...   \n",
              "10264381   2022-05-16 14:42:58        2           7  30000000.0       13.6   \n",
              "10264382   2022-05-16 14:42:57       33         110   9000000.0       14.4   \n",
              "10264383   2022-05-16 14:42:56       50         142   3000000.0       11.2   \n",
              "10264384   2022-05-16 14:43:18       22         100   4000000.0       15.3   \n",
              "10264385   2022-05-16 14:42:56       19         231   9000000.0       15.5   \n",
              "\n",
              "          is_applied  applied_once  \n",
              "0                1.0           1.0  \n",
              "1                0.0           1.0  \n",
              "2                0.0           1.0  \n",
              "3                0.0           1.0  \n",
              "4                0.0           1.0  \n",
              "...              ...           ...  \n",
              "10264381         0.0           1.0  \n",
              "10264382         0.0           1.0  \n",
              "10264383         0.0           1.0  \n",
              "10264384         0.0           1.0  \n",
              "10264385         0.0           1.0  \n",
              "\n",
              "[10264386 rows x 20 columns]"
            ],
            "text/html": [
              "\n",
              "  <div id=\"df-3cc37a89-4b41-479b-b1e5-e8d29170db2a\">\n",
              "    <div class=\"colab-df-container\">\n",
              "      <div>\n",
              "<style scoped>\n",
              "    .dataframe tbody tr th:only-of-type {\n",
              "        vertical-align: middle;\n",
              "    }\n",
              "\n",
              "    .dataframe tbody tr th {\n",
              "        vertical-align: top;\n",
              "    }\n",
              "\n",
              "    .dataframe thead th {\n",
              "        text-align: right;\n",
              "    }\n",
              "</style>\n",
              "<table border=\"1\" class=\"dataframe\">\n",
              "  <thead>\n",
              "    <tr style=\"text-align: right;\">\n",
              "      <th></th>\n",
              "      <th>application_id</th>\n",
              "      <th>user_id</th>\n",
              "      <th>age</th>\n",
              "      <th>gender</th>\n",
              "      <th>insert_time</th>\n",
              "      <th>credit_score</th>\n",
              "      <th>yearly_income</th>\n",
              "      <th>income_type</th>\n",
              "      <th>employment_type</th>\n",
              "      <th>houseown_type</th>\n",
              "      <th>desired_amount</th>\n",
              "      <th>purpose</th>\n",
              "      <th>existing_loan_cnt</th>\n",
              "      <th>loanapply_insert_time</th>\n",
              "      <th>bank_id</th>\n",
              "      <th>product_id</th>\n",
              "      <th>loan_limit</th>\n",
              "      <th>loan_rate</th>\n",
              "      <th>is_applied</th>\n",
              "      <th>applied_once</th>\n",
              "    </tr>\n",
              "  </thead>\n",
              "  <tbody>\n",
              "    <tr>\n",
              "      <th>0</th>\n",
              "      <td>2157865</td>\n",
              "      <td>346970.0</td>\n",
              "      <td>52.0</td>\n",
              "      <td>1.0</td>\n",
              "      <td>2022-05-09 08:44:57</td>\n",
              "      <td>405.463757</td>\n",
              "      <td>32000000.0</td>\n",
              "      <td>5</td>\n",
              "      <td>4</td>\n",
              "      <td>4</td>\n",
              "      <td>10000000.0</td>\n",
              "      <td>LIVING</td>\n",
              "      <td>12.0</td>\n",
              "      <td>2022-05-09 08:44:59</td>\n",
              "      <td>54</td>\n",
              "      <td>235</td>\n",
              "      <td>20000000.0</td>\n",
              "      <td>16.5</td>\n",
              "      <td>1.0</td>\n",
              "      <td>1.0</td>\n",
              "    </tr>\n",
              "    <tr>\n",
              "      <th>1</th>\n",
              "      <td>576643</td>\n",
              "      <td>545882.0</td>\n",
              "      <td>45.0</td>\n",
              "      <td>1.0</td>\n",
              "      <td>2022-05-09 10:54:51</td>\n",
              "      <td>439.252403</td>\n",
              "      <td>72000000.0</td>\n",
              "      <td>5</td>\n",
              "      <td>4</td>\n",
              "      <td>1</td>\n",
              "      <td>20000000.0</td>\n",
              "      <td>LIVING</td>\n",
              "      <td>7.0</td>\n",
              "      <td>2022-05-09 10:54:53</td>\n",
              "      <td>54</td>\n",
              "      <td>235</td>\n",
              "      <td>11000000.0</td>\n",
              "      <td>16.5</td>\n",
              "      <td>0.0</td>\n",
              "      <td>1.0</td>\n",
              "    </tr>\n",
              "    <tr>\n",
              "      <th>2</th>\n",
              "      <td>576643</td>\n",
              "      <td>545882.0</td>\n",
              "      <td>45.0</td>\n",
              "      <td>1.0</td>\n",
              "      <td>2022-05-09 10:54:51</td>\n",
              "      <td>439.252403</td>\n",
              "      <td>72000000.0</td>\n",
              "      <td>5</td>\n",
              "      <td>4</td>\n",
              "      <td>1</td>\n",
              "      <td>20000000.0</td>\n",
              "      <td>LIVING</td>\n",
              "      <td>7.0</td>\n",
              "      <td>2022-05-09 10:54:53</td>\n",
              "      <td>11</td>\n",
              "      <td>118</td>\n",
              "      <td>3000000.0</td>\n",
              "      <td>20.0</td>\n",
              "      <td>0.0</td>\n",
              "      <td>1.0</td>\n",
              "    </tr>\n",
              "    <tr>\n",
              "      <th>3</th>\n",
              "      <td>2136706</td>\n",
              "      <td>558819.0</td>\n",
              "      <td>39.0</td>\n",
              "      <td>1.0</td>\n",
              "      <td>2022-05-09 10:41:05</td>\n",
              "      <td>574.406989</td>\n",
              "      <td>39000000.0</td>\n",
              "      <td>5</td>\n",
              "      <td>4</td>\n",
              "      <td>1</td>\n",
              "      <td>80000000.0</td>\n",
              "      <td>SWITCHLOAN</td>\n",
              "      <td>2.0</td>\n",
              "      <td>2022-05-09 10:41:06</td>\n",
              "      <td>42</td>\n",
              "      <td>216</td>\n",
              "      <td>10000000.0</td>\n",
              "      <td>13.5</td>\n",
              "      <td>0.0</td>\n",
              "      <td>1.0</td>\n",
              "    </tr>\n",
              "    <tr>\n",
              "      <th>4</th>\n",
              "      <td>2136706</td>\n",
              "      <td>558819.0</td>\n",
              "      <td>39.0</td>\n",
              "      <td>1.0</td>\n",
              "      <td>2022-05-09 10:41:05</td>\n",
              "      <td>574.406989</td>\n",
              "      <td>39000000.0</td>\n",
              "      <td>5</td>\n",
              "      <td>4</td>\n",
              "      <td>1</td>\n",
              "      <td>80000000.0</td>\n",
              "      <td>SWITCHLOAN</td>\n",
              "      <td>2.0</td>\n",
              "      <td>2022-05-09 10:41:07</td>\n",
              "      <td>25</td>\n",
              "      <td>169</td>\n",
              "      <td>22000000.0</td>\n",
              "      <td>15.9</td>\n",
              "      <td>0.0</td>\n",
              "      <td>1.0</td>\n",
              "    </tr>\n",
              "    <tr>\n",
              "      <th>...</th>\n",
              "      <td>...</td>\n",
              "      <td>...</td>\n",
              "      <td>...</td>\n",
              "      <td>...</td>\n",
              "      <td>...</td>\n",
              "      <td>...</td>\n",
              "      <td>...</td>\n",
              "      <td>...</td>\n",
              "      <td>...</td>\n",
              "      <td>...</td>\n",
              "      <td>...</td>\n",
              "      <td>...</td>\n",
              "      <td>...</td>\n",
              "      <td>...</td>\n",
              "      <td>...</td>\n",
              "      <td>...</td>\n",
              "      <td>...</td>\n",
              "      <td>...</td>\n",
              "      <td>...</td>\n",
              "      <td>...</td>\n",
              "    </tr>\n",
              "    <tr>\n",
              "      <th>10264381</th>\n",
              "      <td>1969227</td>\n",
              "      <td>109899.0</td>\n",
              "      <td>45.0</td>\n",
              "      <td>1.0</td>\n",
              "      <td>2022-05-16 14:42:55</td>\n",
              "      <td>456.146726</td>\n",
              "      <td>37000000.0</td>\n",
              "      <td>5</td>\n",
              "      <td>4</td>\n",
              "      <td>4</td>\n",
              "      <td>20000000.0</td>\n",
              "      <td>SWITCHLOAN</td>\n",
              "      <td>9.0</td>\n",
              "      <td>2022-05-16 14:42:58</td>\n",
              "      <td>2</td>\n",
              "      <td>7</td>\n",
              "      <td>30000000.0</td>\n",
              "      <td>13.6</td>\n",
              "      <td>0.0</td>\n",
              "      <td>1.0</td>\n",
              "    </tr>\n",
              "    <tr>\n",
              "      <th>10264382</th>\n",
              "      <td>1969227</td>\n",
              "      <td>109899.0</td>\n",
              "      <td>45.0</td>\n",
              "      <td>1.0</td>\n",
              "      <td>2022-05-16 14:42:55</td>\n",
              "      <td>456.146726</td>\n",
              "      <td>37000000.0</td>\n",
              "      <td>5</td>\n",
              "      <td>4</td>\n",
              "      <td>4</td>\n",
              "      <td>20000000.0</td>\n",
              "      <td>SWITCHLOAN</td>\n",
              "      <td>9.0</td>\n",
              "      <td>2022-05-16 14:42:57</td>\n",
              "      <td>33</td>\n",
              "      <td>110</td>\n",
              "      <td>9000000.0</td>\n",
              "      <td>14.4</td>\n",
              "      <td>0.0</td>\n",
              "      <td>1.0</td>\n",
              "    </tr>\n",
              "    <tr>\n",
              "      <th>10264383</th>\n",
              "      <td>1969227</td>\n",
              "      <td>109899.0</td>\n",
              "      <td>45.0</td>\n",
              "      <td>1.0</td>\n",
              "      <td>2022-05-16 14:42:55</td>\n",
              "      <td>456.146726</td>\n",
              "      <td>37000000.0</td>\n",
              "      <td>5</td>\n",
              "      <td>4</td>\n",
              "      <td>4</td>\n",
              "      <td>20000000.0</td>\n",
              "      <td>SWITCHLOAN</td>\n",
              "      <td>9.0</td>\n",
              "      <td>2022-05-16 14:42:56</td>\n",
              "      <td>50</td>\n",
              "      <td>142</td>\n",
              "      <td>3000000.0</td>\n",
              "      <td>11.2</td>\n",
              "      <td>0.0</td>\n",
              "      <td>1.0</td>\n",
              "    </tr>\n",
              "    <tr>\n",
              "      <th>10264384</th>\n",
              "      <td>1969227</td>\n",
              "      <td>109899.0</td>\n",
              "      <td>45.0</td>\n",
              "      <td>1.0</td>\n",
              "      <td>2022-05-16 14:42:55</td>\n",
              "      <td>456.146726</td>\n",
              "      <td>37000000.0</td>\n",
              "      <td>5</td>\n",
              "      <td>4</td>\n",
              "      <td>4</td>\n",
              "      <td>20000000.0</td>\n",
              "      <td>SWITCHLOAN</td>\n",
              "      <td>9.0</td>\n",
              "      <td>2022-05-16 14:43:18</td>\n",
              "      <td>22</td>\n",
              "      <td>100</td>\n",
              "      <td>4000000.0</td>\n",
              "      <td>15.3</td>\n",
              "      <td>0.0</td>\n",
              "      <td>1.0</td>\n",
              "    </tr>\n",
              "    <tr>\n",
              "      <th>10264385</th>\n",
              "      <td>1969227</td>\n",
              "      <td>109899.0</td>\n",
              "      <td>45.0</td>\n",
              "      <td>1.0</td>\n",
              "      <td>2022-05-16 14:42:55</td>\n",
              "      <td>456.146726</td>\n",
              "      <td>37000000.0</td>\n",
              "      <td>5</td>\n",
              "      <td>4</td>\n",
              "      <td>4</td>\n",
              "      <td>20000000.0</td>\n",
              "      <td>SWITCHLOAN</td>\n",
              "      <td>9.0</td>\n",
              "      <td>2022-05-16 14:42:56</td>\n",
              "      <td>19</td>\n",
              "      <td>231</td>\n",
              "      <td>9000000.0</td>\n",
              "      <td>15.5</td>\n",
              "      <td>0.0</td>\n",
              "      <td>1.0</td>\n",
              "    </tr>\n",
              "  </tbody>\n",
              "</table>\n",
              "<p>10264386 rows × 20 columns</p>\n",
              "</div>\n",
              "      <button class=\"colab-df-convert\" onclick=\"convertToInteractive('df-3cc37a89-4b41-479b-b1e5-e8d29170db2a')\"\n",
              "              title=\"Convert this dataframe to an interactive table.\"\n",
              "              style=\"display:none;\">\n",
              "        \n",
              "  <svg xmlns=\"http://www.w3.org/2000/svg\" height=\"24px\"viewBox=\"0 0 24 24\"\n",
              "       width=\"24px\">\n",
              "    <path d=\"M0 0h24v24H0V0z\" fill=\"none\"/>\n",
              "    <path d=\"M18.56 5.44l.94 2.06.94-2.06 2.06-.94-2.06-.94-.94-2.06-.94 2.06-2.06.94zm-11 1L8.5 8.5l.94-2.06 2.06-.94-2.06-.94L8.5 2.5l-.94 2.06-2.06.94zm10 10l.94 2.06.94-2.06 2.06-.94-2.06-.94-.94-2.06-.94 2.06-2.06.94z\"/><path d=\"M17.41 7.96l-1.37-1.37c-.4-.4-.92-.59-1.43-.59-.52 0-1.04.2-1.43.59L10.3 9.45l-7.72 7.72c-.78.78-.78 2.05 0 2.83L4 21.41c.39.39.9.59 1.41.59.51 0 1.02-.2 1.41-.59l7.78-7.78 2.81-2.81c.8-.78.8-2.07 0-2.86zM5.41 20L4 18.59l7.72-7.72 1.47 1.35L5.41 20z\"/>\n",
              "  </svg>\n",
              "      </button>\n",
              "      \n",
              "  <style>\n",
              "    .colab-df-container {\n",
              "      display:flex;\n",
              "      flex-wrap:wrap;\n",
              "      gap: 12px;\n",
              "    }\n",
              "\n",
              "    .colab-df-convert {\n",
              "      background-color: #E8F0FE;\n",
              "      border: none;\n",
              "      border-radius: 50%;\n",
              "      cursor: pointer;\n",
              "      display: none;\n",
              "      fill: #1967D2;\n",
              "      height: 32px;\n",
              "      padding: 0 0 0 0;\n",
              "      width: 32px;\n",
              "    }\n",
              "\n",
              "    .colab-df-convert:hover {\n",
              "      background-color: #E2EBFA;\n",
              "      box-shadow: 0px 1px 2px rgba(60, 64, 67, 0.3), 0px 1px 3px 1px rgba(60, 64, 67, 0.15);\n",
              "      fill: #174EA6;\n",
              "    }\n",
              "\n",
              "    [theme=dark] .colab-df-convert {\n",
              "      background-color: #3B4455;\n",
              "      fill: #D2E3FC;\n",
              "    }\n",
              "\n",
              "    [theme=dark] .colab-df-convert:hover {\n",
              "      background-color: #434B5C;\n",
              "      box-shadow: 0px 1px 3px 1px rgba(0, 0, 0, 0.15);\n",
              "      filter: drop-shadow(0px 1px 2px rgba(0, 0, 0, 0.3));\n",
              "      fill: #FFFFFF;\n",
              "    }\n",
              "  </style>\n",
              "\n",
              "      <script>\n",
              "        const buttonEl =\n",
              "          document.querySelector('#df-3cc37a89-4b41-479b-b1e5-e8d29170db2a button.colab-df-convert');\n",
              "        buttonEl.style.display =\n",
              "          google.colab.kernel.accessAllowed ? 'block' : 'none';\n",
              "\n",
              "        async function convertToInteractive(key) {\n",
              "          const element = document.querySelector('#df-3cc37a89-4b41-479b-b1e5-e8d29170db2a');\n",
              "          const dataTable =\n",
              "            await google.colab.kernel.invokeFunction('convertToInteractive',\n",
              "                                                     [key], {});\n",
              "          if (!dataTable) return;\n",
              "\n",
              "          const docLinkHtml = 'Like what you see? Visit the ' +\n",
              "            '<a target=\"_blank\" href=https://colab.research.google.com/notebooks/data_table.ipynb>data table notebook</a>'\n",
              "            + ' to learn more about interactive tables.';\n",
              "          element.innerHTML = '';\n",
              "          dataTable['output_type'] = 'display_data';\n",
              "          await google.colab.output.renderOutput(dataTable, element);\n",
              "          const docLink = document.createElement('div');\n",
              "          docLink.innerHTML = docLinkHtml;\n",
              "          element.appendChild(docLink);\n",
              "        }\n",
              "      </script>\n",
              "    </div>\n",
              "  </div>\n",
              "  "
            ]
          },
          "metadata": {},
          "execution_count": 72
        }
      ]
    },
    {
      "cell_type": "code",
      "source": [
        "#로그 데이터에도 칼럼 추가해주기\n",
        "\n",
        "log_345 = pd.merge(log_345, user_applied, left_on='user_id', right_on='user_id', how='left')\n",
        "log_345 "
      ],
      "metadata": {
        "colab": {
          "base_uri": "https://localhost:8080/"
        },
        "id": "rMMtNGZYrYek",
        "outputId": "02573351-9dd8-4f48-dccc-896c8f2ca786"
      },
      "execution_count": null,
      "outputs": [
        {
          "output_type": "execute_result",
          "data": {
            "text/plain": [
              "          user_id               event           timestamp    mp_os  \\\n",
              "0          576409      StartLoanApply 2022-03-25 11:12:09  Android   \n",
              "1          576409  ViewLoanApplyIntro 2022-03-25 11:12:09  Android   \n",
              "2           72878        EndLoanApply 2022-03-25 11:14:44  Android   \n",
              "3          645317             OpenApp 2022-03-25 11:15:09      iOS   \n",
              "4          645317       UseLoanManage 2022-03-25 11:15:11      iOS   \n",
              "...           ...                 ...                 ...      ...   \n",
              "12907323   242442      StartLoanApply 2022-05-27 16:08:21  Android   \n",
              "12907324   242442        EndLoanApply 2022-05-27 16:08:21  Android   \n",
              "12907325   593062             OpenApp 2022-05-27 16:19:10  Android   \n",
              "12907326   593062               Login 2022-05-27 16:19:15  Android   \n",
              "12907327   593062       UseLoanManage 2022-05-27 16:19:19  Android   \n",
              "\n",
              "         mp_app_version     date_cd  applied_once  \n",
              "0                 3.8.2  2022-03-25           1.0  \n",
              "1                 3.8.2  2022-03-25           1.0  \n",
              "2                 3.8.4  2022-03-25           1.0  \n",
              "3                 3.6.1  2022-03-25           1.0  \n",
              "4                 3.6.1  2022-03-25           1.0  \n",
              "...                 ...         ...           ...  \n",
              "12907323         3.13.0  2022-05-27           1.0  \n",
              "12907324         3.13.0  2022-05-27           1.0  \n",
              "12907325         3.13.0  2022-05-27           1.0  \n",
              "12907326         3.13.0  2022-05-27           1.0  \n",
              "12907327         3.13.0  2022-05-27           1.0  \n",
              "\n",
              "[12907328 rows x 7 columns]"
            ],
            "text/html": [
              "\n",
              "  <div id=\"df-d89afb52-3e94-4360-a8f9-4cebb9364019\">\n",
              "    <div class=\"colab-df-container\">\n",
              "      <div>\n",
              "<style scoped>\n",
              "    .dataframe tbody tr th:only-of-type {\n",
              "        vertical-align: middle;\n",
              "    }\n",
              "\n",
              "    .dataframe tbody tr th {\n",
              "        vertical-align: top;\n",
              "    }\n",
              "\n",
              "    .dataframe thead th {\n",
              "        text-align: right;\n",
              "    }\n",
              "</style>\n",
              "<table border=\"1\" class=\"dataframe\">\n",
              "  <thead>\n",
              "    <tr style=\"text-align: right;\">\n",
              "      <th></th>\n",
              "      <th>user_id</th>\n",
              "      <th>event</th>\n",
              "      <th>timestamp</th>\n",
              "      <th>mp_os</th>\n",
              "      <th>mp_app_version</th>\n",
              "      <th>date_cd</th>\n",
              "      <th>applied_once</th>\n",
              "    </tr>\n",
              "  </thead>\n",
              "  <tbody>\n",
              "    <tr>\n",
              "      <th>0</th>\n",
              "      <td>576409</td>\n",
              "      <td>StartLoanApply</td>\n",
              "      <td>2022-03-25 11:12:09</td>\n",
              "      <td>Android</td>\n",
              "      <td>3.8.2</td>\n",
              "      <td>2022-03-25</td>\n",
              "      <td>1.0</td>\n",
              "    </tr>\n",
              "    <tr>\n",
              "      <th>1</th>\n",
              "      <td>576409</td>\n",
              "      <td>ViewLoanApplyIntro</td>\n",
              "      <td>2022-03-25 11:12:09</td>\n",
              "      <td>Android</td>\n",
              "      <td>3.8.2</td>\n",
              "      <td>2022-03-25</td>\n",
              "      <td>1.0</td>\n",
              "    </tr>\n",
              "    <tr>\n",
              "      <th>2</th>\n",
              "      <td>72878</td>\n",
              "      <td>EndLoanApply</td>\n",
              "      <td>2022-03-25 11:14:44</td>\n",
              "      <td>Android</td>\n",
              "      <td>3.8.4</td>\n",
              "      <td>2022-03-25</td>\n",
              "      <td>1.0</td>\n",
              "    </tr>\n",
              "    <tr>\n",
              "      <th>3</th>\n",
              "      <td>645317</td>\n",
              "      <td>OpenApp</td>\n",
              "      <td>2022-03-25 11:15:09</td>\n",
              "      <td>iOS</td>\n",
              "      <td>3.6.1</td>\n",
              "      <td>2022-03-25</td>\n",
              "      <td>1.0</td>\n",
              "    </tr>\n",
              "    <tr>\n",
              "      <th>4</th>\n",
              "      <td>645317</td>\n",
              "      <td>UseLoanManage</td>\n",
              "      <td>2022-03-25 11:15:11</td>\n",
              "      <td>iOS</td>\n",
              "      <td>3.6.1</td>\n",
              "      <td>2022-03-25</td>\n",
              "      <td>1.0</td>\n",
              "    </tr>\n",
              "    <tr>\n",
              "      <th>...</th>\n",
              "      <td>...</td>\n",
              "      <td>...</td>\n",
              "      <td>...</td>\n",
              "      <td>...</td>\n",
              "      <td>...</td>\n",
              "      <td>...</td>\n",
              "      <td>...</td>\n",
              "    </tr>\n",
              "    <tr>\n",
              "      <th>12907323</th>\n",
              "      <td>242442</td>\n",
              "      <td>StartLoanApply</td>\n",
              "      <td>2022-05-27 16:08:21</td>\n",
              "      <td>Android</td>\n",
              "      <td>3.13.0</td>\n",
              "      <td>2022-05-27</td>\n",
              "      <td>1.0</td>\n",
              "    </tr>\n",
              "    <tr>\n",
              "      <th>12907324</th>\n",
              "      <td>242442</td>\n",
              "      <td>EndLoanApply</td>\n",
              "      <td>2022-05-27 16:08:21</td>\n",
              "      <td>Android</td>\n",
              "      <td>3.13.0</td>\n",
              "      <td>2022-05-27</td>\n",
              "      <td>1.0</td>\n",
              "    </tr>\n",
              "    <tr>\n",
              "      <th>12907325</th>\n",
              "      <td>593062</td>\n",
              "      <td>OpenApp</td>\n",
              "      <td>2022-05-27 16:19:10</td>\n",
              "      <td>Android</td>\n",
              "      <td>3.13.0</td>\n",
              "      <td>2022-05-27</td>\n",
              "      <td>1.0</td>\n",
              "    </tr>\n",
              "    <tr>\n",
              "      <th>12907326</th>\n",
              "      <td>593062</td>\n",
              "      <td>Login</td>\n",
              "      <td>2022-05-27 16:19:15</td>\n",
              "      <td>Android</td>\n",
              "      <td>3.13.0</td>\n",
              "      <td>2022-05-27</td>\n",
              "      <td>1.0</td>\n",
              "    </tr>\n",
              "    <tr>\n",
              "      <th>12907327</th>\n",
              "      <td>593062</td>\n",
              "      <td>UseLoanManage</td>\n",
              "      <td>2022-05-27 16:19:19</td>\n",
              "      <td>Android</td>\n",
              "      <td>3.13.0</td>\n",
              "      <td>2022-05-27</td>\n",
              "      <td>1.0</td>\n",
              "    </tr>\n",
              "  </tbody>\n",
              "</table>\n",
              "<p>12907328 rows × 7 columns</p>\n",
              "</div>\n",
              "      <button class=\"colab-df-convert\" onclick=\"convertToInteractive('df-d89afb52-3e94-4360-a8f9-4cebb9364019')\"\n",
              "              title=\"Convert this dataframe to an interactive table.\"\n",
              "              style=\"display:none;\">\n",
              "        \n",
              "  <svg xmlns=\"http://www.w3.org/2000/svg\" height=\"24px\"viewBox=\"0 0 24 24\"\n",
              "       width=\"24px\">\n",
              "    <path d=\"M0 0h24v24H0V0z\" fill=\"none\"/>\n",
              "    <path d=\"M18.56 5.44l.94 2.06.94-2.06 2.06-.94-2.06-.94-.94-2.06-.94 2.06-2.06.94zm-11 1L8.5 8.5l.94-2.06 2.06-.94-2.06-.94L8.5 2.5l-.94 2.06-2.06.94zm10 10l.94 2.06.94-2.06 2.06-.94-2.06-.94-.94-2.06-.94 2.06-2.06.94z\"/><path d=\"M17.41 7.96l-1.37-1.37c-.4-.4-.92-.59-1.43-.59-.52 0-1.04.2-1.43.59L10.3 9.45l-7.72 7.72c-.78.78-.78 2.05 0 2.83L4 21.41c.39.39.9.59 1.41.59.51 0 1.02-.2 1.41-.59l7.78-7.78 2.81-2.81c.8-.78.8-2.07 0-2.86zM5.41 20L4 18.59l7.72-7.72 1.47 1.35L5.41 20z\"/>\n",
              "  </svg>\n",
              "      </button>\n",
              "      \n",
              "  <style>\n",
              "    .colab-df-container {\n",
              "      display:flex;\n",
              "      flex-wrap:wrap;\n",
              "      gap: 12px;\n",
              "    }\n",
              "\n",
              "    .colab-df-convert {\n",
              "      background-color: #E8F0FE;\n",
              "      border: none;\n",
              "      border-radius: 50%;\n",
              "      cursor: pointer;\n",
              "      display: none;\n",
              "      fill: #1967D2;\n",
              "      height: 32px;\n",
              "      padding: 0 0 0 0;\n",
              "      width: 32px;\n",
              "    }\n",
              "\n",
              "    .colab-df-convert:hover {\n",
              "      background-color: #E2EBFA;\n",
              "      box-shadow: 0px 1px 2px rgba(60, 64, 67, 0.3), 0px 1px 3px 1px rgba(60, 64, 67, 0.15);\n",
              "      fill: #174EA6;\n",
              "    }\n",
              "\n",
              "    [theme=dark] .colab-df-convert {\n",
              "      background-color: #3B4455;\n",
              "      fill: #D2E3FC;\n",
              "    }\n",
              "\n",
              "    [theme=dark] .colab-df-convert:hover {\n",
              "      background-color: #434B5C;\n",
              "      box-shadow: 0px 1px 3px 1px rgba(0, 0, 0, 0.15);\n",
              "      filter: drop-shadow(0px 1px 2px rgba(0, 0, 0, 0.3));\n",
              "      fill: #FFFFFF;\n",
              "    }\n",
              "  </style>\n",
              "\n",
              "      <script>\n",
              "        const buttonEl =\n",
              "          document.querySelector('#df-d89afb52-3e94-4360-a8f9-4cebb9364019 button.colab-df-convert');\n",
              "        buttonEl.style.display =\n",
              "          google.colab.kernel.accessAllowed ? 'block' : 'none';\n",
              "\n",
              "        async function convertToInteractive(key) {\n",
              "          const element = document.querySelector('#df-d89afb52-3e94-4360-a8f9-4cebb9364019');\n",
              "          const dataTable =\n",
              "            await google.colab.kernel.invokeFunction('convertToInteractive',\n",
              "                                                     [key], {});\n",
              "          if (!dataTable) return;\n",
              "\n",
              "          const docLinkHtml = 'Like what you see? Visit the ' +\n",
              "            '<a target=\"_blank\" href=https://colab.research.google.com/notebooks/data_table.ipynb>data table notebook</a>'\n",
              "            + ' to learn more about interactive tables.';\n",
              "          element.innerHTML = '';\n",
              "          dataTable['output_type'] = 'display_data';\n",
              "          await google.colab.output.renderOutput(dataTable, element);\n",
              "          const docLink = document.createElement('div');\n",
              "          docLink.innerHTML = docLinkHtml;\n",
              "          element.appendChild(docLink);\n",
              "        }\n",
              "      </script>\n",
              "    </div>\n",
              "  </div>\n",
              "  "
            ]
          },
          "metadata": {},
          "execution_count": 73
        }
      ]
    },
    {
      "cell_type": "markdown",
      "source": [
        "##1.5. log data를 유저별 행동별 횟수 데이터로 변환"
      ],
      "metadata": {
        "id": "Gz4Kwy3lrBtW"
      }
    },
    {
      "cell_type": "markdown",
      "source": [
        "###1.5.1. log data를 유저별 행동별 횟수 데이터로 변환"
      ],
      "metadata": {
        "id": "weZw_1W38x3H"
      }
    },
    {
      "cell_type": "code",
      "source": [
        "log_user_345 = log_345[['user_id', 'event']] #user_id와 event만 저장\n",
        "log_user_345 = pd.DataFrame(log_user_345.groupby(['user_id', 'event']).size().unstack()) #user_id별 event별 개수로 데이터프레임 전환\n",
        "log_user_345 = log_user_345.fillna(0) #행동 횟수가 결측치인 경우 해당 행동을 하지 않은 것으로 간주하여 0으로 처리\n",
        "\n",
        "#6월 log 데이터에서도 동일한 과정 적용\n",
        "log_user_6 = log_6[['user_id', 'event']] #user_id와 event만 저장\n",
        "log_user_6 = pd.DataFrame(log_user_6.groupby(['user_id', 'event']).size().unstack()) #user_id별 event별 개수로 데이터프레임 전환\n",
        "log_user_6 = log_user_6.fillna(0) #행동 횟수가 결측치인 경우 해당 행동을 하지 않은 것으로 간주하여 0으로 처리"
      ],
      "metadata": {
        "id": "qBnO80lCrM_b"
      },
      "execution_count": null,
      "outputs": []
    },
    {
      "cell_type": "code",
      "source": [
        "print('<log_user_345>')\n",
        "print(len(log_user_345), '명의 유저들의', len(log_user_345.columns), '개 행동의 횟수')\n",
        "print('')\n",
        "print(log_user_345)"
      ],
      "metadata": {
        "colab": {
          "base_uri": "https://localhost:8080/"
        },
        "id": "_7B3GKPTtj53",
        "outputId": "92cda174-80cc-4f1a-fc1d-d70aef23514b"
      },
      "execution_count": null,
      "outputs": [
        {
          "output_type": "stream",
          "name": "stdout",
          "text": [
            "<log_user_345>\n",
            "479773 명의 유저들의 11 개 행동의 횟수\n",
            "\n",
            "event    CompleteIDCertification  EndLoanApply  GetCreditInfo  Login  OpenApp  \\\n",
            "user_id                                                                         \n",
            "1                            0.0           0.0            2.0    0.0      0.0   \n",
            "7                            0.0           0.0            1.0    0.0      0.0   \n",
            "9                            0.0           0.0            3.0    0.0      0.0   \n",
            "11                           2.0           5.0            8.0    0.0      3.0   \n",
            "12                          10.0          28.0            3.0   11.0     11.0   \n",
            "...                          ...           ...            ...    ...      ...   \n",
            "879693                       4.0          11.0            1.0    0.0      4.0   \n",
            "879694                       1.0           3.0            0.0    0.0      0.0   \n",
            "879695                       1.0           1.0            0.0    0.0      0.0   \n",
            "879696                       1.0           1.0            3.0    2.0      1.0   \n",
            "879698                       0.0           0.0            0.0    0.0      1.0   \n",
            "\n",
            "event    SignUp  StartLoanApply  UseDSRCalc  UseLoanManage  UsePrepayCalc  \\\n",
            "user_id                                                                     \n",
            "1           0.0             0.0         0.0            0.0            0.0   \n",
            "7           0.0             0.0         0.0            0.0            0.0   \n",
            "9           0.0             0.0         0.0            0.0            0.0   \n",
            "11          0.0             2.0         0.0            9.0            1.0   \n",
            "12          0.0            11.0         0.0            1.0            0.0   \n",
            "...         ...             ...         ...            ...            ...   \n",
            "879693      0.0            12.0         0.0            3.0            0.0   \n",
            "879694      0.0             1.0         0.0            0.0            0.0   \n",
            "879695      0.0             1.0         0.0            0.0            0.0   \n",
            "879696      0.0             0.0         0.0            2.0            0.0   \n",
            "879698      0.0             1.0         0.0            0.0            0.0   \n",
            "\n",
            "event    ViewLoanApplyIntro  \n",
            "user_id                      \n",
            "1                       0.0  \n",
            "7                       0.0  \n",
            "9                       0.0  \n",
            "11                      3.0  \n",
            "12                     11.0  \n",
            "...                     ...  \n",
            "879693                  5.0  \n",
            "879694                  1.0  \n",
            "879695                  1.0  \n",
            "879696                  1.0  \n",
            "879698                  1.0  \n",
            "\n",
            "[479773 rows x 11 columns]\n"
          ]
        }
      ]
    },
    {
      "cell_type": "code",
      "source": [
        "print('<log_user_6>')\n",
        "print(len(log_user_6), '명의 유저들의', len(log_user_6.columns), '개 행동의 횟수')\n",
        "print('')\n",
        "print(log_user_6)"
      ],
      "metadata": {
        "colab": {
          "base_uri": "https://localhost:8080/"
        },
        "id": "UVM5Cvk74r_n",
        "outputId": "1673d716-e4b8-4a01-f6c5-83f1efa2132c"
      },
      "execution_count": null,
      "outputs": [
        {
          "output_type": "stream",
          "name": "stdout",
          "text": [
            "<log_user_6>\n",
            "305782 명의 유저들의 11 개 행동의 횟수\n",
            "\n",
            "event    CompleteIDCertification  EndLoanApply  GetCreditInfo  Login  OpenApp  \\\n",
            "user_id                                                                         \n",
            "1                            0.0           0.0            1.0    1.0      0.0   \n",
            "11                           2.0           2.0            0.0    0.0      2.0   \n",
            "12                           5.0          11.0            2.0    4.0      4.0   \n",
            "14                           0.0           0.0            1.0    0.0      0.0   \n",
            "20                           1.0           2.0            0.0    1.0      2.0   \n",
            "...                          ...           ...            ...    ...      ...   \n",
            "879683                       2.0           3.0            7.0    6.0      6.0   \n",
            "879684                       0.0           0.0            3.0    0.0      0.0   \n",
            "879688                       0.0           0.0            0.0    2.0      1.0   \n",
            "879689                       2.0           0.0            3.0    0.0      0.0   \n",
            "879693                       2.0           1.0            1.0    0.0      5.0   \n",
            "\n",
            "event    SignUp  StartLoanApply  UseDSRCalc  UseLoanManage  UsePrepayCalc  \\\n",
            "user_id                                                                     \n",
            "1           0.0             0.0         0.0            1.0            0.0   \n",
            "11          0.0             2.0         0.0            0.0            0.0   \n",
            "12          0.0             4.0         0.0            0.0            0.0   \n",
            "14          0.0             0.0         0.0            0.0            0.0   \n",
            "20          0.0             1.0         0.0            0.0            0.0   \n",
            "...         ...             ...         ...            ...            ...   \n",
            "879683      0.0             2.0         0.0            3.0            0.0   \n",
            "879684      0.0             0.0         0.0            0.0            0.0   \n",
            "879688      0.0             0.0         0.0            0.0            0.0   \n",
            "879689      1.0             0.0         0.0            1.0            0.0   \n",
            "879693      0.0             5.0         0.0            2.0            0.0   \n",
            "\n",
            "event    ViewLoanApplyIntro  \n",
            "user_id                      \n",
            "1                       0.0  \n",
            "11                      2.0  \n",
            "12                      4.0  \n",
            "14                      0.0  \n",
            "20                      1.0  \n",
            "...                     ...  \n",
            "879683                  5.0  \n",
            "879684                  0.0  \n",
            "879688                  0.0  \n",
            "879689                  0.0  \n",
            "879693                  5.0  \n",
            "\n",
            "[305782 rows x 11 columns]\n"
          ]
        }
      ]
    },
    {
      "cell_type": "markdown",
      "source": [
        "###1.5.2. 3~5월의 유저별 로그 데이터에 대해서는, 유저별 대출신청여부 칼럼을 추가"
      ],
      "metadata": {
        "id": "-7kQdL-begDl"
      }
    },
    {
      "cell_type": "code",
      "source": [
        "#3~5월의 유저별 로그 데이터에 대해서는, 유저별 대출신청여부(한 번이라도 신청 여부) 칼럼을 추가\n",
        "log_user_345 = pd.merge(log_user_345, user_applied, left_on='user_id', right_on='user_id', how='left')\n",
        "log_user_345 #applied_once를 원 데이터프레임에 칼럼으로 추가\n",
        "log_user_345"
      ],
      "metadata": {
        "colab": {
          "base_uri": "https://localhost:8080/"
        },
        "id": "mX8VhVogdwN7",
        "outputId": "b44bb5f3-b223-42dd-9f8a-6f2a9682094e"
      },
      "execution_count": null,
      "outputs": [
        {
          "output_type": "execute_result",
          "data": {
            "text/plain": [
              "        user_id  CompleteIDCertification  EndLoanApply  GetCreditInfo  Login  \\\n",
              "0             1                      0.0           0.0            2.0    0.0   \n",
              "1             7                      0.0           0.0            1.0    0.0   \n",
              "2             9                      0.0           0.0            3.0    0.0   \n",
              "3            11                      2.0           5.0            8.0    0.0   \n",
              "4            12                     10.0          28.0            3.0   11.0   \n",
              "...         ...                      ...           ...            ...    ...   \n",
              "479768   879693                      4.0          11.0            1.0    0.0   \n",
              "479769   879694                      1.0           3.0            0.0    0.0   \n",
              "479770   879695                      1.0           1.0            0.0    0.0   \n",
              "479771   879696                      1.0           1.0            3.0    2.0   \n",
              "479772   879698                      0.0           0.0            0.0    0.0   \n",
              "\n",
              "        OpenApp  SignUp  StartLoanApply  UseDSRCalc  UseLoanManage  \\\n",
              "0           0.0     0.0             0.0         0.0            0.0   \n",
              "1           0.0     0.0             0.0         0.0            0.0   \n",
              "2           0.0     0.0             0.0         0.0            0.0   \n",
              "3           3.0     0.0             2.0         0.0            9.0   \n",
              "4          11.0     0.0            11.0         0.0            1.0   \n",
              "...         ...     ...             ...         ...            ...   \n",
              "479768      4.0     0.0            12.0         0.0            3.0   \n",
              "479769      0.0     0.0             1.0         0.0            0.0   \n",
              "479770      0.0     0.0             1.0         0.0            0.0   \n",
              "479771      1.0     0.0             0.0         0.0            2.0   \n",
              "479772      1.0     0.0             1.0         0.0            0.0   \n",
              "\n",
              "        UsePrepayCalc  ViewLoanApplyIntro  applied_once  \n",
              "0                 0.0                 0.0           NaN  \n",
              "1                 0.0                 0.0           NaN  \n",
              "2                 0.0                 0.0           0.0  \n",
              "3                 1.0                 3.0           1.0  \n",
              "4                 0.0                11.0           NaN  \n",
              "...               ...                 ...           ...  \n",
              "479768            0.0                 5.0           1.0  \n",
              "479769            0.0                 1.0           NaN  \n",
              "479770            0.0                 1.0           1.0  \n",
              "479771            0.0                 1.0           1.0  \n",
              "479772            0.0                 1.0           NaN  \n",
              "\n",
              "[479773 rows x 13 columns]"
            ],
            "text/html": [
              "\n",
              "  <div id=\"df-8cb962f2-48e8-47de-aab2-f71b4d2004cd\">\n",
              "    <div class=\"colab-df-container\">\n",
              "      <div>\n",
              "<style scoped>\n",
              "    .dataframe tbody tr th:only-of-type {\n",
              "        vertical-align: middle;\n",
              "    }\n",
              "\n",
              "    .dataframe tbody tr th {\n",
              "        vertical-align: top;\n",
              "    }\n",
              "\n",
              "    .dataframe thead th {\n",
              "        text-align: right;\n",
              "    }\n",
              "</style>\n",
              "<table border=\"1\" class=\"dataframe\">\n",
              "  <thead>\n",
              "    <tr style=\"text-align: right;\">\n",
              "      <th></th>\n",
              "      <th>user_id</th>\n",
              "      <th>CompleteIDCertification</th>\n",
              "      <th>EndLoanApply</th>\n",
              "      <th>GetCreditInfo</th>\n",
              "      <th>Login</th>\n",
              "      <th>OpenApp</th>\n",
              "      <th>SignUp</th>\n",
              "      <th>StartLoanApply</th>\n",
              "      <th>UseDSRCalc</th>\n",
              "      <th>UseLoanManage</th>\n",
              "      <th>UsePrepayCalc</th>\n",
              "      <th>ViewLoanApplyIntro</th>\n",
              "      <th>applied_once</th>\n",
              "    </tr>\n",
              "  </thead>\n",
              "  <tbody>\n",
              "    <tr>\n",
              "      <th>0</th>\n",
              "      <td>1</td>\n",
              "      <td>0.0</td>\n",
              "      <td>0.0</td>\n",
              "      <td>2.0</td>\n",
              "      <td>0.0</td>\n",
              "      <td>0.0</td>\n",
              "      <td>0.0</td>\n",
              "      <td>0.0</td>\n",
              "      <td>0.0</td>\n",
              "      <td>0.0</td>\n",
              "      <td>0.0</td>\n",
              "      <td>0.0</td>\n",
              "      <td>NaN</td>\n",
              "    </tr>\n",
              "    <tr>\n",
              "      <th>1</th>\n",
              "      <td>7</td>\n",
              "      <td>0.0</td>\n",
              "      <td>0.0</td>\n",
              "      <td>1.0</td>\n",
              "      <td>0.0</td>\n",
              "      <td>0.0</td>\n",
              "      <td>0.0</td>\n",
              "      <td>0.0</td>\n",
              "      <td>0.0</td>\n",
              "      <td>0.0</td>\n",
              "      <td>0.0</td>\n",
              "      <td>0.0</td>\n",
              "      <td>NaN</td>\n",
              "    </tr>\n",
              "    <tr>\n",
              "      <th>2</th>\n",
              "      <td>9</td>\n",
              "      <td>0.0</td>\n",
              "      <td>0.0</td>\n",
              "      <td>3.0</td>\n",
              "      <td>0.0</td>\n",
              "      <td>0.0</td>\n",
              "      <td>0.0</td>\n",
              "      <td>0.0</td>\n",
              "      <td>0.0</td>\n",
              "      <td>0.0</td>\n",
              "      <td>0.0</td>\n",
              "      <td>0.0</td>\n",
              "      <td>0.0</td>\n",
              "    </tr>\n",
              "    <tr>\n",
              "      <th>3</th>\n",
              "      <td>11</td>\n",
              "      <td>2.0</td>\n",
              "      <td>5.0</td>\n",
              "      <td>8.0</td>\n",
              "      <td>0.0</td>\n",
              "      <td>3.0</td>\n",
              "      <td>0.0</td>\n",
              "      <td>2.0</td>\n",
              "      <td>0.0</td>\n",
              "      <td>9.0</td>\n",
              "      <td>1.0</td>\n",
              "      <td>3.0</td>\n",
              "      <td>1.0</td>\n",
              "    </tr>\n",
              "    <tr>\n",
              "      <th>4</th>\n",
              "      <td>12</td>\n",
              "      <td>10.0</td>\n",
              "      <td>28.0</td>\n",
              "      <td>3.0</td>\n",
              "      <td>11.0</td>\n",
              "      <td>11.0</td>\n",
              "      <td>0.0</td>\n",
              "      <td>11.0</td>\n",
              "      <td>0.0</td>\n",
              "      <td>1.0</td>\n",
              "      <td>0.0</td>\n",
              "      <td>11.0</td>\n",
              "      <td>NaN</td>\n",
              "    </tr>\n",
              "    <tr>\n",
              "      <th>...</th>\n",
              "      <td>...</td>\n",
              "      <td>...</td>\n",
              "      <td>...</td>\n",
              "      <td>...</td>\n",
              "      <td>...</td>\n",
              "      <td>...</td>\n",
              "      <td>...</td>\n",
              "      <td>...</td>\n",
              "      <td>...</td>\n",
              "      <td>...</td>\n",
              "      <td>...</td>\n",
              "      <td>...</td>\n",
              "      <td>...</td>\n",
              "    </tr>\n",
              "    <tr>\n",
              "      <th>479768</th>\n",
              "      <td>879693</td>\n",
              "      <td>4.0</td>\n",
              "      <td>11.0</td>\n",
              "      <td>1.0</td>\n",
              "      <td>0.0</td>\n",
              "      <td>4.0</td>\n",
              "      <td>0.0</td>\n",
              "      <td>12.0</td>\n",
              "      <td>0.0</td>\n",
              "      <td>3.0</td>\n",
              "      <td>0.0</td>\n",
              "      <td>5.0</td>\n",
              "      <td>1.0</td>\n",
              "    </tr>\n",
              "    <tr>\n",
              "      <th>479769</th>\n",
              "      <td>879694</td>\n",
              "      <td>1.0</td>\n",
              "      <td>3.0</td>\n",
              "      <td>0.0</td>\n",
              "      <td>0.0</td>\n",
              "      <td>0.0</td>\n",
              "      <td>0.0</td>\n",
              "      <td>1.0</td>\n",
              "      <td>0.0</td>\n",
              "      <td>0.0</td>\n",
              "      <td>0.0</td>\n",
              "      <td>1.0</td>\n",
              "      <td>NaN</td>\n",
              "    </tr>\n",
              "    <tr>\n",
              "      <th>479770</th>\n",
              "      <td>879695</td>\n",
              "      <td>1.0</td>\n",
              "      <td>1.0</td>\n",
              "      <td>0.0</td>\n",
              "      <td>0.0</td>\n",
              "      <td>0.0</td>\n",
              "      <td>0.0</td>\n",
              "      <td>1.0</td>\n",
              "      <td>0.0</td>\n",
              "      <td>0.0</td>\n",
              "      <td>0.0</td>\n",
              "      <td>1.0</td>\n",
              "      <td>1.0</td>\n",
              "    </tr>\n",
              "    <tr>\n",
              "      <th>479771</th>\n",
              "      <td>879696</td>\n",
              "      <td>1.0</td>\n",
              "      <td>1.0</td>\n",
              "      <td>3.0</td>\n",
              "      <td>2.0</td>\n",
              "      <td>1.0</td>\n",
              "      <td>0.0</td>\n",
              "      <td>0.0</td>\n",
              "      <td>0.0</td>\n",
              "      <td>2.0</td>\n",
              "      <td>0.0</td>\n",
              "      <td>1.0</td>\n",
              "      <td>1.0</td>\n",
              "    </tr>\n",
              "    <tr>\n",
              "      <th>479772</th>\n",
              "      <td>879698</td>\n",
              "      <td>0.0</td>\n",
              "      <td>0.0</td>\n",
              "      <td>0.0</td>\n",
              "      <td>0.0</td>\n",
              "      <td>1.0</td>\n",
              "      <td>0.0</td>\n",
              "      <td>1.0</td>\n",
              "      <td>0.0</td>\n",
              "      <td>0.0</td>\n",
              "      <td>0.0</td>\n",
              "      <td>1.0</td>\n",
              "      <td>NaN</td>\n",
              "    </tr>\n",
              "  </tbody>\n",
              "</table>\n",
              "<p>479773 rows × 13 columns</p>\n",
              "</div>\n",
              "      <button class=\"colab-df-convert\" onclick=\"convertToInteractive('df-8cb962f2-48e8-47de-aab2-f71b4d2004cd')\"\n",
              "              title=\"Convert this dataframe to an interactive table.\"\n",
              "              style=\"display:none;\">\n",
              "        \n",
              "  <svg xmlns=\"http://www.w3.org/2000/svg\" height=\"24px\"viewBox=\"0 0 24 24\"\n",
              "       width=\"24px\">\n",
              "    <path d=\"M0 0h24v24H0V0z\" fill=\"none\"/>\n",
              "    <path d=\"M18.56 5.44l.94 2.06.94-2.06 2.06-.94-2.06-.94-.94-2.06-.94 2.06-2.06.94zm-11 1L8.5 8.5l.94-2.06 2.06-.94-2.06-.94L8.5 2.5l-.94 2.06-2.06.94zm10 10l.94 2.06.94-2.06 2.06-.94-2.06-.94-.94-2.06-.94 2.06-2.06.94z\"/><path d=\"M17.41 7.96l-1.37-1.37c-.4-.4-.92-.59-1.43-.59-.52 0-1.04.2-1.43.59L10.3 9.45l-7.72 7.72c-.78.78-.78 2.05 0 2.83L4 21.41c.39.39.9.59 1.41.59.51 0 1.02-.2 1.41-.59l7.78-7.78 2.81-2.81c.8-.78.8-2.07 0-2.86zM5.41 20L4 18.59l7.72-7.72 1.47 1.35L5.41 20z\"/>\n",
              "  </svg>\n",
              "      </button>\n",
              "      \n",
              "  <style>\n",
              "    .colab-df-container {\n",
              "      display:flex;\n",
              "      flex-wrap:wrap;\n",
              "      gap: 12px;\n",
              "    }\n",
              "\n",
              "    .colab-df-convert {\n",
              "      background-color: #E8F0FE;\n",
              "      border: none;\n",
              "      border-radius: 50%;\n",
              "      cursor: pointer;\n",
              "      display: none;\n",
              "      fill: #1967D2;\n",
              "      height: 32px;\n",
              "      padding: 0 0 0 0;\n",
              "      width: 32px;\n",
              "    }\n",
              "\n",
              "    .colab-df-convert:hover {\n",
              "      background-color: #E2EBFA;\n",
              "      box-shadow: 0px 1px 2px rgba(60, 64, 67, 0.3), 0px 1px 3px 1px rgba(60, 64, 67, 0.15);\n",
              "      fill: #174EA6;\n",
              "    }\n",
              "\n",
              "    [theme=dark] .colab-df-convert {\n",
              "      background-color: #3B4455;\n",
              "      fill: #D2E3FC;\n",
              "    }\n",
              "\n",
              "    [theme=dark] .colab-df-convert:hover {\n",
              "      background-color: #434B5C;\n",
              "      box-shadow: 0px 1px 3px 1px rgba(0, 0, 0, 0.15);\n",
              "      filter: drop-shadow(0px 1px 2px rgba(0, 0, 0, 0.3));\n",
              "      fill: #FFFFFF;\n",
              "    }\n",
              "  </style>\n",
              "\n",
              "      <script>\n",
              "        const buttonEl =\n",
              "          document.querySelector('#df-8cb962f2-48e8-47de-aab2-f71b4d2004cd button.colab-df-convert');\n",
              "        buttonEl.style.display =\n",
              "          google.colab.kernel.accessAllowed ? 'block' : 'none';\n",
              "\n",
              "        async function convertToInteractive(key) {\n",
              "          const element = document.querySelector('#df-8cb962f2-48e8-47de-aab2-f71b4d2004cd');\n",
              "          const dataTable =\n",
              "            await google.colab.kernel.invokeFunction('convertToInteractive',\n",
              "                                                     [key], {});\n",
              "          if (!dataTable) return;\n",
              "\n",
              "          const docLinkHtml = 'Like what you see? Visit the ' +\n",
              "            '<a target=\"_blank\" href=https://colab.research.google.com/notebooks/data_table.ipynb>data table notebook</a>'\n",
              "            + ' to learn more about interactive tables.';\n",
              "          element.innerHTML = '';\n",
              "          dataTable['output_type'] = 'display_data';\n",
              "          await google.colab.output.renderOutput(dataTable, element);\n",
              "          const docLink = document.createElement('div');\n",
              "          docLink.innerHTML = docLinkHtml;\n",
              "          element.appendChild(docLink);\n",
              "        }\n",
              "      </script>\n",
              "    </div>\n",
              "  </div>\n",
              "  "
            ]
          },
          "metadata": {},
          "execution_count": 77
        }
      ]
    },
    {
      "cell_type": "code",
      "source": [
        "k = log_user_345['user_id']\n",
        "print('유저_스펙 데이터에서 로그 데이터를 매칭시킬 수 없는 유저들의 수 : ', len(spec_loan_345.drop_duplicates(['user_id'])[spec_loan_345.drop_duplicates(['user_id'])['user_id'].isin(k) == False]))"
      ],
      "metadata": {
        "colab": {
          "base_uri": "https://localhost:8080/"
        },
        "id": "Lp4ChNt-eYOy",
        "outputId": "4bc4ed06-120f-42e8-ae31-b0dc4b29d337"
      },
      "execution_count": null,
      "outputs": [
        {
          "output_type": "stream",
          "name": "stdout",
          "text": [
            "유저_스펙 데이터에서 로그 데이터를 매칭시킬 수 없는 유저들의 수 :  22280\n"
          ]
        }
      ]
    },
    {
      "cell_type": "markdown",
      "source": [
        "##1.6. 데이터 저장"
      ],
      "metadata": {
        "id": "dKuZMRf3BmLj"
      }
    },
    {
      "cell_type": "code",
      "source": [
        "spec_loan_345.to_csv('spec_loan_345_final.csv')\n",
        "spec_loan_6.to_csv('spec_loan_6_final.csv')\n",
        "spec_loan.to_csv('spec_loan_final.csv')\n",
        "\n",
        "log_user_345.to_csv('log_user_345_final.csv') \n",
        "log_user_6.to_csv('log_user_6_final.csv') "
      ],
      "metadata": {
        "id": "PQ7fpfRyBBEx"
      },
      "execution_count": null,
      "outputs": []
    },
    {
      "cell_type": "markdown",
      "source": [
        "#2. 탐색적 데이터 분석(EDA)"
      ],
      "metadata": {
        "id": "vRTIri9Y7dDq"
      }
    },
    {
      "cell_type": "markdown",
      "source": [
        "##2.1. Spec data 탐색"
      ],
      "metadata": {
        "id": "gJ5TA9sJ9H33"
      }
    },
    {
      "cell_type": "markdown",
      "source": [
        "###2.1.1. Spec data와 대출 금리의 상관관계"
      ],
      "metadata": {
        "id": "wz6otiLw9Ovo"
      }
    },
    {
      "cell_type": "code",
      "source": [
        "import matplotlib.pyplot as plt #matplotlib.pyplot 라이브러리 사용"
      ],
      "metadata": {
        "id": "4p4XnRsOVMGU"
      },
      "execution_count": null,
      "outputs": []
    },
    {
      "cell_type": "code",
      "source": [
        "#연령별 평균 대출금리\n",
        "\n",
        "spec_loan.groupby('age')['loan_rate'].mean().plot()\n",
        "plt.title('Average loan rate for age')\n",
        "plt.xlabel('age')\n",
        "plt.ylabel('average loan rate')\n",
        "plt.show()"
      ],
      "metadata": {
        "id": "2mPCKhmUTXes",
        "colab": {
          "base_uri": "https://localhost:8080/",
          "height": 295
        },
        "outputId": "4a1efe0a-cf64-46ca-ed0f-91549dea66ce"
      },
      "execution_count": null,
      "outputs": [
        {
          "output_type": "display_data",
          "data": {
            "text/plain": [
              "<Figure size 432x288 with 1 Axes>"
            ],
            "image/png": "[encoded data removed]"
          },
          "metadata": {
            "needs_background": "light"
          }
        }
      ]
    },
    {
      "cell_type": "code",
      "source": [
        "#성별별 평균 대출금리\n",
        "\n",
        "spec_loan.groupby('gender')['loan_rate'].mean().plot(kind = 'bar')\n",
        "plt.title('Average loan rate for gender')\n",
        "plt.xlabel('gender')\n",
        "plt.ylabel('average loan rate')\n",
        "plt.show()"
      ],
      "metadata": {
        "id": "O5FM-A2c9e5F",
        "colab": {
          "base_uri": "https://localhost:8080/",
          "height": 301
        },
        "outputId": "8fc199c2-6d8e-4f46-c5a1-5958144647e1"
      },
      "execution_count": null,
      "outputs": [
        {
          "output_type": "display_data",
          "data": {
            "text/plain": [
              "<Figure size 432x288 with 1 Axes>"
            ],
            "image/png": "[encoded data removed]"
          },
          "metadata": {
            "needs_background": "light"
          }
        }
      ]
    },
    {
      "cell_type": "code",
      "source": [
        "#신용점수별 평균 대출금리\n",
        "\n",
        "plt.plot(spec_loan['credit_score'].dropna().unique(), spec_loan.groupby('credit_score')['loan_rate'].mean(), '.')\n",
        "plt.title('Average loan rate for credit score')\n",
        "plt.xlabel('credit score')\n",
        "plt.ylabel('average loan rate')\n",
        "plt.show()"
      ],
      "metadata": {
        "id": "Q2RMxvxO7g50",
        "colab": {
          "base_uri": "https://localhost:8080/",
          "height": 295
        },
        "outputId": "4c9faad3-539c-4c35-aa14-7e919348f135"
      },
      "execution_count": null,
      "outputs": [
        {
          "output_type": "display_data",
          "data": {
            "text/plain": [
              "<Figure size 432x288 with 1 Axes>"
            ],
            "image/png": "[encoded data removed]"
          },
          "metadata": {
            "needs_background": "light"
          }
        }
      ]
    },
    {
      "cell_type": "code",
      "source": [
        "#소득별 평균 대출금리\n",
        "\n",
        "import numpy as np #numpy 라이브러리 사용\n",
        "\n",
        "plt.plot(np.log(spec_loan['yearly_income'].sort_values().dropna().unique()), spec_loan.groupby('yearly_income')['loan_rate'].mean(), '.')\n",
        "plt.title('Average loan rate for yearly_income')\n",
        "plt.xlabel('yearly_income')\n",
        "plt.ylabel('average loan rate')\n",
        "plt.show()"
      ],
      "metadata": {
        "id": "U0zk-MeZW5i7",
        "colab": {
          "base_uri": "https://localhost:8080/",
          "height": 333
        },
        "outputId": "4d85fb48-97e8-4293-9b4e-54774f2aa985"
      },
      "execution_count": null,
      "outputs": [
        {
          "output_type": "stream",
          "name": "stderr",
          "text": [
            "/usr/local/lib/python3.7/dist-packages/ipykernel_launcher.py:5: RuntimeWarning: divide by zero encountered in log\n",
            "  \"\"\"\n"
          ]
        },
        {
          "output_type": "display_data",
          "data": {
            "text/plain": [
              "<Figure size 432x288 with 1 Axes>"
            ],
            "image/png": "[encoded data removed]"
          },
          "metadata": {
            "needs_background": "light"
          }
        }
      ]
    },
    {
      "cell_type": "code",
      "source": [
        "#소득형태별 평균 대출금리\n",
        "\n",
        "spec_loan.groupby('income_type')['loan_rate'].mean().sort_values().plot(kind = 'bar')\n",
        "plt.title('Average loan rate for income_type')\n",
        "plt.xlabel('income_type')\n",
        "plt.ylabel('average loan rate')\n",
        "plt.show()"
      ],
      "metadata": {
        "id": "VjUXQvP4XJ-E",
        "colab": {
          "base_uri": "https://localhost:8080/",
          "height": 293
        },
        "outputId": "423ec760-ea95-45da-d02f-e7de8dffa7e8"
      },
      "execution_count": null,
      "outputs": [
        {
          "output_type": "display_data",
          "data": {
            "text/plain": [
              "<Figure size 432x288 with 1 Axes>"
            ],
            "image/png": "[encoded data removed]"
          },
          "metadata": {
            "needs_background": "light"
          }
        }
      ]
    },
    {
      "cell_type": "code",
      "source": [
        "#고용형태별 평균 대출금리\n",
        "\n",
        "spec_loan.groupby('employment_type')['loan_rate'].mean().sort_values().plot(kind = 'bar');\n",
        "plt.title('Average loan rate for employment_type')\n",
        "plt.xlabel('employment_type')\n",
        "plt.ylabel('average loan rate')\n",
        "plt.show()"
      ],
      "metadata": {
        "id": "Zd4pGnP-XeFu",
        "colab": {
          "base_uri": "https://localhost:8080/",
          "height": 293
        },
        "outputId": "a06e279e-f818-4835-8239-0b6ac7c5604e"
      },
      "execution_count": null,
      "outputs": [
        {
          "output_type": "display_data",
          "data": {
            "text/plain": [
              "<Figure size 432x288 with 1 Axes>"
            ],
            "image/png": "[encoded data removed]"
          },
          "metadata": {
            "needs_background": "light"
          }
        }
      ]
    },
    {
      "cell_type": "code",
      "source": [
        "#주거형태별 평균 대출금리\n",
        "\n",
        "spec_loan.groupby('houseown_type')['loan_rate'].mean().sort_values().plot(kind = 'bar');\n",
        "plt.title('Average loan rate for houseown_type')\n",
        "plt.xlabel('houseown_type')\n",
        "plt.ylabel('average loan rate')\n",
        "plt.show()"
      ],
      "metadata": {
        "id": "QdbaVphvXuk8",
        "colab": {
          "base_uri": "https://localhost:8080/",
          "height": 293
        },
        "outputId": "33ba67b9-15c6-4f6e-c83a-09353487529a"
      },
      "execution_count": null,
      "outputs": [
        {
          "output_type": "display_data",
          "data": {
            "text/plain": [
              "<Figure size 432x288 with 1 Axes>"
            ],
            "image/png": "[encoded data removed]"
          },
          "metadata": {
            "needs_background": "light"
          }
        }
      ]
    },
    {
      "cell_type": "code",
      "source": [
        "#대출희망금액별 평균 대출금리\n",
        "\n",
        "plt.plot(np.log(spec_loan['desired_amount'].sort_values().dropna().unique()), spec_loan.groupby('desired_amount')['loan_rate'].mean(), '.')\n",
        "plt.title('Average loan rate for desired_amount')\n",
        "plt.xlabel('desired_amount')\n",
        "plt.ylabel('average loan rate')\n",
        "plt.show()"
      ],
      "metadata": {
        "id": "CVRIXxexX4dC",
        "colab": {
          "base_uri": "https://localhost:8080/",
          "height": 333
        },
        "outputId": "ffc9e59a-b608-4681-cf0d-889e61affcf5"
      },
      "execution_count": null,
      "outputs": [
        {
          "output_type": "stream",
          "name": "stderr",
          "text": [
            "/usr/local/lib/python3.7/dist-packages/ipykernel_launcher.py:3: RuntimeWarning: divide by zero encountered in log\n",
            "  This is separate from the ipykernel package so we can avoid doing imports until\n"
          ]
        },
        {
          "output_type": "display_data",
          "data": {
            "text/plain": [
              "<Figure size 432x288 with 1 Axes>"
            ],
            "image/png": "[encoded data removed]"
          },
          "metadata": {
            "needs_background": "light"
          }
        }
      ]
    },
    {
      "cell_type": "code",
      "source": [
        "#대출목적별 평균 대출금리\n",
        "\n",
        "spec_loan.groupby('purpose')['loan_rate'].mean().sort_values().plot(kind = 'bar');\n",
        "plt.title('Average loan rate for purpose')\n",
        "plt.xlabel('purpose')\n",
        "plt.ylabel('average loan rate')\n",
        "plt.show()"
      ],
      "metadata": {
        "id": "dXitr0CbZ_6L",
        "colab": {
          "base_uri": "https://localhost:8080/",
          "height": 363
        },
        "outputId": "21ba4460-20bd-437b-e052-05a2ef3bb289"
      },
      "execution_count": null,
      "outputs": [
        {
          "output_type": "display_data",
          "data": {
            "text/plain": [
              "<Figure size 432x288 with 1 Axes>"
            ],
            "image/png": "[encoded data removed]"
          },
          "metadata": {
            "needs_background": "light"
          }
        }
      ]
    },
    {
      "cell_type": "code",
      "source": [
        "#기존 대출 개수별 평균 대출금리\n",
        "\n",
        "plt.plot(spec_loan['existing_loan_cnt'].sort_values().dropna().unique(), spec_loan.groupby('existing_loan_cnt')['loan_rate'].mean(), '.')\n",
        "plt.title('Average loan rate for existing_loan_cnt')\n",
        "plt.xlabel('existing_loan_cnt')\n",
        "plt.ylabel('average loan rate')\n",
        "plt.show()"
      ],
      "metadata": {
        "id": "g796hQL9bmA0",
        "colab": {
          "base_uri": "https://localhost:8080/",
          "height": 296
        },
        "outputId": "cd72d1dd-a952-49dc-e7ac-5d18960f076c"
      },
      "execution_count": null,
      "outputs": [
        {
          "output_type": "display_data",
          "data": {
            "text/plain": [
              "<Figure size 432x288 with 1 Axes>"
            ],
            "image/png": "[encoded data removed]"
          },
          "metadata": {
            "needs_background": "light"
          }
        }
      ]
    },
    {
      "cell_type": "markdown",
      "source": [
        "###2.1.2. Spec 데이터와 대출한도의 상관관계"
      ],
      "metadata": {
        "id": "kJrDJNzYkMXj"
      }
    },
    {
      "cell_type": "code",
      "source": [
        "#연령별 평균 대출한도\n",
        "\n",
        "spec_loan.groupby('age')['loan_limit'].mean().plot()\n",
        "plt.title('Average loan limit for age')\n",
        "plt.xlabel('age')\n",
        "plt.ylabel('average loan limit')\n",
        "plt.show()"
      ],
      "metadata": {
        "id": "HdCyGIQmkMwr",
        "colab": {
          "base_uri": "https://localhost:8080/",
          "height": 295
        },
        "outputId": "ef36a695-e416-4005-e9d5-92637b352076"
      },
      "execution_count": null,
      "outputs": [
        {
          "output_type": "display_data",
          "data": {
            "text/plain": [
              "<Figure size 432x288 with 1 Axes>"
            ],
            "image/png": "[encoded data removed]"
          },
          "metadata": {
            "needs_background": "light"
          }
        }
      ]
    },
    {
      "cell_type": "code",
      "source": [
        "#성별별 평균 대출한도\n",
        "\n",
        "spec_loan.groupby('gender')['loan_limit'].mean().plot(kind = 'bar')\n",
        "plt.title('Average loan limit for gender')\n",
        "plt.xlabel('gender')\n",
        "plt.ylabel('average loan limit')\n",
        "plt.show()"
      ],
      "metadata": {
        "id": "pRcW4gyHkMws",
        "colab": {
          "base_uri": "https://localhost:8080/",
          "height": 301
        },
        "outputId": "fd29dd67-0502-485a-8eaa-bd9114960cd1"
      },
      "execution_count": null,
      "outputs": [
        {
          "output_type": "display_data",
          "data": {
            "text/plain": [
              "<Figure size 432x288 with 1 Axes>"
            ],
            "image/png": "[encoded data removed]"
          },
          "metadata": {
            "needs_background": "light"
          }
        }
      ]
    },
    {
      "cell_type": "code",
      "source": [
        "#신용점수별 평균 대출한도\n",
        "\n",
        "plt.plot(spec_loan['credit_score'].dropna().unique(), spec_loan.groupby('credit_score')['loan_limit'].mean(), '.')\n",
        "plt.title('Average loan limit for credit score')\n",
        "plt.xlabel('credit score')\n",
        "plt.ylabel('average loan limit')\n",
        "plt.show()"
      ],
      "metadata": {
        "id": "kP7CgnqmkMws",
        "colab": {
          "base_uri": "https://localhost:8080/",
          "height": 295
        },
        "outputId": "1f7ef3ea-6c9a-41ab-8012-1d5c8482cabc"
      },
      "execution_count": null,
      "outputs": [
        {
          "output_type": "display_data",
          "data": {
            "text/plain": [
              "<Figure size 432x288 with 1 Axes>"
            ],
            "image/png": "[encoded data removed]"
          },
          "metadata": {
            "needs_background": "light"
          }
        }
      ]
    },
    {
      "cell_type": "code",
      "source": [
        "#소득별 평균 대출한도\n",
        "\n",
        "import numpy as np #numpy 라이브러리 사용\n",
        "\n",
        "plt.plot(np.log(spec_loan['yearly_income'].sort_values().dropna().unique()), spec_loan.groupby('yearly_income')['loan_limit'].mean(), '.')\n",
        "plt.title('Average loan limit for yearly_income')\n",
        "plt.xlabel('yearly_income')\n",
        "plt.ylabel('average loan limit')\n",
        "plt.show()"
      ],
      "metadata": {
        "id": "oGDnySIPkMwt",
        "colab": {
          "base_uri": "https://localhost:8080/",
          "height": 333
        },
        "outputId": "36ae27f8-01d6-4089-b2a8-f2f47f238057"
      },
      "execution_count": null,
      "outputs": [
        {
          "output_type": "stream",
          "name": "stderr",
          "text": [
            "/usr/local/lib/python3.7/dist-packages/ipykernel_launcher.py:5: RuntimeWarning: divide by zero encountered in log\n",
            "  \"\"\"\n"
          ]
        },
        {
          "output_type": "display_data",
          "data": {
            "text/plain": [
              "<Figure size 432x288 with 1 Axes>"
            ],
            "image/png": "[encoded data removed]"
          },
          "metadata": {
            "needs_background": "light"
          }
        }
      ]
    },
    {
      "cell_type": "code",
      "source": [
        "#소득형태별 평균 대출한도\n",
        "\n",
        "spec_loan.groupby('income_type')['loan_limit'].mean().sort_values().plot(kind = 'bar')\n",
        "plt.title('Average loan limit for income_type')\n",
        "plt.xlabel('income_type')\n",
        "plt.ylabel('average loan limit')\n",
        "plt.show()"
      ],
      "metadata": {
        "id": "j5YZ-OeZkMwu",
        "colab": {
          "base_uri": "https://localhost:8080/",
          "height": 293
        },
        "outputId": "1c603b96-9ea1-4ae1-d312-475d562450d7"
      },
      "execution_count": null,
      "outputs": [
        {
          "output_type": "display_data",
          "data": {
            "text/plain": [
              "<Figure size 432x288 with 1 Axes>"
            ],
            "image/png": "[encoded data removed]"
          },
          "metadata": {
            "needs_background": "light"
          }
        }
      ]
    },
    {
      "cell_type": "code",
      "source": [
        "#고용형태별 평균 대출한도\n",
        "\n",
        "spec_loan.groupby('employment_type')['loan_limit'].mean().sort_values().plot(kind = 'bar');\n",
        "plt.title('Average loan limit for employment_type')\n",
        "plt.xlabel('employment_type')\n",
        "plt.ylabel('average loan limit')\n",
        "plt.show()"
      ],
      "metadata": {
        "id": "n7kkk1KwkMwu",
        "colab": {
          "base_uri": "https://localhost:8080/",
          "height": 293
        },
        "outputId": "a3edb3ab-8042-47cd-8fbf-640b69f4123c"
      },
      "execution_count": null,
      "outputs": [
        {
          "output_type": "display_data",
          "data": {
            "text/plain": [
              "<Figure size 432x288 with 1 Axes>"
            ],
            "image/png": "[encoded data removed]"
          },
          "metadata": {
            "needs_background": "light"
          }
        }
      ]
    },
    {
      "cell_type": "code",
      "source": [
        "#주거형태별 평균 대출한도\n",
        "\n",
        "spec_loan.groupby('houseown_type')['loan_limit'].mean().sort_values().plot(kind = 'bar');\n",
        "plt.title('Average loan limit for houseown_type')\n",
        "plt.xlabel('houseown_type')\n",
        "plt.ylabel('average loan limit')\n",
        "plt.show()"
      ],
      "metadata": {
        "id": "wDIUsovakMwv",
        "colab": {
          "base_uri": "https://localhost:8080/",
          "height": 293
        },
        "outputId": "415e8ddb-7037-4ad4-b03f-3645d6692733"
      },
      "execution_count": null,
      "outputs": [
        {
          "output_type": "display_data",
          "data": {
            "text/plain": [
              "<Figure size 432x288 with 1 Axes>"
            ],
            "image/png": "[encoded data removed]"
          },
          "metadata": {
            "needs_background": "light"
          }
        }
      ]
    },
    {
      "cell_type": "code",
      "source": [
        "#대출희망금액별 평균 대출한도\n",
        "\n",
        "plt.plot(np.log(spec_loan['desired_amount'].sort_values().dropna().unique()), np.log(spec_loan.groupby('desired_amount')['loan_limit'].mean()), '.')\n",
        "plt.title('Average loan limit for desired_amount')\n",
        "plt.xlabel('desired_amount')\n",
        "plt.ylabel('average loan limit')\n",
        "plt.show()"
      ],
      "metadata": {
        "id": "nZTTy0BukMww",
        "colab": {
          "base_uri": "https://localhost:8080/",
          "height": 333
        },
        "outputId": "4f701982-4f2f-4439-ec7d-d9d9cd2d7ecf"
      },
      "execution_count": null,
      "outputs": [
        {
          "output_type": "stream",
          "name": "stderr",
          "text": [
            "/usr/local/lib/python3.7/dist-packages/ipykernel_launcher.py:3: RuntimeWarning: divide by zero encountered in log\n",
            "  This is separate from the ipykernel package so we can avoid doing imports until\n"
          ]
        },
        {
          "output_type": "display_data",
          "data": {
            "text/plain": [
              "<Figure size 432x288 with 1 Axes>"
            ],
            "image/png": "[encoded data removed]"
          },
          "metadata": {
            "needs_background": "light"
          }
        }
      ]
    },
    {
      "cell_type": "code",
      "source": [
        "#대출목적별 평균 대출한도\n",
        "\n",
        "spec_loan.groupby('purpose')['loan_limit'].mean().sort_values().plot(kind = 'bar');\n",
        "plt.title('Average loan limit for purpose')\n",
        "plt.xlabel('purpose')\n",
        "plt.ylabel('average loan limit')\n",
        "plt.show()"
      ],
      "metadata": {
        "id": "MMTHHY6UkMww",
        "colab": {
          "base_uri": "https://localhost:8080/",
          "height": 363
        },
        "outputId": "f5dcd91b-06f2-4510-a3ba-08e134ac2765"
      },
      "execution_count": null,
      "outputs": [
        {
          "output_type": "display_data",
          "data": {
            "text/plain": [
              "<Figure size 432x288 with 1 Axes>"
            ],
            "image/png": "[encoded data removed]"
          },
          "metadata": {
            "needs_background": "light"
          }
        }
      ]
    },
    {
      "cell_type": "code",
      "source": [
        "#기존 대출 개수별 평균 대출한도\n",
        "\n",
        "plt.plot(spec_loan['existing_loan_cnt'].sort_values().dropna().unique(), spec_loan.groupby('existing_loan_cnt')['loan_limit'].mean(), '.')\n",
        "plt.title('Average loan limit for existing_loan_cnt')\n",
        "plt.xlabel('existing_loan_limit')\n",
        "plt.ylabel('average loan limit')\n",
        "plt.show()"
      ],
      "metadata": {
        "id": "sGpR6enokMwx",
        "colab": {
          "base_uri": "https://localhost:8080/",
          "height": 296
        },
        "outputId": "22350b18-c064-45ca-e05e-0a3744513422"
      },
      "execution_count": null,
      "outputs": [
        {
          "output_type": "display_data",
          "data": {
            "text/plain": [
              "<Figure size 432x288 with 1 Axes>"
            ],
            "image/png": "[encoded data removed]"
          },
          "metadata": {
            "needs_background": "light"
          }
        }
      ]
    },
    {
      "cell_type": "markdown",
      "source": [
        "###2.1.3. Spec 데이터와 대출 신청 여부"
      ],
      "metadata": {
        "id": "SWUMLr9EobHv"
      }
    },
    {
      "cell_type": "code",
      "source": [
        "#applied_once를 기준으로 대출신청률을 알아보기\n",
        "#동일한 유저가 과대반영되는 것을 막기 위하여 user_id별로 고유한 행만 남기기\n",
        "spec_loan_345_user = spec_loan_345.drop_duplicates(['user_id'])\n",
        "print('고유한 유저의 수 : ', len(spec_loan_345_user))"
      ],
      "metadata": {
        "id": "FCChah4vohn7",
        "colab": {
          "base_uri": "https://localhost:8080/"
        },
        "outputId": "45147e8e-7a68-4a5b-ece9-fb1be55da0f4"
      },
      "execution_count": null,
      "outputs": [
        {
          "output_type": "stream",
          "name": "stdout",
          "text": [
            "고유한 유저의 수 :  259321\n"
          ]
        }
      ]
    },
    {
      "cell_type": "code",
      "source": [
        "#대출 신청 여부와 연령\n",
        "\n",
        "spec_loan_345_user.groupby('age')['applied_once'].mean().plot();\n",
        "plt.title('apply rate for age')\n",
        "plt.xlabel('age')\n",
        "plt.ylabel('apply rate')\n",
        "plt.show()"
      ],
      "metadata": {
        "id": "pfq7RxBagDNM",
        "colab": {
          "base_uri": "https://localhost:8080/",
          "height": 295
        },
        "outputId": "0d7102eb-b7a6-42fe-971e-e162ccefd584"
      },
      "execution_count": null,
      "outputs": [
        {
          "output_type": "display_data",
          "data": {
            "text/plain": [
              "<Figure size 432x288 with 1 Axes>"
            ],
            "image/png": "[encoded data removed]"
          },
          "metadata": {
            "needs_background": "light"
          }
        }
      ]
    },
    {
      "cell_type": "code",
      "source": [
        "#대출 신청 여부와 성별\n",
        "\n",
        "spec_loan_345_user.groupby('applied_once')['gender'].mean().plot(kind = 'bar')\n",
        "plt.title('apply rate for gender')\n",
        "plt.xlabel('gender')\n",
        "plt.ylabel('apply rate')"
      ],
      "metadata": {
        "id": "kHFw7i1Bhjas",
        "colab": {
          "base_uri": "https://localhost:8080/",
          "height": 319
        },
        "outputId": "e7ed507b-55c3-44a7-ac1d-049af835b71f"
      },
      "execution_count": null,
      "outputs": [
        {
          "output_type": "execute_result",
          "data": {
            "text/plain": [
              "Text(0, 0.5, 'apply rate')"
            ]
          },
          "metadata": {},
          "execution_count": 103
        },
        {
          "output_type": "display_data",
          "data": {
            "text/plain": [
              "<Figure size 432x288 with 1 Axes>"
            ],
            "image/png": "[encoded data removed]"
          },
          "metadata": {
            "needs_background": "light"
          }
        }
      ]
    },
    {
      "cell_type": "code",
      "source": [
        "#대출 신청 여부와 신용점수\n",
        "\n",
        "spec_loan_345_user.groupby('applied_once')['credit_score'].mean().plot(kind = 'bar')\n",
        "plt.title('credit score and apply')\n",
        "plt.ylabel('credit score')\n",
        "plt.xlabel('apply once')\n",
        "plt.show()"
      ],
      "metadata": {
        "id": "iF59PKme3GVW",
        "colab": {
          "base_uri": "https://localhost:8080/",
          "height": 301
        },
        "outputId": "c600ca2c-af35-439b-aac5-63e45f7a6e0e"
      },
      "execution_count": null,
      "outputs": [
        {
          "output_type": "display_data",
          "data": {
            "text/plain": [
              "<Figure size 432x288 with 1 Axes>"
            ],
            "image/png": "[encoded data removed]"
          },
          "metadata": {
            "needs_background": "light"
          }
        }
      ]
    },
    {
      "cell_type": "code",
      "source": [
        "#대출 신청 여부와 연 소득\n",
        "\n",
        "import numpy as np\n",
        "\n",
        "spec_loan_345_user.groupby('applied_once')['yearly_income'].mean().plot(kind = 'bar')\n",
        "plt.title('Average apply rate for yearly_income')\n",
        "plt.ylabel('yearly_income')\n",
        "plt.xlabel('apply')\n",
        "plt.show()"
      ],
      "metadata": {
        "id": "-mKvaQhUjRKK",
        "colab": {
          "base_uri": "https://localhost:8080/",
          "height": 301
        },
        "outputId": "0a710669-3da4-4dda-a13a-9960d3c7ef80"
      },
      "execution_count": null,
      "outputs": [
        {
          "output_type": "display_data",
          "data": {
            "text/plain": [
              "<Figure size 432x288 with 1 Axes>"
            ],
            "image/png": "[encoded data removed]"
          },
          "metadata": {
            "needs_background": "light"
          }
        }
      ]
    },
    {
      "cell_type": "code",
      "source": [
        "#소득형태별 대출신청률\n",
        "\n",
        "spec_loan_345_user.groupby('income_type')['applied_once'].mean().sort_values().plot(kind = 'bar');\n",
        "plt.title('Average apply rate for income_type')\n",
        "plt.xlabel('income_type')\n",
        "plt.ylabel('average apply rate')\n",
        "plt.show()"
      ],
      "metadata": {
        "id": "vOHrOQPsntw9",
        "colab": {
          "base_uri": "https://localhost:8080/",
          "height": 293
        },
        "outputId": "5b582ce3-049e-4ee0-8fcc-e50361bd2c5b"
      },
      "execution_count": null,
      "outputs": [
        {
          "output_type": "display_data",
          "data": {
            "text/plain": [
              "<Figure size 432x288 with 1 Axes>"
            ],
            "image/png": "[encoded data removed]"
          },
          "metadata": {
            "needs_background": "light"
          }
        }
      ]
    },
    {
      "cell_type": "code",
      "source": [
        "#고용형태별 대출신청률\n",
        "\n",
        "spec_loan_345_user.groupby('employment_type')['applied_once'].mean().sort_values().plot(kind = 'bar');\n",
        "plt.title('Average apply rate for employment_type')\n",
        "plt.xlabel('employment_type')\n",
        "plt.ylabel('average apply rate')\n",
        "plt.show()"
      ],
      "metadata": {
        "id": "L6wXUkHim3EC",
        "colab": {
          "base_uri": "https://localhost:8080/",
          "height": 293
        },
        "outputId": "bc572adf-f6fa-4204-9527-22f6301db7b2"
      },
      "execution_count": null,
      "outputs": [
        {
          "output_type": "display_data",
          "data": {
            "text/plain": [
              "<Figure size 432x288 with 1 Axes>"
            ],
            "image/png": "[encoded data removed]"
          },
          "metadata": {
            "needs_background": "light"
          }
        }
      ]
    },
    {
      "cell_type": "code",
      "source": [
        "#주거형태별 대출신청률\n",
        "\n",
        "spec_loan_345_user.groupby('houseown_type')['applied_once'].mean().sort_values().plot(kind = 'bar');\n",
        "plt.title('Average apply rate for houseown_type')\n",
        "plt.xlabel('houseown_type')\n",
        "plt.ylabel('average apply rate')\n",
        "plt.show()"
      ],
      "metadata": {
        "id": "Cz8WdcOvn1ws",
        "colab": {
          "base_uri": "https://localhost:8080/",
          "height": 293
        },
        "outputId": "1eb10887-c8d3-4e8a-ad9e-562add1b6f2a"
      },
      "execution_count": null,
      "outputs": [
        {
          "output_type": "display_data",
          "data": {
            "text/plain": [
              "<Figure size 432x288 with 1 Axes>"
            ],
            "image/png": "[encoded data removed]"
          },
          "metadata": {
            "needs_background": "light"
          }
        }
      ]
    },
    {
      "cell_type": "code",
      "source": [
        "#희망대출금액별 대출신청률\n",
        "\n",
        "spec_loan_345_user.groupby('applied_once')['desired_amount'].mean().plot(kind = 'bar');\n",
        "plt.title('Average apply rate for purpose')\n",
        "plt.xlabel('apply')\n",
        "plt.ylabel('desired_amount')\n",
        "plt.show()"
      ],
      "metadata": {
        "id": "5OZYWDJ-n3zZ",
        "colab": {
          "base_uri": "https://localhost:8080/",
          "height": 301
        },
        "outputId": "68434d91-66db-4c99-898a-03bc60ef1064"
      },
      "execution_count": null,
      "outputs": [
        {
          "output_type": "display_data",
          "data": {
            "text/plain": [
              "<Figure size 432x288 with 1 Axes>"
            ],
            "image/png": "[encoded data removed]"
          },
          "metadata": {
            "needs_background": "light"
          }
        }
      ]
    },
    {
      "cell_type": "code",
      "source": [
        "#대출목적별 대출신청률\n",
        "\n",
        "spec_loan_345_user.groupby('purpose')['applied_once'].mean().sort_values().plot(kind = 'bar');\n",
        "plt.title('Average apply rate for purpose')\n",
        "plt.xlabel('purpose')\n",
        "plt.ylabel('average apply rate')\n",
        "plt.show()"
      ],
      "metadata": {
        "id": "1OR9JogVnwyp",
        "colab": {
          "base_uri": "https://localhost:8080/",
          "height": 363
        },
        "outputId": "d0f98333-e8c4-44f2-9fc8-d88a3ec0aaf2"
      },
      "execution_count": null,
      "outputs": [
        {
          "output_type": "display_data",
          "data": {
            "text/plain": [
              "<Figure size 432x288 with 1 Axes>"
            ],
            "image/png": "[encoded data removed]"
          },
          "metadata": {
            "needs_background": "light"
          }
        }
      ]
    },
    {
      "cell_type": "code",
      "source": [
        "#기존대출횟수과 대출신청률\n",
        "\n",
        "spec_loan_345_user.groupby('applied_once')['existing_loan_cnt'].mean().plot(kind = 'bar')\n",
        "plt.xlabel('apply')\n",
        "plt.ylabel('existing_loan_cnt')\n",
        "plt.show()"
      ],
      "metadata": {
        "id": "hiO3lLzHoFK5",
        "colab": {
          "base_uri": "https://localhost:8080/",
          "height": 285
        },
        "outputId": "d38ca489-930a-44f1-debd-7237b5cf11e0"
      },
      "execution_count": null,
      "outputs": [
        {
          "output_type": "display_data",
          "data": {
            "text/plain": [
              "<Figure size 432x288 with 1 Axes>"
            ],
            "image/png": "[encoded data removed]"
          },
          "metadata": {
            "needs_background": "light"
          }
        }
      ]
    },
    {
      "cell_type": "markdown",
      "source": [
        "##2.2. Loan data 탐색"
      ],
      "metadata": {
        "id": "94i80djXpCLe"
      }
    },
    {
      "cell_type": "markdown",
      "source": [
        "###2.2.1. 대출금리 및 대출한도의 신청여부와의 상관관계"
      ],
      "metadata": {
        "id": "pMfWsTolso2k"
      }
    },
    {
      "cell_type": "code",
      "source": [
        "#대출신청률과 대출금리\n",
        "\n",
        "spec_loan_345.groupby('is_applied')['loan_rate'].mean().plot(kind = 'bar')\n",
        "plt.xlabel('applied')\n",
        "plt.ylabel('loan rate')\n",
        "plt.show()"
      ],
      "metadata": {
        "id": "DmY5R57hpEKI",
        "colab": {
          "base_uri": "https://localhost:8080/",
          "height": 285
        },
        "outputId": "7ce6d069-a8d9-4da7-fb56-d232da916698"
      },
      "execution_count": null,
      "outputs": [
        {
          "output_type": "display_data",
          "data": {
            "text/plain": [
              "<Figure size 432x288 with 1 Axes>"
            ],
            "image/png": "[encoded data removed]"
          },
          "metadata": {
            "needs_background": "light"
          }
        }
      ]
    },
    {
      "cell_type": "code",
      "source": [
        "#대출신청률과 대출한도\n",
        "\n",
        "spec_loan_345.groupby('is_applied')['loan_limit'].mean().plot(kind = 'bar')\n",
        "plt.xlabel('applied')\n",
        "plt.ylabel('loan limit')\n",
        "plt.show()"
      ],
      "metadata": {
        "id": "vp3BXgzepyqt",
        "colab": {
          "base_uri": "https://localhost:8080/",
          "height": 296
        },
        "outputId": "4467f4bb-6c4d-4b98-f5dd-5b18ab7c824c"
      },
      "execution_count": null,
      "outputs": [
        {
          "output_type": "display_data",
          "data": {
            "text/plain": [
              "<Figure size 432x288 with 1 Axes>"
            ],
            "image/png": "[encoded data removed]"
          },
          "metadata": {
            "needs_background": "light"
          }
        }
      ]
    },
    {
      "cell_type": "code",
      "source": [
        "(spec_loan_345['is_applied'].value_counts()/len('is_applied')).plot(kind = 'bar')"
      ],
      "metadata": {
        "colab": {
          "base_uri": "https://localhost:8080/",
          "height": 300
        },
        "id": "6EmwIPZSCFrB",
        "outputId": "0bc7982b-40bf-4474-e962-325d71201347"
      },
      "execution_count": null,
      "outputs": [
        {
          "output_type": "execute_result",
          "data": {
            "text/plain": [
              "<matplotlib.axes._subplots.AxesSubplot at 0x7fb8a3e8eb90>"
            ]
          },
          "metadata": {},
          "execution_count": 114
        },
        {
          "output_type": "display_data",
          "data": {
            "text/plain": [
              "<Figure size 432x288 with 1 Axes>"
            ],
            "image/png": "[encoded data removed]"
          },
          "metadata": {
            "needs_background": "light"
          }
        }
      ]
    },
    {
      "cell_type": "markdown",
      "source": [
        "###2.2.2. 은행 및 대출상품유형별 대출 신청률"
      ],
      "metadata": {
        "id": "tld22maxsrfQ"
      }
    },
    {
      "cell_type": "code",
      "source": [
        "#대출신청률과 은행\n",
        "\n",
        "spec_loan_345['bank_id'] = spec_loan_345['bank_id'].astype('category')\n",
        "spec_loan_345.groupby('bank_id')['is_applied'].mean().sort_values(ascending = False).plot()\n",
        "plt.title('Average apply rate for bank')\n",
        "plt.xlabel('bank_id')\n",
        "plt.ylabel('average apply rate')\n",
        "plt.show()"
      ],
      "metadata": {
        "id": "Pst9E3clp74H",
        "colab": {
          "base_uri": "https://localhost:8080/",
          "height": 296
        },
        "outputId": "71724f0e-44ac-446c-8562-dd937d57e98d"
      },
      "execution_count": null,
      "outputs": [
        {
          "output_type": "display_data",
          "data": {
            "text/plain": [
              "<Figure size 432x288 with 1 Axes>"
            ],
            "image/png": "[encoded data removed]"
          },
          "metadata": {
            "needs_background": "light"
          }
        }
      ]
    },
    {
      "cell_type": "code",
      "source": [
        "#대출신청률과 대출상품\n",
        "\n",
        "spec_loan_345['product_id'] = spec_loan_345['product_id'].astype('category')\n",
        "spec_loan_345.groupby('product_id')['is_applied'].mean().sort_values(ascending = False).plot()\n",
        "plt.title('Average apply rate for product')\n",
        "plt.xlabel('product_id')\n",
        "plt.ylabel('average apply rate')\n",
        "plt.show()"
      ],
      "metadata": {
        "id": "rBFUvSgyqZ4S",
        "colab": {
          "base_uri": "https://localhost:8080/",
          "height": 296
        },
        "outputId": "ae55073b-0b6d-42cc-e869-361fe9c7c68b"
      },
      "execution_count": null,
      "outputs": [
        {
          "output_type": "display_data",
          "data": {
            "text/plain": [
              "<Figure size 432x288 with 1 Axes>"
            ],
            "image/png": "[encoded data removed]"
          },
          "metadata": {
            "needs_background": "light"
          }
        }
      ]
    },
    {
      "cell_type": "markdown",
      "source": [
        "##2.3. Log data 탐색"
      ],
      "metadata": {
        "id": "sd7eRAbyqhvV"
      }
    },
    {
      "cell_type": "markdown",
      "source": [
        "###2.3.1. 대출 신청 여부에 따른 행동별 횟수 차이"
      ],
      "metadata": {
        "id": "caakEdrKsxLc"
      }
    },
    {
      "cell_type": "code",
      "source": [
        "import matplotlib.pyplot as plt\n",
        "\n",
        "(log_345[log_345['applied_once'] == 1]['event'].value_counts(normalize = True).sort_index() - log_345[log_345['applied_once'] == 0]['event'].value_counts(normalize = True).sort_index()).sort_values().plot(kind = 'bar')\n",
        "plt.xticks(rotation=45)\n",
        "plt.figure(figsize=(16,30))"
      ],
      "metadata": {
        "id": "K_DCbBlsqlP4",
        "colab": {
          "base_uri": "https://localhost:8080/",
          "height": 384
        },
        "outputId": "ff720c51-7dec-41e0-f50b-fc4568cbdee5"
      },
      "execution_count": null,
      "outputs": [
        {
          "output_type": "execute_result",
          "data": {
            "text/plain": [
              "<Figure size 1152x2160 with 0 Axes>"
            ]
          },
          "metadata": {},
          "execution_count": 117
        },
        {
          "output_type": "display_data",
          "data": {
            "text/plain": [
              "<Figure size 432x288 with 1 Axes>"
            ],
            "image/png": "[encoded data removed]"
          },
          "metadata": {
            "needs_background": "light"
          }
        },
        {
          "output_type": "display_data",
          "data": {
            "text/plain": [
              "<Figure size 1152x2160 with 0 Axes>"
            ]
          },
          "metadata": {}
        }
      ]
    },
    {
      "cell_type": "markdown",
      "source": [
        "#3. 예측 모델 훈련"
      ],
      "metadata": {
        "id": "Tx2qdEp4t_8r"
      }
    },
    {
      "cell_type": "code",
      "source": [
        "#데이터 임포트\n",
        "\n",
        "spec_loan_345 = pd.read_csv('/content/drive/MyDrive/Modeling Project 2022/제출할 것만 최종정리/spec_loan_345_final.csv')\n",
        "log_user_345 = pd.read_csv('/content/drive/MyDrive/Modeling Project 2022/제출할 것만 최종정리/log_user_345_final.csv')\n",
        "\n",
        "spec_loan_6 = pd.read_csv('/content/drive/MyDrive/Modeling Project 2022/제출할 것만 최종정리/spec_loan_6_final.csv')\n",
        "log_user_6 = pd.read_csv('/content/drive/MyDrive/Modeling Project 2022/제출할 것만 최종정리/log_user_6_final.csv')"
      ],
      "metadata": {
        "id": "OAbI9QryG7oa"
      },
      "execution_count": null,
      "outputs": []
    },
    {
      "cell_type": "code",
      "source": [
        "spec_loan_345.isna().sum()"
      ],
      "metadata": {
        "colab": {
          "base_uri": "https://localhost:8080/"
        },
        "id": "_wEUZuuxZFyp",
        "outputId": "80e6f0e1-9d2b-41b2-ea7f-611815aa0921"
      },
      "execution_count": null,
      "outputs": [
        {
          "output_type": "execute_result",
          "data": {
            "text/plain": [
              "Unnamed: 0                   0\n",
              "application_id               0\n",
              "user_id                      0\n",
              "age                      91585\n",
              "gender                   91585\n",
              "insert_time                  0\n",
              "credit_score                 0\n",
              "yearly_income                0\n",
              "income_type                  0\n",
              "employment_type              0\n",
              "houseown_type                0\n",
              "desired_amount               0\n",
              "purpose                      0\n",
              "existing_loan_cnt            0\n",
              "loanapply_insert_time        0\n",
              "bank_id                      0\n",
              "product_id                   0\n",
              "loan_limit                   0\n",
              "loan_rate                    0\n",
              "is_applied                   0\n",
              "applied_once                 0\n",
              "dtype: int64"
            ]
          },
          "metadata": {},
          "execution_count": 10
        }
      ]
    },
    {
      "cell_type": "code",
      "source": [
        "spec_loan_6.isna().sum()"
      ],
      "metadata": {
        "colab": {
          "base_uri": "https://localhost:8080/"
        },
        "id": "1MpF2e53ZOhh",
        "outputId": "08827470-d9c6-412f-f737-2b465c26e33b"
      },
      "execution_count": null,
      "outputs": [
        {
          "output_type": "execute_result",
          "data": {
            "text/plain": [
              "Unnamed: 0                     0\n",
              "application_id                 0\n",
              "user_id                        0\n",
              "age                        36453\n",
              "gender                     36453\n",
              "insert_time                    0\n",
              "credit_score                   0\n",
              "yearly_income                  0\n",
              "income_type                    0\n",
              "employment_type                0\n",
              "houseown_type                  0\n",
              "desired_amount                 0\n",
              "purpose                        0\n",
              "existing_loan_cnt              0\n",
              "loanapply_insert_time          0\n",
              "bank_id                        0\n",
              "product_id                     0\n",
              "loan_limit                     0\n",
              "loan_rate                      0\n",
              "is_applied               3255482\n",
              "dtype: int64"
            ]
          },
          "metadata": {},
          "execution_count": 11
        }
      ]
    },
    {
      "cell_type": "markdown",
      "source": [
        "##3.1. 인풋 변수 선택"
      ],
      "metadata": {
        "id": "z8OwanYGuFn4"
      }
    },
    {
      "cell_type": "code",
      "source": [
        "spec_loan_log_345 = pd.merge(spec_loan_345, log_user_345, left_on = ['user_id', 'applied_once'], right_on = ['user_id', 'applied_once'], how = 'left')\n",
        "spec_loan_log_6 = pd.merge(spec_loan_6, log_user_6, left_on = 'user_id', right_on = 'user_id', how = 'left')"
      ],
      "metadata": {
        "id": "yZc2hxKdEzMh"
      },
      "execution_count": null,
      "outputs": []
    },
    {
      "cell_type": "code",
      "source": [
        "#로그의 결측치, 즉 유저에 매칭되는 로그를 구할 수 없는 경우, 해당 로그의 평균으로 대체\n",
        "\n",
        "spec_loan_log_345['CompleteIDCertification'] = spec_loan_log_345['CompleteIDCertification'].fillna(spec_loan_log_345['CompleteIDCertification'].mean())\n",
        "spec_loan_log_345['EndLoanApply'] = spec_loan_log_345['EndLoanApply'].fillna(spec_loan_log_345['EndLoanApply'].mean())\n",
        "spec_loan_log_345['GetCreditInfo'] = spec_loan_log_345['GetCreditInfo'].fillna(spec_loan_log_345['GetCreditInfo'].mean())\n",
        "spec_loan_log_345['Login'] = spec_loan_log_345['Login'].fillna(spec_loan_log_345['Login'].mean())\n",
        "spec_loan_log_345['OpenApp'] = spec_loan_log_345['OpenApp'].fillna(spec_loan_log_345['OpenApp'].mean())\n",
        "spec_loan_log_345['SignUp'] = spec_loan_log_345['SignUp'].fillna(spec_loan_log_345['SignUp'].mean())\n",
        "spec_loan_log_345['StartLoanApply'] = spec_loan_log_345['StartLoanApply'].fillna(spec_loan_log_345['StartLoanApply'].mean())\n",
        "spec_loan_log_345['UseDSRCalc'] = spec_loan_log_345['UseDSRCalc'].fillna(spec_loan_log_345['UseDSRCalc'].mean())\n",
        "spec_loan_log_345['UseLoanManage'] = spec_loan_log_345['UseLoanManage'].fillna(spec_loan_log_345['UseLoanManage'].mean())\n",
        "spec_loan_log_345['UsePrepayCalc'] = spec_loan_log_345['UsePrepayCalc'].fillna(spec_loan_log_345['UsePrepayCalc'].mean())\n",
        "spec_loan_log_345['ViewLoanApplyIntro'] = spec_loan_log_345['ViewLoanApplyIntro'].fillna(spec_loan_log_345['ViewLoanApplyIntro'].mean())\n",
        "\n",
        "spec_loan_log_6['CompleteIDCertification'] = spec_loan_log_6['CompleteIDCertification'].fillna(spec_loan_log_6['CompleteIDCertification'].mean())\n",
        "spec_loan_log_6['EndLoanApply'] = spec_loan_log_6['EndLoanApply'].fillna(spec_loan_log_6['EndLoanApply'].mean())\n",
        "spec_loan_log_6['GetCreditInfo'] = spec_loan_log_6['GetCreditInfo'].fillna(spec_loan_log_6['GetCreditInfo'].mean())\n",
        "spec_loan_log_6['Login'] = spec_loan_log_6['Login'].fillna(spec_loan_log_6['Login'].mean())\n",
        "spec_loan_log_6['OpenApp'] = spec_loan_log_6['OpenApp'].fillna(spec_loan_log_6['OpenApp'].mean())\n",
        "spec_loan_log_6['SignUp'] = spec_loan_log_6['SignUp'].fillna(spec_loan_log_6['SignUp'].mean())\n",
        "spec_loan_log_6['StartLoanApply'] = spec_loan_log_6['StartLoanApply'].fillna(spec_loan_log_6['StartLoanApply'].mean())\n",
        "spec_loan_log_6['UseDSRCalc'] = spec_loan_log_6['UseDSRCalc'].fillna(spec_loan_log_6['UseDSRCalc'].mean())\n",
        "spec_loan_log_6['UseLoanManage'] = spec_loan_log_6['UseLoanManage'].fillna(spec_loan_log_6['UseLoanManage'].mean())\n",
        "spec_loan_log_6['UsePrepayCalc'] = spec_loan_log_6['UsePrepayCalc'].fillna(spec_loan_log_6['UsePrepayCalc'].mean())\n",
        "spec_loan_log_6['ViewLoanApplyIntro'] = spec_loan_log_6['ViewLoanApplyIntro'].fillna(spec_loan_log_6['ViewLoanApplyIntro'].mean())"
      ],
      "metadata": {
        "id": "XkOUkG5kpzUA"
      },
      "execution_count": null,
      "outputs": []
    },
    {
      "cell_type": "code",
      "source": [
        "#연령, 성별, inser_time, loan_apply_inser_time은 제외\n",
        "#연령은 결측치가 많고, 성별은 EDA 결과로 볼 때 Y와 상관이 유의하지 않을 것으로 판단\n",
        "\n",
        "spec_loan_log_345 = spec_loan_log_345[['application_id', 'user_id', 'credit_score', 'yearly_income', 'income_type',\n",
        "                            'employment_type', 'houseown_type', 'desired_amount', 'purpose', \n",
        "                            'bank_id', 'product_id', 'loan_limit', 'loan_rate', 'CompleteIDCertification', 'EndLoanApply', 'GetCreditInfo',\n",
        "                            'Login', 'OpenApp', 'SignUp', 'StartLoanApply', 'UseDSRCalc',\n",
        "                            'UseLoanManage', 'UsePrepayCalc', 'ViewLoanApplyIntro', 'applied_once', 'is_applied']]\n",
        "\n",
        "spec_loan_log_6 = spec_loan_log_6[['application_id', 'user_id', 'credit_score', 'yearly_income', 'income_type',\n",
        "                            'employment_type', 'houseown_type', 'desired_amount', 'purpose', \n",
        "                            'bank_id', 'product_id', 'loan_limit', 'loan_rate', 'CompleteIDCertification', 'EndLoanApply', 'GetCreditInfo',\n",
        "                            'Login', 'OpenApp', 'SignUp', 'StartLoanApply', 'UseDSRCalc',\n",
        "                            'UseLoanManage', 'UsePrepayCalc', 'ViewLoanApplyIntro', 'is_applied']]"
      ],
      "metadata": {
        "id": "uftvRyFFuEmO"
      },
      "execution_count": null,
      "outputs": []
    },
    {
      "cell_type": "markdown",
      "source": [
        "###3.1.1. 대출조건 표준화"
      ],
      "metadata": {
        "id": "LZawfk-Ef_2B"
      }
    },
    {
      "cell_type": "code",
      "source": [
        "#개인별 표준화된 대출 조건 구하기 위해 평균과 표준편차 계산\n",
        "\n",
        "user_rate_mean = spec_loan_log_345.groupby('user_id')['loan_rate'].mean()\n",
        "user_rate_std = spec_loan_log_345.groupby('user_id')['loan_rate'].std()\n",
        "user_limit_mean = spec_loan_log_345.groupby('user_id')['loan_limit'].mean()\n",
        "user_limit_std = spec_loan_log_345.groupby('user_id')['loan_limit'].std()\n",
        "\n",
        "loan_st = pd.DataFrame()\n",
        "loan_st['user_id'] = spec_loan_log_345['user_id'].unique()\n",
        "loan_st = loan_st.sort_values('user_id')\n",
        "loan_st['rate_mean'] = user_rate_mean.tolist()\n",
        "loan_st['rate_std'] = user_rate_std.tolist()\n",
        "loan_st['limit_mean'] = user_limit_mean.tolist()\n",
        "loan_st['limit_std'] = user_limit_std.tolist()"
      ],
      "metadata": {
        "id": "xWk9L5MZc0lh"
      },
      "execution_count": null,
      "outputs": []
    },
    {
      "cell_type": "code",
      "source": [
        "spec_loan_log_345 = pd.merge(spec_loan_log_345, loan_st, left_on = 'user_id', right_on = 'user_id', how = 'left')\n",
        "\n",
        "#표준편차 결측인 경우 평균으로 대체\n",
        "\n",
        "spec_loan_log_345['rate_std'] = spec_loan_log_345['rate_std'].fillna(spec_loan_log_345['rate_std'].mean())\n",
        "spec_loan_log_345['limit_std'] = spec_loan_log_345['limit_std'].fillna(spec_loan_log_345['limit_std'].mean())"
      ],
      "metadata": {
        "id": "Jaxoz1vdiGS1"
      },
      "execution_count": null,
      "outputs": []
    },
    {
      "cell_type": "code",
      "source": [
        "#표준화 = (금리 - 평균)/표준편차\n",
        "\n",
        "spec_loan_log_345['rate_s'] = (spec_loan_log_345['loan_rate'] - spec_loan_log_345['rate_mean'])/spec_loan_log_345['rate_std']\n",
        "spec_loan_log_345['limit_s'] = (spec_loan_log_345['loan_limit'] - spec_loan_log_345['limit_mean'])/spec_loan_log_345['limit_std']\n",
        "\n",
        "#표준화 과정에서 표준편차가 0인 경우 무한으로 발산하므로, 이 경우 평균으로 대체\n",
        "\n",
        "spec_loan_log_345 = spec_loan_log_345.replace([np.inf, -np.inf], np.nan)\n",
        "spec_loan_log_345['rate_s'] = spec_loan_log_345['rate_s'].fillna(spec_loan_log_345['rate_s'].mean())\n",
        "spec_loan_log_345['limit_s'] = spec_loan_log_345['limit_s'].fillna(spec_loan_log_345['limit_s'].mean())"
      ],
      "metadata": {
        "id": "IgfxSecmhLlo"
      },
      "execution_count": null,
      "outputs": []
    },
    {
      "cell_type": "code",
      "source": [
        "#6월에 대해서도 위 과정 동일하게 실행\n",
        "\n",
        "#개인별 표준화된 대출 조건 구하기 위해 평균과 표준편차 계산\n",
        "\n",
        "user_rate_mean = spec_loan_log_6.groupby('user_id')['loan_rate'].mean()\n",
        "user_rate_std = spec_loan_log_6.groupby('user_id')['loan_rate'].std()\n",
        "user_limit_mean = spec_loan_log_6.groupby('user_id')['loan_limit'].mean()\n",
        "user_limit_std = spec_loan_log_6.groupby('user_id')['loan_limit'].std()\n",
        "\n",
        "loan_st = pd.DataFrame()\n",
        "loan_st['user_id'] = spec_loan_log_6['user_id'].unique()\n",
        "loan_st = loan_st.sort_values('user_id')\n",
        "loan_st['rate_mean'] = user_rate_mean.tolist()\n",
        "loan_st['rate_std'] = user_rate_std.tolist()\n",
        "loan_st['limit_mean'] = user_limit_mean.tolist()\n",
        "loan_st['limit_std'] = user_limit_std.tolist()\n",
        "\n",
        "spec_loan_log_6 = pd.merge(spec_loan_log_6, loan_st, left_on = 'user_id', right_on = 'user_id', how = 'left')\n",
        "\n",
        "#표준편차 결측인 경우 평균으로 대체\n",
        "\n",
        "spec_loan_log_6['rate_std'] = spec_loan_log_6['rate_std'].fillna(spec_loan_log_6['rate_std'].mean())\n",
        "spec_loan_log_6['limit_std'] = spec_loan_log_6['limit_std'].fillna(spec_loan_log_6['limit_std'].mean())\n",
        "\n",
        "#표준화 = (금리 - 평균)/표준편차\n",
        "\n",
        "spec_loan_log_6['rate_s'] = (spec_loan_log_6['loan_rate'] - spec_loan_log_6['rate_mean'])/spec_loan_log_6['rate_std']\n",
        "spec_loan_log_6['limit_s'] = (spec_loan_log_6['loan_limit'] - spec_loan_log_6['limit_mean'])/spec_loan_log_6['limit_std']\n",
        "\n",
        "#표준화 과정에서 표준편차가 0인 경우 무한으로 발산하므로, 이 경우 평균으로 대체\n",
        "\n",
        "spec_loan_log_6 = spec_loan_log_6.replace([np.inf, -np.inf], np.nan)\n",
        "spec_loan_log_6['rate_s'] = spec_loan_log_6['rate_s'].fillna(spec_loan_log_6['rate_s'].mean())\n",
        "spec_loan_log_6['limit_s'] = spec_loan_log_6['limit_s'].fillna(spec_loan_log_6['limit_s'].mean())"
      ],
      "metadata": {
        "id": "1aGc40QMY2Fw"
      },
      "execution_count": null,
      "outputs": []
    },
    {
      "cell_type": "code",
      "source": [
        "# 필요한 특성만 추리기\n",
        "\n",
        "spec_loan_log_345 = spec_loan_log_345[['application_id', 'user_id', 'credit_score', 'yearly_income',\n",
        "       'income_type', 'employment_type', 'houseown_type', 'desired_amount', 'purpose', \n",
        "       'CompleteIDCertification', 'EndLoanApply', 'GetCreditInfo', 'Login',\n",
        "       'OpenApp', 'SignUp', 'StartLoanApply', 'UseDSRCalc', 'UseLoanManage',\n",
        "       'UsePrepayCalc', 'ViewLoanApplyIntro', \n",
        "       'rate_s', 'limit_s', 'bank_id', 'product_id', 'applied_once', 'is_applied']]\n",
        "\n",
        "spec_loan_log_6 = spec_loan_log_6[['application_id', 'user_id', 'credit_score', 'yearly_income',\n",
        "       'income_type', 'employment_type', 'houseown_type', 'desired_amount', 'purpose', \n",
        "       'CompleteIDCertification', 'EndLoanApply', 'GetCreditInfo', 'Login',\n",
        "       'OpenApp', 'SignUp', 'StartLoanApply', 'UseDSRCalc', 'UseLoanManage',\n",
        "       'UsePrepayCalc', 'ViewLoanApplyIntro', \n",
        "       'rate_s', 'limit_s', 'bank_id', 'product_id', 'is_applied']]"
      ],
      "metadata": {
        "id": "JN5jDsy4tcVH"
      },
      "execution_count": null,
      "outputs": []
    },
    {
      "cell_type": "code",
      "source": [
        "spec_loan_log_345.isna().sum()"
      ],
      "metadata": {
        "id": "dy-aJd1PraXy",
        "colab": {
          "base_uri": "https://localhost:8080/"
        },
        "outputId": "f8685814-98e1-44b5-8b23-8e7c573f804b"
      },
      "execution_count": null,
      "outputs": [
        {
          "output_type": "execute_result",
          "data": {
            "text/plain": [
              "application_id             0\n",
              "user_id                    0\n",
              "credit_score               0\n",
              "yearly_income              0\n",
              "income_type                0\n",
              "employment_type            0\n",
              "houseown_type              0\n",
              "desired_amount             0\n",
              "purpose                    0\n",
              "CompleteIDCertification    0\n",
              "EndLoanApply               0\n",
              "GetCreditInfo              0\n",
              "Login                      0\n",
              "OpenApp                    0\n",
              "SignUp                     0\n",
              "StartLoanApply             0\n",
              "UseDSRCalc                 0\n",
              "UseLoanManage              0\n",
              "UsePrepayCalc              0\n",
              "ViewLoanApplyIntro         0\n",
              "rate_s                     0\n",
              "limit_s                    0\n",
              "bank_id                    0\n",
              "product_id                 0\n",
              "applied_once               0\n",
              "is_applied                 0\n",
              "dtype: int64"
            ]
          },
          "metadata": {},
          "execution_count": 20
        }
      ]
    },
    {
      "cell_type": "code",
      "source": [
        "spec_loan_log_6.isna().sum()"
      ],
      "metadata": {
        "colab": {
          "base_uri": "https://localhost:8080/"
        },
        "outputId": "bcbc3864-54cc-4d18-a9fd-c8c5a5d9081c",
        "id": "qrKDvBKDY2Fy"
      },
      "execution_count": null,
      "outputs": [
        {
          "output_type": "execute_result",
          "data": {
            "text/plain": [
              "application_id                   0\n",
              "user_id                          0\n",
              "credit_score                     0\n",
              "yearly_income                    0\n",
              "income_type                      0\n",
              "employment_type                  0\n",
              "houseown_type                    0\n",
              "desired_amount                   0\n",
              "purpose                          0\n",
              "CompleteIDCertification          0\n",
              "EndLoanApply                     0\n",
              "GetCreditInfo                    0\n",
              "Login                            0\n",
              "OpenApp                          0\n",
              "SignUp                           0\n",
              "StartLoanApply                   0\n",
              "UseDSRCalc                       0\n",
              "UseLoanManage                    0\n",
              "UsePrepayCalc                    0\n",
              "ViewLoanApplyIntro               0\n",
              "rate_s                           0\n",
              "limit_s                          0\n",
              "bank_id                          0\n",
              "product_id                       0\n",
              "is_applied                 3255482\n",
              "dtype: int64"
            ]
          },
          "metadata": {},
          "execution_count": 21
        }
      ]
    },
    {
      "cell_type": "code",
      "source": [
        "#데이터 저장\n",
        "\n",
        "#spec_loan_log_345.to_csv('spec_loan_log_345.csv', index = False)\n",
        "#spec_loan_log_6.to_csv('spec_loan_log_6.csv', index = False)"
      ],
      "metadata": {
        "id": "w73EgZQOsMWq"
      },
      "execution_count": null,
      "outputs": []
    },
    {
      "cell_type": "markdown",
      "source": [
        "##3.2. train set과 test set의 분리"
      ],
      "metadata": {
        "id": "cc01yzxG90XS"
      }
    },
    {
      "cell_type": "code",
      "source": [
        "spec_loan_log_345 = pd.read_csv('/content/drive/MyDrive/Modeling Project 2022/제출할 것만 최종정리/spec_loan_log_345.csv')"
      ],
      "metadata": {
        "id": "dvGy2JbCxQ1X"
      },
      "execution_count": null,
      "outputs": []
    },
    {
      "cell_type": "code",
      "source": [
        "spec_loan_log_345"
      ],
      "metadata": {
        "colab": {
          "base_uri": "https://localhost:8080/"
        },
        "id": "wGdjcIYwapsK",
        "outputId": "464290a7-f4db-4bb3-964b-34f688ad7764"
      },
      "execution_count": null,
      "outputs": [
        {
          "output_type": "execute_result",
          "data": {
            "text/plain": [
              "          application_id   user_id  credit_score  yearly_income  income_type  \\\n",
              "0                2157865  346970.0    405.463757     32000000.0            5   \n",
              "1                 576643  545882.0    439.252403     72000000.0            5   \n",
              "2                 576643  545882.0    439.252403     72000000.0            5   \n",
              "3                2136706  558819.0    574.406989     39000000.0            5   \n",
              "4                2136706  558819.0    574.406989     39000000.0            5   \n",
              "...                  ...       ...           ...            ...          ...   \n",
              "10264381         1969227  109899.0    456.146726     37000000.0            5   \n",
              "10264382         1969227  109899.0    456.146726     37000000.0            5   \n",
              "10264383         1969227  109899.0    456.146726     37000000.0            5   \n",
              "10264384         1969227  109899.0    456.146726     37000000.0            5   \n",
              "10264385         1969227  109899.0    456.146726     37000000.0            5   \n",
              "\n",
              "          employment_type  houseown_type  desired_amount     purpose  \\\n",
              "0                       4              4      10000000.0      LIVING   \n",
              "1                       4              1      20000000.0      LIVING   \n",
              "2                       4              1      20000000.0      LIVING   \n",
              "3                       4              1      80000000.0  SWITCHLOAN   \n",
              "4                       4              1      80000000.0  SWITCHLOAN   \n",
              "...                   ...            ...             ...         ...   \n",
              "10264381                4              4      20000000.0  SWITCHLOAN   \n",
              "10264382                4              4      20000000.0  SWITCHLOAN   \n",
              "10264383                4              4      20000000.0  SWITCHLOAN   \n",
              "10264384                4              4      20000000.0  SWITCHLOAN   \n",
              "10264385                4              4      20000000.0  SWITCHLOAN   \n",
              "\n",
              "          CompleteIDCertification  ...  UseDSRCalc  UseLoanManage  \\\n",
              "0                             5.0  ...         0.0            5.0   \n",
              "1                            10.0  ...         0.0            0.0   \n",
              "2                            10.0  ...         0.0            0.0   \n",
              "3                             3.0  ...         0.0           11.0   \n",
              "4                             3.0  ...         0.0           11.0   \n",
              "...                           ...  ...         ...            ...   \n",
              "10264381                     21.0  ...         0.0            6.0   \n",
              "10264382                     21.0  ...         0.0            6.0   \n",
              "10264383                     21.0  ...         0.0            6.0   \n",
              "10264384                     21.0  ...         0.0            6.0   \n",
              "10264385                     21.0  ...         0.0            6.0   \n",
              "\n",
              "          UsePrepayCalc  ViewLoanApplyIntro    rate_s   limit_s  bank_id  \\\n",
              "0                   0.0                 5.0  0.000000  0.000000       54   \n",
              "1                   0.0                12.0 -0.839169  0.201376       54   \n",
              "2                   0.0                12.0  1.098706 -0.872630       11   \n",
              "3                   0.0                 7.0 -0.072663 -0.900962       42   \n",
              "4                   0.0                 7.0  0.744371 -0.049490       25   \n",
              "...                 ...                 ...       ...       ...      ...   \n",
              "10264381            0.0                28.0 -0.623897  2.437460        2   \n",
              "10264382            0.0                28.0 -0.260279  0.050401       33   \n",
              "10264383            0.0                28.0 -1.714752 -0.631616       50   \n",
              "10264384            0.0                28.0  0.148792 -0.517947       22   \n",
              "10264385            0.0                28.0  0.239697  0.050401       19   \n",
              "\n",
              "          product_id  applied_once  is_applied  \n",
              "0                235           1.0         1.0  \n",
              "1                235           1.0         0.0  \n",
              "2                118           1.0         0.0  \n",
              "3                216           1.0         0.0  \n",
              "4                169           1.0         0.0  \n",
              "...              ...           ...         ...  \n",
              "10264381           7           1.0         0.0  \n",
              "10264382         110           1.0         0.0  \n",
              "10264383         142           1.0         0.0  \n",
              "10264384         100           1.0         0.0  \n",
              "10264385         231           1.0         0.0  \n",
              "\n",
              "[10264386 rows x 26 columns]"
            ],
            "text/html": [
              "\n",
              "  <div id=\"df-60332f03-81f7-46a2-b965-db679ce7b610\">\n",
              "    <div class=\"colab-df-container\">\n",
              "      <div>\n",
              "<style scoped>\n",
              "    .dataframe tbody tr th:only-of-type {\n",
              "        vertical-align: middle;\n",
              "    }\n",
              "\n",
              "    .dataframe tbody tr th {\n",
              "        vertical-align: top;\n",
              "    }\n",
              "\n",
              "    .dataframe thead th {\n",
              "        text-align: right;\n",
              "    }\n",
              "</style>\n",
              "<table border=\"1\" class=\"dataframe\">\n",
              "  <thead>\n",
              "    <tr style=\"text-align: right;\">\n",
              "      <th></th>\n",
              "      <th>application_id</th>\n",
              "      <th>user_id</th>\n",
              "      <th>credit_score</th>\n",
              "      <th>yearly_income</th>\n",
              "      <th>income_type</th>\n",
              "      <th>employment_type</th>\n",
              "      <th>houseown_type</th>\n",
              "      <th>desired_amount</th>\n",
              "      <th>purpose</th>\n",
              "      <th>CompleteIDCertification</th>\n",
              "      <th>...</th>\n",
              "      <th>UseDSRCalc</th>\n",
              "      <th>UseLoanManage</th>\n",
              "      <th>UsePrepayCalc</th>\n",
              "      <th>ViewLoanApplyIntro</th>\n",
              "      <th>rate_s</th>\n",
              "      <th>limit_s</th>\n",
              "      <th>bank_id</th>\n",
              "      <th>product_id</th>\n",
              "      <th>applied_once</th>\n",
              "      <th>is_applied</th>\n",
              "    </tr>\n",
              "  </thead>\n",
              "  <tbody>\n",
              "    <tr>\n",
              "      <th>0</th>\n",
              "      <td>2157865</td>\n",
              "      <td>346970.0</td>\n",
              "      <td>405.463757</td>\n",
              "      <td>32000000.0</td>\n",
              "      <td>5</td>\n",
              "      <td>4</td>\n",
              "      <td>4</td>\n",
              "      <td>10000000.0</td>\n",
              "      <td>LIVING</td>\n",
              "      <td>5.0</td>\n",
              "      <td>...</td>\n",
              "      <td>0.0</td>\n",
              "      <td>5.0</td>\n",
              "      <td>0.0</td>\n",
              "      <td>5.0</td>\n",
              "      <td>0.000000</td>\n",
              "      <td>0.000000</td>\n",
              "      <td>54</td>\n",
              "      <td>235</td>\n",
              "      <td>1.0</td>\n",
              "      <td>1.0</td>\n",
              "    </tr>\n",
              "    <tr>\n",
              "      <th>1</th>\n",
              "      <td>576643</td>\n",
              "      <td>545882.0</td>\n",
              "      <td>439.252403</td>\n",
              "      <td>72000000.0</td>\n",
              "      <td>5</td>\n",
              "      <td>4</td>\n",
              "      <td>1</td>\n",
              "      <td>20000000.0</td>\n",
              "      <td>LIVING</td>\n",
              "      <td>10.0</td>\n",
              "      <td>...</td>\n",
              "      <td>0.0</td>\n",
              "      <td>0.0</td>\n",
              "      <td>0.0</td>\n",
              "      <td>12.0</td>\n",
              "      <td>-0.839169</td>\n",
              "      <td>0.201376</td>\n",
              "      <td>54</td>\n",
              "      <td>235</td>\n",
              "      <td>1.0</td>\n",
              "      <td>0.0</td>\n",
              "    </tr>\n",
              "    <tr>\n",
              "      <th>2</th>\n",
              "      <td>576643</td>\n",
              "      <td>545882.0</td>\n",
              "      <td>439.252403</td>\n",
              "      <td>72000000.0</td>\n",
              "      <td>5</td>\n",
              "      <td>4</td>\n",
              "      <td>1</td>\n",
              "      <td>20000000.0</td>\n",
              "      <td>LIVING</td>\n",
              "      <td>10.0</td>\n",
              "      <td>...</td>\n",
              "      <td>0.0</td>\n",
              "      <td>0.0</td>\n",
              "      <td>0.0</td>\n",
              "      <td>12.0</td>\n",
              "      <td>1.098706</td>\n",
              "      <td>-0.872630</td>\n",
              "      <td>11</td>\n",
              "      <td>118</td>\n",
              "      <td>1.0</td>\n",
              "      <td>0.0</td>\n",
              "    </tr>\n",
              "    <tr>\n",
              "      <th>3</th>\n",
              "      <td>2136706</td>\n",
              "      <td>558819.0</td>\n",
              "      <td>574.406989</td>\n",
              "      <td>39000000.0</td>\n",
              "      <td>5</td>\n",
              "      <td>4</td>\n",
              "      <td>1</td>\n",
              "      <td>80000000.0</td>\n",
              "      <td>SWITCHLOAN</td>\n",
              "      <td>3.0</td>\n",
              "      <td>...</td>\n",
              "      <td>0.0</td>\n",
              "      <td>11.0</td>\n",
              "      <td>0.0</td>\n",
              "      <td>7.0</td>\n",
              "      <td>-0.072663</td>\n",
              "      <td>-0.900962</td>\n",
              "      <td>42</td>\n",
              "      <td>216</td>\n",
              "      <td>1.0</td>\n",
              "      <td>0.0</td>\n",
              "    </tr>\n",
              "    <tr>\n",
              "      <th>4</th>\n",
              "      <td>2136706</td>\n",
              "      <td>558819.0</td>\n",
              "      <td>574.406989</td>\n",
              "      <td>39000000.0</td>\n",
              "      <td>5</td>\n",
              "      <td>4</td>\n",
              "      <td>1</td>\n",
              "      <td>80000000.0</td>\n",
              "      <td>SWITCHLOAN</td>\n",
              "      <td>3.0</td>\n",
              "      <td>...</td>\n",
              "      <td>0.0</td>\n",
              "      <td>11.0</td>\n",
              "      <td>0.0</td>\n",
              "      <td>7.0</td>\n",
              "      <td>0.744371</td>\n",
              "      <td>-0.049490</td>\n",
              "      <td>25</td>\n",
              "      <td>169</td>\n",
              "      <td>1.0</td>\n",
              "      <td>0.0</td>\n",
              "    </tr>\n",
              "    <tr>\n",
              "      <th>...</th>\n",
              "      <td>...</td>\n",
              "      <td>...</td>\n",
              "      <td>...</td>\n",
              "      <td>...</td>\n",
              "      <td>...</td>\n",
              "      <td>...</td>\n",
              "      <td>...</td>\n",
              "      <td>...</td>\n",
              "      <td>...</td>\n",
              "      <td>...</td>\n",
              "      <td>...</td>\n",
              "      <td>...</td>\n",
              "      <td>...</td>\n",
              "      <td>...</td>\n",
              "      <td>...</td>\n",
              "      <td>...</td>\n",
              "      <td>...</td>\n",
              "      <td>...</td>\n",
              "      <td>...</td>\n",
              "      <td>...</td>\n",
              "      <td>...</td>\n",
              "    </tr>\n",
              "    <tr>\n",
              "      <th>10264381</th>\n",
              "      <td>1969227</td>\n",
              "      <td>109899.0</td>\n",
              "      <td>456.146726</td>\n",
              "      <td>37000000.0</td>\n",
              "      <td>5</td>\n",
              "      <td>4</td>\n",
              "      <td>4</td>\n",
              "      <td>20000000.0</td>\n",
              "      <td>SWITCHLOAN</td>\n",
              "      <td>21.0</td>\n",
              "      <td>...</td>\n",
              "      <td>0.0</td>\n",
              "      <td>6.0</td>\n",
              "      <td>0.0</td>\n",
              "      <td>28.0</td>\n",
              "      <td>-0.623897</td>\n",
              "      <td>2.437460</td>\n",
              "      <td>2</td>\n",
              "      <td>7</td>\n",
              "      <td>1.0</td>\n",
              "      <td>0.0</td>\n",
              "    </tr>\n",
              "    <tr>\n",
              "      <th>10264382</th>\n",
              "      <td>1969227</td>\n",
              "      <td>109899.0</td>\n",
              "      <td>456.146726</td>\n",
              "      <td>37000000.0</td>\n",
              "      <td>5</td>\n",
              "      <td>4</td>\n",
              "      <td>4</td>\n",
              "      <td>20000000.0</td>\n",
              "      <td>SWITCHLOAN</td>\n",
              "      <td>21.0</td>\n",
              "      <td>...</td>\n",
              "      <td>0.0</td>\n",
              "      <td>6.0</td>\n",
              "      <td>0.0</td>\n",
              "      <td>28.0</td>\n",
              "      <td>-0.260279</td>\n",
              "      <td>0.050401</td>\n",
              "      <td>33</td>\n",
              "      <td>110</td>\n",
              "      <td>1.0</td>\n",
              "      <td>0.0</td>\n",
              "    </tr>\n",
              "    <tr>\n",
              "      <th>10264383</th>\n",
              "      <td>1969227</td>\n",
              "      <td>109899.0</td>\n",
              "      <td>456.146726</td>\n",
              "      <td>37000000.0</td>\n",
              "      <td>5</td>\n",
              "      <td>4</td>\n",
              "      <td>4</td>\n",
              "      <td>20000000.0</td>\n",
              "      <td>SWITCHLOAN</td>\n",
              "      <td>21.0</td>\n",
              "      <td>...</td>\n",
              "      <td>0.0</td>\n",
              "      <td>6.0</td>\n",
              "      <td>0.0</td>\n",
              "      <td>28.0</td>\n",
              "      <td>-1.714752</td>\n",
              "      <td>-0.631616</td>\n",
              "      <td>50</td>\n",
              "      <td>142</td>\n",
              "      <td>1.0</td>\n",
              "      <td>0.0</td>\n",
              "    </tr>\n",
              "    <tr>\n",
              "      <th>10264384</th>\n",
              "      <td>1969227</td>\n",
              "      <td>109899.0</td>\n",
              "      <td>456.146726</td>\n",
              "      <td>37000000.0</td>\n",
              "      <td>5</td>\n",
              "      <td>4</td>\n",
              "      <td>4</td>\n",
              "      <td>20000000.0</td>\n",
              "      <td>SWITCHLOAN</td>\n",
              "      <td>21.0</td>\n",
              "      <td>...</td>\n",
              "      <td>0.0</td>\n",
              "      <td>6.0</td>\n",
              "      <td>0.0</td>\n",
              "      <td>28.0</td>\n",
              "      <td>0.148792</td>\n",
              "      <td>-0.517947</td>\n",
              "      <td>22</td>\n",
              "      <td>100</td>\n",
              "      <td>1.0</td>\n",
              "      <td>0.0</td>\n",
              "    </tr>\n",
              "    <tr>\n",
              "      <th>10264385</th>\n",
              "      <td>1969227</td>\n",
              "      <td>109899.0</td>\n",
              "      <td>456.146726</td>\n",
              "      <td>37000000.0</td>\n",
              "      <td>5</td>\n",
              "      <td>4</td>\n",
              "      <td>4</td>\n",
              "      <td>20000000.0</td>\n",
              "      <td>SWITCHLOAN</td>\n",
              "      <td>21.0</td>\n",
              "      <td>...</td>\n",
              "      <td>0.0</td>\n",
              "      <td>6.0</td>\n",
              "      <td>0.0</td>\n",
              "      <td>28.0</td>\n",
              "      <td>0.239697</td>\n",
              "      <td>0.050401</td>\n",
              "      <td>19</td>\n",
              "      <td>231</td>\n",
              "      <td>1.0</td>\n",
              "      <td>0.0</td>\n",
              "    </tr>\n",
              "  </tbody>\n",
              "</table>\n",
              "<p>10264386 rows × 26 columns</p>\n",
              "</div>\n",
              "      <button class=\"colab-df-convert\" onclick=\"convertToInteractive('df-60332f03-81f7-46a2-b965-db679ce7b610')\"\n",
              "              title=\"Convert this dataframe to an interactive table.\"\n",
              "              style=\"display:none;\">\n",
              "        \n",
              "  <svg xmlns=\"http://www.w3.org/2000/svg\" height=\"24px\"viewBox=\"0 0 24 24\"\n",
              "       width=\"24px\">\n",
              "    <path d=\"M0 0h24v24H0V0z\" fill=\"none\"/>\n",
              "    <path d=\"M18.56 5.44l.94 2.06.94-2.06 2.06-.94-2.06-.94-.94-2.06-.94 2.06-2.06.94zm-11 1L8.5 8.5l.94-2.06 2.06-.94-2.06-.94L8.5 2.5l-.94 2.06-2.06.94zm10 10l.94 2.06.94-2.06 2.06-.94-2.06-.94-.94-2.06-.94 2.06-2.06.94z\"/><path d=\"M17.41 7.96l-1.37-1.37c-.4-.4-.92-.59-1.43-.59-.52 0-1.04.2-1.43.59L10.3 9.45l-7.72 7.72c-.78.78-.78 2.05 0 2.83L4 21.41c.39.39.9.59 1.41.59.51 0 1.02-.2 1.41-.59l7.78-7.78 2.81-2.81c.8-.78.8-2.07 0-2.86zM5.41 20L4 18.59l7.72-7.72 1.47 1.35L5.41 20z\"/>\n",
              "  </svg>\n",
              "      </button>\n",
              "      \n",
              "  <style>\n",
              "    .colab-df-container {\n",
              "      display:flex;\n",
              "      flex-wrap:wrap;\n",
              "      gap: 12px;\n",
              "    }\n",
              "\n",
              "    .colab-df-convert {\n",
              "      background-color: #E8F0FE;\n",
              "      border: none;\n",
              "      border-radius: 50%;\n",
              "      cursor: pointer;\n",
              "      display: none;\n",
              "      fill: #1967D2;\n",
              "      height: 32px;\n",
              "      padding: 0 0 0 0;\n",
              "      width: 32px;\n",
              "    }\n",
              "\n",
              "    .colab-df-convert:hover {\n",
              "      background-color: #E2EBFA;\n",
              "      box-shadow: 0px 1px 2px rgba(60, 64, 67, 0.3), 0px 1px 3px 1px rgba(60, 64, 67, 0.15);\n",
              "      fill: #174EA6;\n",
              "    }\n",
              "\n",
              "    [theme=dark] .colab-df-convert {\n",
              "      background-color: #3B4455;\n",
              "      fill: #D2E3FC;\n",
              "    }\n",
              "\n",
              "    [theme=dark] .colab-df-convert:hover {\n",
              "      background-color: #434B5C;\n",
              "      box-shadow: 0px 1px 3px 1px rgba(0, 0, 0, 0.15);\n",
              "      filter: drop-shadow(0px 1px 2px rgba(0, 0, 0, 0.3));\n",
              "      fill: #FFFFFF;\n",
              "    }\n",
              "  </style>\n",
              "\n",
              "      <script>\n",
              "        const buttonEl =\n",
              "          document.querySelector('#df-60332f03-81f7-46a2-b965-db679ce7b610 button.colab-df-convert');\n",
              "        buttonEl.style.display =\n",
              "          google.colab.kernel.accessAllowed ? 'block' : 'none';\n",
              "\n",
              "        async function convertToInteractive(key) {\n",
              "          const element = document.querySelector('#df-60332f03-81f7-46a2-b965-db679ce7b610');\n",
              "          const dataTable =\n",
              "            await google.colab.kernel.invokeFunction('convertToInteractive',\n",
              "                                                     [key], {});\n",
              "          if (!dataTable) return;\n",
              "\n",
              "          const docLinkHtml = 'Like what you see? Visit the ' +\n",
              "            '<a target=\"_blank\" href=https://colab.research.google.com/notebooks/data_table.ipynb>data table notebook</a>'\n",
              "            + ' to learn more about interactive tables.';\n",
              "          element.innerHTML = '';\n",
              "          dataTable['output_type'] = 'display_data';\n",
              "          await google.colab.output.renderOutput(dataTable, element);\n",
              "          const docLink = document.createElement('div');\n",
              "          docLink.innerHTML = docLinkHtml;\n",
              "          element.appendChild(docLink);\n",
              "        }\n",
              "      </script>\n",
              "    </div>\n",
              "  </div>\n",
              "  "
            ]
          },
          "metadata": {},
          "execution_count": 24
        }
      ]
    },
    {
      "cell_type": "code",
      "source": [
        "#사용할 특성 추출\n",
        "#X에는 특성들을 포함하고 is_applied는 빼준다\n",
        "#Y에는 is_applied는 넣어준다\n",
        "\n",
        "X = spec_loan_log_345[['application_id', 'user_id', 'credit_score', 'yearly_income',\n",
        "       'income_type', 'employment_type', 'houseown_type', 'desired_amount', 'purpose', \n",
        "       'CompleteIDCertification', 'EndLoanApply', 'GetCreditInfo', 'Login',\n",
        "       'OpenApp', 'SignUp', 'StartLoanApply', 'UseDSRCalc', 'UseLoanManage',\n",
        "       'UsePrepayCalc', 'ViewLoanApplyIntro', \n",
        "       'rate_s', 'limit_s', 'bank_id', 'product_id', 'applied_once']]\n",
        "Y = spec_loan_log_345['is_applied']\n",
        "\n",
        "#train, test set 분리\n",
        "X_train, X_test, y_train, y_test = train_test_split(X, Y, test_size=0.2, random_state=101)"
      ],
      "metadata": {
        "id": "pqeUflc7JhBr"
      },
      "execution_count": null,
      "outputs": []
    },
    {
      "cell_type": "code",
      "source": [
        "#훈련이 두 가지 확률을 분리해서 계산하므로, 다음의 과정이 필요함\n",
        "\n",
        "X_train['is_applied'] = y_train\n",
        "X_test['is_applied'] = y_test"
      ],
      "metadata": {
        "id": "qQTIPw-G1dH4"
      },
      "execution_count": null,
      "outputs": []
    },
    {
      "cell_type": "markdown",
      "source": [
        "##3.3. 모델링 전 추가 전처리"
      ],
      "metadata": {
        "id": "cqign-B6JhcO"
      }
    },
    {
      "cell_type": "markdown",
      "source": [
        "###3.3.1. 은행별 및 대출상품별 신청률 변수 추가"
      ],
      "metadata": {
        "id": "znI5wbncbkIe"
      }
    },
    {
      "cell_type": "code",
      "source": [
        "#train set 내에서 은행별 신청률\n",
        "\n",
        "bank_applied = pd.DataFrame(X_train.groupby('bank_id')['is_applied'].mean().sort_values())"
      ],
      "metadata": {
        "id": "UybVD1xs9TTe"
      },
      "execution_count": null,
      "outputs": []
    },
    {
      "cell_type": "code",
      "source": [
        "#빈도수가 너무 적은 은행의 경우 신청률을 평균 신청률로 대체(100 미만)\n",
        "\n",
        "print(X_train['bank_id'].value_counts())\n",
        "bank_applied.loc[16, 'is_applied'] = bank_applied['is_applied'].mean()\n",
        "bank_applied = bank_applied.rename(columns={'is_applied' : 'bank_applied'}) #기존 is_applied와 구분하는 이름 짓기"
      ],
      "metadata": {
        "id": "BXWXkS529iFW",
        "colab": {
          "base_uri": "https://localhost:8080/"
        },
        "outputId": "31600bab-e792-4a90-ff18-eb4692503727"
      },
      "execution_count": null,
      "outputs": [
        {
          "output_type": "stream",
          "name": "stdout",
          "text": [
            "35    480809\n",
            "38    393302\n",
            "59    301312\n",
            "33    263085\n",
            "49    253263\n",
            "       ...  \n",
            "60     24487\n",
            "2      23554\n",
            "39      5556\n",
            "9       3183\n",
            "16         5\n",
            "Name: bank_id, Length: 62, dtype: int64\n"
          ]
        }
      ]
    },
    {
      "cell_type": "code",
      "source": [
        "#트레인셋과 테스트셋에 트레인셋의 bank별 신청률을 bank_applied 칼럼으로 추가\n",
        "\n",
        "X_train = pd.merge(X_train, bank_applied, left_on = 'bank_id', right_on = 'bank_id', how = 'left')\n",
        "X_test = pd.merge(X_test, bank_applied, left_on = 'bank_id', right_on = 'bank_id', how = 'left')"
      ],
      "metadata": {
        "id": "YXo5W_imTCST"
      },
      "execution_count": null,
      "outputs": []
    },
    {
      "cell_type": "code",
      "source": [
        "#train set 내에서 대출상품별 신청률\n",
        "\n",
        "product_applied = pd.DataFrame(X_train.groupby('product_id')['is_applied'].mean().sort_values())"
      ],
      "metadata": {
        "id": "8kJg01TWWjF2"
      },
      "execution_count": null,
      "outputs": []
    },
    {
      "cell_type": "code",
      "source": [
        "#빈도수가 너무 적은 대출상품의 경우 신청률을 평균 신청률로 대체(100 미만)\n",
        "\n",
        "print(X_train['product_id'].value_counts()[150:])\n",
        "product_applied.loc[[93, 46, 166, 190, 238, 55, 240, 211], 'is_applied'] = product_applied['is_applied'].mean()\n",
        "product_applied = product_applied.rename(columns={'is_applied' : 'product_applied'}) #기존 is_applied와 구분하는 이름 짓기"
      ],
      "metadata": {
        "id": "a7b7Xs2qXiN0",
        "colab": {
          "base_uri": "https://localhost:8080/"
        },
        "outputId": "8093d97f-3200-49a4-81db-0e7e7878949d"
      },
      "execution_count": null,
      "outputs": [
        {
          "output_type": "stream",
          "name": "stdout",
          "text": [
            "250    982\n",
            "79     738\n",
            "252    498\n",
            "162    427\n",
            "82     378\n",
            "161    293\n",
            "147    231\n",
            "126    224\n",
            "146    159\n",
            "93      84\n",
            "46      16\n",
            "166     10\n",
            "238      5\n",
            "190      4\n",
            "55       2\n",
            "211      1\n",
            "240      1\n",
            "Name: product_id, dtype: int64\n"
          ]
        }
      ]
    },
    {
      "cell_type": "code",
      "source": [
        "#트레인셋과 테스트셋에 트레인셋의 product별 신청률을 product_applied 칼럼으로 추가\n",
        "\n",
        "X_train = pd.merge(X_train, product_applied, left_on = 'product_id', right_on = 'product_id', how = 'left')\n",
        "X_test = pd.merge(X_test, product_applied, left_on = 'product_id', right_on = 'product_id', how = 'left')"
      ],
      "metadata": {
        "id": "5vHura44XeD8"
      },
      "execution_count": null,
      "outputs": []
    },
    {
      "cell_type": "code",
      "source": [
        "X_test['product_applied'] = X_test['product_applied'].fillna(X_test['product_applied'].mean())"
      ],
      "metadata": {
        "id": "gDKicijVuyxr"
      },
      "execution_count": null,
      "outputs": []
    },
    {
      "cell_type": "markdown",
      "source": [
        "###3.3.2. 3~5월의 전체 은행별 대출상품별 신청률 계산하여 6월 데이터로 매칭"
      ],
      "metadata": {
        "id": "btTpjjevad9H"
      }
    },
    {
      "cell_type": "code",
      "source": [
        "#train set 내에서 은행별 신청률\n",
        "\n",
        "X['is_applied'] = Y\n",
        "bank_applied = pd.DataFrame(X.groupby('bank_id')['is_applied'].mean().sort_values())"
      ],
      "metadata": {
        "id": "bxQeE8wRb-Lk"
      },
      "execution_count": null,
      "outputs": []
    },
    {
      "cell_type": "code",
      "source": [
        "#빈도수가 너무 적은 은행의 경우 신청률을 평균 신청률로 대체(100 미만)\n",
        "\n",
        "print(X['bank_id'].value_counts())\n",
        "bank_applied.loc[16, 'is_applied'] = bank_applied['is_applied'].mean()\n",
        "bank_applied = bank_applied.rename(columns={'is_applied' : 'bank_applied'}) #기존 is_applied와 구분하는 이름 짓기"
      ],
      "metadata": {
        "colab": {
          "base_uri": "https://localhost:8080/"
        },
        "outputId": "b2658ef8-a30d-4df3-bca3-2a352e5443c3",
        "id": "3KEL6RA-b-Lk"
      },
      "execution_count": null,
      "outputs": [
        {
          "output_type": "stream",
          "name": "stdout",
          "text": [
            "35    601000\n",
            "38    491433\n",
            "59    376950\n",
            "33    328537\n",
            "49    316303\n",
            "       ...  \n",
            "60     30613\n",
            "2      29489\n",
            "39      6919\n",
            "9       3982\n",
            "16         5\n",
            "Name: bank_id, Length: 62, dtype: int64\n"
          ]
        }
      ]
    },
    {
      "cell_type": "code",
      "source": [
        "#트레인셋과 테스트셋에 트레인셋의 bank별 신청률을 bank_applied 칼럼으로 추가\n",
        "\n",
        "X = pd.merge(X, bank_applied, left_on = 'bank_id', right_on = 'bank_id', how = 'left')"
      ],
      "metadata": {
        "id": "SsCOWKAYb-Ll"
      },
      "execution_count": null,
      "outputs": []
    },
    {
      "cell_type": "code",
      "source": [
        "#train set 내에서 대출상품별 신청률\n",
        "\n",
        "product_applied = pd.DataFrame(X.groupby('product_id')['is_applied'].mean().sort_values())"
      ],
      "metadata": {
        "id": "BWenzgsTb-Ll"
      },
      "execution_count": null,
      "outputs": []
    },
    {
      "cell_type": "code",
      "source": [
        "#빈도수가 너무 적은 대출상품의 경우 신청률을 평균 신청률로 대체(100 미만)\n",
        "\n",
        "print(X['product_id'].value_counts()[150:])\n",
        "product_applied.loc[[46, 166, 190, 238, 55, 240, 211, 225], 'is_applied'] = product_applied['is_applied'].mean()\n",
        "product_applied = product_applied.rename(columns={'is_applied' : 'product_applied'}) #기존 is_applied와 구분하는 이름 짓기"
      ],
      "metadata": {
        "colab": {
          "base_uri": "https://localhost:8080/"
        },
        "outputId": "1ca66d29-5b22-4dcc-a24f-fe66842649d3",
        "id": "2exZ0JqCb-Ll"
      },
      "execution_count": null,
      "outputs": [
        {
          "output_type": "stream",
          "name": "stdout",
          "text": [
            "250    1247\n",
            "79      947\n",
            "252     636\n",
            "162     533\n",
            "82      485\n",
            "161     370\n",
            "126     298\n",
            "147     291\n",
            "146     197\n",
            "93      107\n",
            "46       20\n",
            "166      11\n",
            "190       5\n",
            "238       5\n",
            "55        2\n",
            "240       1\n",
            "211       1\n",
            "225       1\n",
            "Name: product_id, dtype: int64\n"
          ]
        }
      ]
    },
    {
      "cell_type": "code",
      "source": [
        "#트레인셋과 테스트셋에 트레인셋의 product별 신청률을 product_applied 칼럼으로 추가\n",
        "\n",
        "X = pd.merge(X, product_applied, left_on = 'product_id', right_on = 'product_id', how = 'left')"
      ],
      "metadata": {
        "id": "E6U8Bm7Pb-Lm"
      },
      "execution_count": null,
      "outputs": []
    },
    {
      "cell_type": "code",
      "source": [
        "X"
      ],
      "metadata": {
        "colab": {
          "base_uri": "https://localhost:8080/"
        },
        "id": "Hsk_JkuXdESw",
        "outputId": "dd0e0944-a978-4bc7-aaff-e93431c0ceda"
      },
      "execution_count": null,
      "outputs": [
        {
          "output_type": "execute_result",
          "data": {
            "text/plain": [
              "          application_id   user_id  credit_score  yearly_income  income_type  \\\n",
              "0                2157865  346970.0    405.463757     32000000.0            5   \n",
              "1                 576643  545882.0    439.252403     72000000.0            5   \n",
              "2                 576643  545882.0    439.252403     72000000.0            5   \n",
              "3                2136706  558819.0    574.406989     39000000.0            5   \n",
              "4                2136706  558819.0    574.406989     39000000.0            5   \n",
              "...                  ...       ...           ...            ...          ...   \n",
              "10264381         1969227  109899.0    456.146726     37000000.0            5   \n",
              "10264382         1969227  109899.0    456.146726     37000000.0            5   \n",
              "10264383         1969227  109899.0    456.146726     37000000.0            5   \n",
              "10264384         1969227  109899.0    456.146726     37000000.0            5   \n",
              "10264385         1969227  109899.0    456.146726     37000000.0            5   \n",
              "\n",
              "          employment_type  houseown_type  desired_amount     purpose  \\\n",
              "0                       4              4      10000000.0      LIVING   \n",
              "1                       4              1      20000000.0      LIVING   \n",
              "2                       4              1      20000000.0      LIVING   \n",
              "3                       4              1      80000000.0  SWITCHLOAN   \n",
              "4                       4              1      80000000.0  SWITCHLOAN   \n",
              "...                   ...            ...             ...         ...   \n",
              "10264381                4              4      20000000.0  SWITCHLOAN   \n",
              "10264382                4              4      20000000.0  SWITCHLOAN   \n",
              "10264383                4              4      20000000.0  SWITCHLOAN   \n",
              "10264384                4              4      20000000.0  SWITCHLOAN   \n",
              "10264385                4              4      20000000.0  SWITCHLOAN   \n",
              "\n",
              "          CompleteIDCertification  ...  UsePrepayCalc  ViewLoanApplyIntro  \\\n",
              "0                             5.0  ...            0.0                 5.0   \n",
              "1                            10.0  ...            0.0                12.0   \n",
              "2                            10.0  ...            0.0                12.0   \n",
              "3                             3.0  ...            0.0                 7.0   \n",
              "4                             3.0  ...            0.0                 7.0   \n",
              "...                           ...  ...            ...                 ...   \n",
              "10264381                     21.0  ...            0.0                28.0   \n",
              "10264382                     21.0  ...            0.0                28.0   \n",
              "10264383                     21.0  ...            0.0                28.0   \n",
              "10264384                     21.0  ...            0.0                28.0   \n",
              "10264385                     21.0  ...            0.0                28.0   \n",
              "\n",
              "            rate_s   limit_s  bank_id  product_id  applied_once  is_applied  \\\n",
              "0         0.000000  0.000000       54         235           1.0         1.0   \n",
              "1        -0.839169  0.201376       54         235           1.0         0.0   \n",
              "2         1.098706 -0.872630       11         118           1.0         0.0   \n",
              "3        -0.072663 -0.900962       42         216           1.0         0.0   \n",
              "4         0.744371 -0.049490       25         169           1.0         0.0   \n",
              "...            ...       ...      ...         ...           ...         ...   \n",
              "10264381 -0.623897  2.437460        2           7           1.0         0.0   \n",
              "10264382 -0.260279  0.050401       33         110           1.0         0.0   \n",
              "10264383 -1.714752 -0.631616       50         142           1.0         0.0   \n",
              "10264384  0.148792 -0.517947       22         100           1.0         0.0   \n",
              "10264385  0.239697  0.050401       19         231           1.0         0.0   \n",
              "\n",
              "          bank_applied  product_applied  \n",
              "0             0.042501         0.050284  \n",
              "1             0.042501         0.050284  \n",
              "2             0.016988         0.016116  \n",
              "3             0.024209         0.028443  \n",
              "4             0.021180         0.035277  \n",
              "...                ...              ...  \n",
              "10264381      0.097596         0.093935  \n",
              "10264382      0.042242         0.037856  \n",
              "10264383      0.064755         0.064755  \n",
              "10264384      0.026933         0.006692  \n",
              "10264385      0.044596         0.045486  \n",
              "\n",
              "[10264386 rows x 28 columns]"
            ],
            "text/html": [
              "\n",
              "  <div id=\"df-d7211325-404a-4213-8370-1cec66ceb63e\">\n",
              "    <div class=\"colab-df-container\">\n",
              "      <div>\n",
              "<style scoped>\n",
              "    .dataframe tbody tr th:only-of-type {\n",
              "        vertical-align: middle;\n",
              "    }\n",
              "\n",
              "    .dataframe tbody tr th {\n",
              "        vertical-align: top;\n",
              "    }\n",
              "\n",
              "    .dataframe thead th {\n",
              "        text-align: right;\n",
              "    }\n",
              "</style>\n",
              "<table border=\"1\" class=\"dataframe\">\n",
              "  <thead>\n",
              "    <tr style=\"text-align: right;\">\n",
              "      <th></th>\n",
              "      <th>application_id</th>\n",
              "      <th>user_id</th>\n",
              "      <th>credit_score</th>\n",
              "      <th>yearly_income</th>\n",
              "      <th>income_type</th>\n",
              "      <th>employment_type</th>\n",
              "      <th>houseown_type</th>\n",
              "      <th>desired_amount</th>\n",
              "      <th>purpose</th>\n",
              "      <th>CompleteIDCertification</th>\n",
              "      <th>...</th>\n",
              "      <th>UsePrepayCalc</th>\n",
              "      <th>ViewLoanApplyIntro</th>\n",
              "      <th>rate_s</th>\n",
              "      <th>limit_s</th>\n",
              "      <th>bank_id</th>\n",
              "      <th>product_id</th>\n",
              "      <th>applied_once</th>\n",
              "      <th>is_applied</th>\n",
              "      <th>bank_applied</th>\n",
              "      <th>product_applied</th>\n",
              "    </tr>\n",
              "  </thead>\n",
              "  <tbody>\n",
              "    <tr>\n",
              "      <th>0</th>\n",
              "      <td>2157865</td>\n",
              "      <td>346970.0</td>\n",
              "      <td>405.463757</td>\n",
              "      <td>32000000.0</td>\n",
              "      <td>5</td>\n",
              "      <td>4</td>\n",
              "      <td>4</td>\n",
              "      <td>10000000.0</td>\n",
              "      <td>LIVING</td>\n",
              "      <td>5.0</td>\n",
              "      <td>...</td>\n",
              "      <td>0.0</td>\n",
              "      <td>5.0</td>\n",
              "      <td>0.000000</td>\n",
              "      <td>0.000000</td>\n",
              "      <td>54</td>\n",
              "      <td>235</td>\n",
              "      <td>1.0</td>\n",
              "      <td>1.0</td>\n",
              "      <td>0.042501</td>\n",
              "      <td>0.050284</td>\n",
              "    </tr>\n",
              "    <tr>\n",
              "      <th>1</th>\n",
              "      <td>576643</td>\n",
              "      <td>545882.0</td>\n",
              "      <td>439.252403</td>\n",
              "      <td>72000000.0</td>\n",
              "      <td>5</td>\n",
              "      <td>4</td>\n",
              "      <td>1</td>\n",
              "      <td>20000000.0</td>\n",
              "      <td>LIVING</td>\n",
              "      <td>10.0</td>\n",
              "      <td>...</td>\n",
              "      <td>0.0</td>\n",
              "      <td>12.0</td>\n",
              "      <td>-0.839169</td>\n",
              "      <td>0.201376</td>\n",
              "      <td>54</td>\n",
              "      <td>235</td>\n",
              "      <td>1.0</td>\n",
              "      <td>0.0</td>\n",
              "      <td>0.042501</td>\n",
              "      <td>0.050284</td>\n",
              "    </tr>\n",
              "    <tr>\n",
              "      <th>2</th>\n",
              "      <td>576643</td>\n",
              "      <td>545882.0</td>\n",
              "      <td>439.252403</td>\n",
              "      <td>72000000.0</td>\n",
              "      <td>5</td>\n",
              "      <td>4</td>\n",
              "      <td>1</td>\n",
              "      <td>20000000.0</td>\n",
              "      <td>LIVING</td>\n",
              "      <td>10.0</td>\n",
              "      <td>...</td>\n",
              "      <td>0.0</td>\n",
              "      <td>12.0</td>\n",
              "      <td>1.098706</td>\n",
              "      <td>-0.872630</td>\n",
              "      <td>11</td>\n",
              "      <td>118</td>\n",
              "      <td>1.0</td>\n",
              "      <td>0.0</td>\n",
              "      <td>0.016988</td>\n",
              "      <td>0.016116</td>\n",
              "    </tr>\n",
              "    <tr>\n",
              "      <th>3</th>\n",
              "      <td>2136706</td>\n",
              "      <td>558819.0</td>\n",
              "      <td>574.406989</td>\n",
              "      <td>39000000.0</td>\n",
              "      <td>5</td>\n",
              "      <td>4</td>\n",
              "      <td>1</td>\n",
              "      <td>80000000.0</td>\n",
              "      <td>SWITCHLOAN</td>\n",
              "      <td>3.0</td>\n",
              "      <td>...</td>\n",
              "      <td>0.0</td>\n",
              "      <td>7.0</td>\n",
              "      <td>-0.072663</td>\n",
              "      <td>-0.900962</td>\n",
              "      <td>42</td>\n",
              "      <td>216</td>\n",
              "      <td>1.0</td>\n",
              "      <td>0.0</td>\n",
              "      <td>0.024209</td>\n",
              "      <td>0.028443</td>\n",
              "    </tr>\n",
              "    <tr>\n",
              "      <th>4</th>\n",
              "      <td>2136706</td>\n",
              "      <td>558819.0</td>\n",
              "      <td>574.406989</td>\n",
              "      <td>39000000.0</td>\n",
              "      <td>5</td>\n",
              "      <td>4</td>\n",
              "      <td>1</td>\n",
              "      <td>80000000.0</td>\n",
              "      <td>SWITCHLOAN</td>\n",
              "      <td>3.0</td>\n",
              "      <td>...</td>\n",
              "      <td>0.0</td>\n",
              "      <td>7.0</td>\n",
              "      <td>0.744371</td>\n",
              "      <td>-0.049490</td>\n",
              "      <td>25</td>\n",
              "      <td>169</td>\n",
              "      <td>1.0</td>\n",
              "      <td>0.0</td>\n",
              "      <td>0.021180</td>\n",
              "      <td>0.035277</td>\n",
              "    </tr>\n",
              "    <tr>\n",
              "      <th>...</th>\n",
              "      <td>...</td>\n",
              "      <td>...</td>\n",
              "      <td>...</td>\n",
              "      <td>...</td>\n",
              "      <td>...</td>\n",
              "      <td>...</td>\n",
              "      <td>...</td>\n",
              "      <td>...</td>\n",
              "      <td>...</td>\n",
              "      <td>...</td>\n",
              "      <td>...</td>\n",
              "      <td>...</td>\n",
              "      <td>...</td>\n",
              "      <td>...</td>\n",
              "      <td>...</td>\n",
              "      <td>...</td>\n",
              "      <td>...</td>\n",
              "      <td>...</td>\n",
              "      <td>...</td>\n",
              "      <td>...</td>\n",
              "      <td>...</td>\n",
              "    </tr>\n",
              "    <tr>\n",
              "      <th>10264381</th>\n",
              "      <td>1969227</td>\n",
              "      <td>109899.0</td>\n",
              "      <td>456.146726</td>\n",
              "      <td>37000000.0</td>\n",
              "      <td>5</td>\n",
              "      <td>4</td>\n",
              "      <td>4</td>\n",
              "      <td>20000000.0</td>\n",
              "      <td>SWITCHLOAN</td>\n",
              "      <td>21.0</td>\n",
              "      <td>...</td>\n",
              "      <td>0.0</td>\n",
              "      <td>28.0</td>\n",
              "      <td>-0.623897</td>\n",
              "      <td>2.437460</td>\n",
              "      <td>2</td>\n",
              "      <td>7</td>\n",
              "      <td>1.0</td>\n",
              "      <td>0.0</td>\n",
              "      <td>0.097596</td>\n",
              "      <td>0.093935</td>\n",
              "    </tr>\n",
              "    <tr>\n",
              "      <th>10264382</th>\n",
              "      <td>1969227</td>\n",
              "      <td>109899.0</td>\n",
              "      <td>456.146726</td>\n",
              "      <td>37000000.0</td>\n",
              "      <td>5</td>\n",
              "      <td>4</td>\n",
              "      <td>4</td>\n",
              "      <td>20000000.0</td>\n",
              "      <td>SWITCHLOAN</td>\n",
              "      <td>21.0</td>\n",
              "      <td>...</td>\n",
              "      <td>0.0</td>\n",
              "      <td>28.0</td>\n",
              "      <td>-0.260279</td>\n",
              "      <td>0.050401</td>\n",
              "      <td>33</td>\n",
              "      <td>110</td>\n",
              "      <td>1.0</td>\n",
              "      <td>0.0</td>\n",
              "      <td>0.042242</td>\n",
              "      <td>0.037856</td>\n",
              "    </tr>\n",
              "    <tr>\n",
              "      <th>10264383</th>\n",
              "      <td>1969227</td>\n",
              "      <td>109899.0</td>\n",
              "      <td>456.146726</td>\n",
              "      <td>37000000.0</td>\n",
              "      <td>5</td>\n",
              "      <td>4</td>\n",
              "      <td>4</td>\n",
              "      <td>20000000.0</td>\n",
              "      <td>SWITCHLOAN</td>\n",
              "      <td>21.0</td>\n",
              "      <td>...</td>\n",
              "      <td>0.0</td>\n",
              "      <td>28.0</td>\n",
              "      <td>-1.714752</td>\n",
              "      <td>-0.631616</td>\n",
              "      <td>50</td>\n",
              "      <td>142</td>\n",
              "      <td>1.0</td>\n",
              "      <td>0.0</td>\n",
              "      <td>0.064755</td>\n",
              "      <td>0.064755</td>\n",
              "    </tr>\n",
              "    <tr>\n",
              "      <th>10264384</th>\n",
              "      <td>1969227</td>\n",
              "      <td>109899.0</td>\n",
              "      <td>456.146726</td>\n",
              "      <td>37000000.0</td>\n",
              "      <td>5</td>\n",
              "      <td>4</td>\n",
              "      <td>4</td>\n",
              "      <td>20000000.0</td>\n",
              "      <td>SWITCHLOAN</td>\n",
              "      <td>21.0</td>\n",
              "      <td>...</td>\n",
              "      <td>0.0</td>\n",
              "      <td>28.0</td>\n",
              "      <td>0.148792</td>\n",
              "      <td>-0.517947</td>\n",
              "      <td>22</td>\n",
              "      <td>100</td>\n",
              "      <td>1.0</td>\n",
              "      <td>0.0</td>\n",
              "      <td>0.026933</td>\n",
              "      <td>0.006692</td>\n",
              "    </tr>\n",
              "    <tr>\n",
              "      <th>10264385</th>\n",
              "      <td>1969227</td>\n",
              "      <td>109899.0</td>\n",
              "      <td>456.146726</td>\n",
              "      <td>37000000.0</td>\n",
              "      <td>5</td>\n",
              "      <td>4</td>\n",
              "      <td>4</td>\n",
              "      <td>20000000.0</td>\n",
              "      <td>SWITCHLOAN</td>\n",
              "      <td>21.0</td>\n",
              "      <td>...</td>\n",
              "      <td>0.0</td>\n",
              "      <td>28.0</td>\n",
              "      <td>0.239697</td>\n",
              "      <td>0.050401</td>\n",
              "      <td>19</td>\n",
              "      <td>231</td>\n",
              "      <td>1.0</td>\n",
              "      <td>0.0</td>\n",
              "      <td>0.044596</td>\n",
              "      <td>0.045486</td>\n",
              "    </tr>\n",
              "  </tbody>\n",
              "</table>\n",
              "<p>10264386 rows × 28 columns</p>\n",
              "</div>\n",
              "      <button class=\"colab-df-convert\" onclick=\"convertToInteractive('df-d7211325-404a-4213-8370-1cec66ceb63e')\"\n",
              "              title=\"Convert this dataframe to an interactive table.\"\n",
              "              style=\"display:none;\">\n",
              "        \n",
              "  <svg xmlns=\"http://www.w3.org/2000/svg\" height=\"24px\"viewBox=\"0 0 24 24\"\n",
              "       width=\"24px\">\n",
              "    <path d=\"M0 0h24v24H0V0z\" fill=\"none\"/>\n",
              "    <path d=\"M18.56 5.44l.94 2.06.94-2.06 2.06-.94-2.06-.94-.94-2.06-.94 2.06-2.06.94zm-11 1L8.5 8.5l.94-2.06 2.06-.94-2.06-.94L8.5 2.5l-.94 2.06-2.06.94zm10 10l.94 2.06.94-2.06 2.06-.94-2.06-.94-.94-2.06-.94 2.06-2.06.94z\"/><path d=\"M17.41 7.96l-1.37-1.37c-.4-.4-.92-.59-1.43-.59-.52 0-1.04.2-1.43.59L10.3 9.45l-7.72 7.72c-.78.78-.78 2.05 0 2.83L4 21.41c.39.39.9.59 1.41.59.51 0 1.02-.2 1.41-.59l7.78-7.78 2.81-2.81c.8-.78.8-2.07 0-2.86zM5.41 20L4 18.59l7.72-7.72 1.47 1.35L5.41 20z\"/>\n",
              "  </svg>\n",
              "      </button>\n",
              "      \n",
              "  <style>\n",
              "    .colab-df-container {\n",
              "      display:flex;\n",
              "      flex-wrap:wrap;\n",
              "      gap: 12px;\n",
              "    }\n",
              "\n",
              "    .colab-df-convert {\n",
              "      background-color: #E8F0FE;\n",
              "      border: none;\n",
              "      border-radius: 50%;\n",
              "      cursor: pointer;\n",
              "      display: none;\n",
              "      fill: #1967D2;\n",
              "      height: 32px;\n",
              "      padding: 0 0 0 0;\n",
              "      width: 32px;\n",
              "    }\n",
              "\n",
              "    .colab-df-convert:hover {\n",
              "      background-color: #E2EBFA;\n",
              "      box-shadow: 0px 1px 2px rgba(60, 64, 67, 0.3), 0px 1px 3px 1px rgba(60, 64, 67, 0.15);\n",
              "      fill: #174EA6;\n",
              "    }\n",
              "\n",
              "    [theme=dark] .colab-df-convert {\n",
              "      background-color: #3B4455;\n",
              "      fill: #D2E3FC;\n",
              "    }\n",
              "\n",
              "    [theme=dark] .colab-df-convert:hover {\n",
              "      background-color: #434B5C;\n",
              "      box-shadow: 0px 1px 3px 1px rgba(0, 0, 0, 0.15);\n",
              "      filter: drop-shadow(0px 1px 2px rgba(0, 0, 0, 0.3));\n",
              "      fill: #FFFFFF;\n",
              "    }\n",
              "  </style>\n",
              "\n",
              "      <script>\n",
              "        const buttonEl =\n",
              "          document.querySelector('#df-d7211325-404a-4213-8370-1cec66ceb63e button.colab-df-convert');\n",
              "        buttonEl.style.display =\n",
              "          google.colab.kernel.accessAllowed ? 'block' : 'none';\n",
              "\n",
              "        async function convertToInteractive(key) {\n",
              "          const element = document.querySelector('#df-d7211325-404a-4213-8370-1cec66ceb63e');\n",
              "          const dataTable =\n",
              "            await google.colab.kernel.invokeFunction('convertToInteractive',\n",
              "                                                     [key], {});\n",
              "          if (!dataTable) return;\n",
              "\n",
              "          const docLinkHtml = 'Like what you see? Visit the ' +\n",
              "            '<a target=\"_blank\" href=https://colab.research.google.com/notebooks/data_table.ipynb>data table notebook</a>'\n",
              "            + ' to learn more about interactive tables.';\n",
              "          element.innerHTML = '';\n",
              "          dataTable['output_type'] = 'display_data';\n",
              "          await google.colab.output.renderOutput(dataTable, element);\n",
              "          const docLink = document.createElement('div');\n",
              "          docLink.innerHTML = docLinkHtml;\n",
              "          element.appendChild(docLink);\n",
              "        }\n",
              "      </script>\n",
              "    </div>\n",
              "  </div>\n",
              "  "
            ]
          },
          "metadata": {},
          "execution_count": 40
        }
      ]
    },
    {
      "cell_type": "code",
      "source": [
        "#X.to_csv('train_data_final.csv', index = False)"
      ],
      "metadata": {
        "id": "onPF1cwkdOjG"
      },
      "execution_count": null,
      "outputs": []
    },
    {
      "cell_type": "code",
      "source": [
        "spec_loan_log_6 = pd.read_csv('/content/drive/MyDrive/Modeling Project 2022/제출할 것만 최종정리/spec_loan_log_6.csv')"
      ],
      "metadata": {
        "id": "P-72IIBbbYZe"
      },
      "execution_count": null,
      "outputs": []
    },
    {
      "cell_type": "code",
      "source": [
        "spec_loan_log_6"
      ],
      "metadata": {
        "colab": {
          "base_uri": "https://localhost:8080/"
        },
        "id": "NGpQfyoxai8h",
        "outputId": "f563267a-cdd1-4eed-b481-61898bb75857"
      },
      "execution_count": null,
      "outputs": [
        {
          "output_type": "execute_result",
          "data": {
            "text/plain": [
              "         application_id   user_id  credit_score  yearly_income  income_type  \\\n",
              "0               1748340  430982.0    473.041049     24000000.0            5   \n",
              "1               1748340  430982.0    473.041049     24000000.0            5   \n",
              "2               1748340  430982.0    473.041049     24000000.0            5   \n",
              "3               1748340  430982.0    473.041049     24000000.0            5   \n",
              "4               1748340  430982.0    473.041049     24000000.0            5   \n",
              "...                 ...       ...           ...            ...          ...   \n",
              "3255477         1428218  478802.0    464.593888     45000000.0            5   \n",
              "3255478         1428218  478802.0    464.593888     45000000.0            5   \n",
              "3255479         1428218  478802.0    464.593888     45000000.0            5   \n",
              "3255480         1428218  478802.0    464.593888     45000000.0            5   \n",
              "3255481         1428218  478802.0    464.593888     45000000.0            5   \n",
              "\n",
              "         employment_type  houseown_type  desired_amount     purpose  \\\n",
              "0                      4              4      25000000.0  SWITCHLOAN   \n",
              "1                      4              4      25000000.0  SWITCHLOAN   \n",
              "2                      4              4      25000000.0  SWITCHLOAN   \n",
              "3                      4              4      25000000.0  SWITCHLOAN   \n",
              "4                      4              4      25000000.0  SWITCHLOAN   \n",
              "...                  ...            ...             ...         ...   \n",
              "3255477                4              2      50000000.0  SWITCHLOAN   \n",
              "3255478                4              2      50000000.0  SWITCHLOAN   \n",
              "3255479                4              2      50000000.0  SWITCHLOAN   \n",
              "3255480                4              2      50000000.0  SWITCHLOAN   \n",
              "3255481                4              2      50000000.0  SWITCHLOAN   \n",
              "\n",
              "         CompleteIDCertification  ...  StartLoanApply  UseDSRCalc  \\\n",
              "0                            9.0  ...            18.0         0.0   \n",
              "1                            9.0  ...            18.0         0.0   \n",
              "2                            9.0  ...            18.0         0.0   \n",
              "3                            9.0  ...            18.0         0.0   \n",
              "4                            9.0  ...            18.0         0.0   \n",
              "...                          ...  ...             ...         ...   \n",
              "3255477                      3.0  ...             4.0         0.0   \n",
              "3255478                      3.0  ...             4.0         0.0   \n",
              "3255479                      3.0  ...             4.0         0.0   \n",
              "3255480                      3.0  ...             4.0         0.0   \n",
              "3255481                      3.0  ...             4.0         0.0   \n",
              "\n",
              "         UseLoanManage  UsePrepayCalc  ViewLoanApplyIntro    rate_s   limit_s  \\\n",
              "0                  0.0            0.0                10.0 -0.148554  1.963431   \n",
              "1                  0.0            0.0                10.0  1.058626  0.353206   \n",
              "2                  0.0            0.0                10.0  1.227070  0.353206   \n",
              "3                  0.0            0.0                10.0 -0.934624  0.800491   \n",
              "4                  0.0            0.0                10.0  0.637517 -1.346475   \n",
              "...                ...            ...                 ...       ...       ...   \n",
              "3255477            2.0            0.0                 3.0  0.695866 -1.378631   \n",
              "3255478            2.0            0.0                 3.0 -0.129615  1.084336   \n",
              "3255479            2.0            0.0                 3.0 -1.395352 -0.579831   \n",
              "3255480            2.0            0.0                 3.0  0.338158  1.350603   \n",
              "3255481            2.0            0.0                 3.0 -0.707452  1.350603   \n",
              "\n",
              "         bank_id  product_id  is_applied  \n",
              "0              7         191         NaN  \n",
              "1             25         169         NaN  \n",
              "2              2           7         NaN  \n",
              "3              4         268         NaN  \n",
              "4             11         118         NaN  \n",
              "...          ...         ...         ...  \n",
              "3255477       62         200         NaN  \n",
              "3255478        2           7         NaN  \n",
              "3255479       32         257         NaN  \n",
              "3255480       33         110         NaN  \n",
              "3255481        5         194         NaN  \n",
              "\n",
              "[3255482 rows x 25 columns]"
            ],
            "text/html": [
              "\n",
              "  <div id=\"df-4c10be7e-e468-4883-ae0c-1241a514de2c\">\n",
              "    <div class=\"colab-df-container\">\n",
              "      <div>\n",
              "<style scoped>\n",
              "    .dataframe tbody tr th:only-of-type {\n",
              "        vertical-align: middle;\n",
              "    }\n",
              "\n",
              "    .dataframe tbody tr th {\n",
              "        vertical-align: top;\n",
              "    }\n",
              "\n",
              "    .dataframe thead th {\n",
              "        text-align: right;\n",
              "    }\n",
              "</style>\n",
              "<table border=\"1\" class=\"dataframe\">\n",
              "  <thead>\n",
              "    <tr style=\"text-align: right;\">\n",
              "      <th></th>\n",
              "      <th>application_id</th>\n",
              "      <th>user_id</th>\n",
              "      <th>credit_score</th>\n",
              "      <th>yearly_income</th>\n",
              "      <th>income_type</th>\n",
              "      <th>employment_type</th>\n",
              "      <th>houseown_type</th>\n",
              "      <th>desired_amount</th>\n",
              "      <th>purpose</th>\n",
              "      <th>CompleteIDCertification</th>\n",
              "      <th>...</th>\n",
              "      <th>StartLoanApply</th>\n",
              "      <th>UseDSRCalc</th>\n",
              "      <th>UseLoanManage</th>\n",
              "      <th>UsePrepayCalc</th>\n",
              "      <th>ViewLoanApplyIntro</th>\n",
              "      <th>rate_s</th>\n",
              "      <th>limit_s</th>\n",
              "      <th>bank_id</th>\n",
              "      <th>product_id</th>\n",
              "      <th>is_applied</th>\n",
              "    </tr>\n",
              "  </thead>\n",
              "  <tbody>\n",
              "    <tr>\n",
              "      <th>0</th>\n",
              "      <td>1748340</td>\n",
              "      <td>430982.0</td>\n",
              "      <td>473.041049</td>\n",
              "      <td>24000000.0</td>\n",
              "      <td>5</td>\n",
              "      <td>4</td>\n",
              "      <td>4</td>\n",
              "      <td>25000000.0</td>\n",
              "      <td>SWITCHLOAN</td>\n",
              "      <td>9.0</td>\n",
              "      <td>...</td>\n",
              "      <td>18.0</td>\n",
              "      <td>0.0</td>\n",
              "      <td>0.0</td>\n",
              "      <td>0.0</td>\n",
              "      <td>10.0</td>\n",
              "      <td>-0.148554</td>\n",
              "      <td>1.963431</td>\n",
              "      <td>7</td>\n",
              "      <td>191</td>\n",
              "      <td>NaN</td>\n",
              "    </tr>\n",
              "    <tr>\n",
              "      <th>1</th>\n",
              "      <td>1748340</td>\n",
              "      <td>430982.0</td>\n",
              "      <td>473.041049</td>\n",
              "      <td>24000000.0</td>\n",
              "      <td>5</td>\n",
              "      <td>4</td>\n",
              "      <td>4</td>\n",
              "      <td>25000000.0</td>\n",
              "      <td>SWITCHLOAN</td>\n",
              "      <td>9.0</td>\n",
              "      <td>...</td>\n",
              "      <td>18.0</td>\n",
              "      <td>0.0</td>\n",
              "      <td>0.0</td>\n",
              "      <td>0.0</td>\n",
              "      <td>10.0</td>\n",
              "      <td>1.058626</td>\n",
              "      <td>0.353206</td>\n",
              "      <td>25</td>\n",
              "      <td>169</td>\n",
              "      <td>NaN</td>\n",
              "    </tr>\n",
              "    <tr>\n",
              "      <th>2</th>\n",
              "      <td>1748340</td>\n",
              "      <td>430982.0</td>\n",
              "      <td>473.041049</td>\n",
              "      <td>24000000.0</td>\n",
              "      <td>5</td>\n",
              "      <td>4</td>\n",
              "      <td>4</td>\n",
              "      <td>25000000.0</td>\n",
              "      <td>SWITCHLOAN</td>\n",
              "      <td>9.0</td>\n",
              "      <td>...</td>\n",
              "      <td>18.0</td>\n",
              "      <td>0.0</td>\n",
              "      <td>0.0</td>\n",
              "      <td>0.0</td>\n",
              "      <td>10.0</td>\n",
              "      <td>1.227070</td>\n",
              "      <td>0.353206</td>\n",
              "      <td>2</td>\n",
              "      <td>7</td>\n",
              "      <td>NaN</td>\n",
              "    </tr>\n",
              "    <tr>\n",
              "      <th>3</th>\n",
              "      <td>1748340</td>\n",
              "      <td>430982.0</td>\n",
              "      <td>473.041049</td>\n",
              "      <td>24000000.0</td>\n",
              "      <td>5</td>\n",
              "      <td>4</td>\n",
              "      <td>4</td>\n",
              "      <td>25000000.0</td>\n",
              "      <td>SWITCHLOAN</td>\n",
              "      <td>9.0</td>\n",
              "      <td>...</td>\n",
              "      <td>18.0</td>\n",
              "      <td>0.0</td>\n",
              "      <td>0.0</td>\n",
              "      <td>0.0</td>\n",
              "      <td>10.0</td>\n",
              "      <td>-0.934624</td>\n",
              "      <td>0.800491</td>\n",
              "      <td>4</td>\n",
              "      <td>268</td>\n",
              "      <td>NaN</td>\n",
              "    </tr>\n",
              "    <tr>\n",
              "      <th>4</th>\n",
              "      <td>1748340</td>\n",
              "      <td>430982.0</td>\n",
              "      <td>473.041049</td>\n",
              "      <td>24000000.0</td>\n",
              "      <td>5</td>\n",
              "      <td>4</td>\n",
              "      <td>4</td>\n",
              "      <td>25000000.0</td>\n",
              "      <td>SWITCHLOAN</td>\n",
              "      <td>9.0</td>\n",
              "      <td>...</td>\n",
              "      <td>18.0</td>\n",
              "      <td>0.0</td>\n",
              "      <td>0.0</td>\n",
              "      <td>0.0</td>\n",
              "      <td>10.0</td>\n",
              "      <td>0.637517</td>\n",
              "      <td>-1.346475</td>\n",
              "      <td>11</td>\n",
              "      <td>118</td>\n",
              "      <td>NaN</td>\n",
              "    </tr>\n",
              "    <tr>\n",
              "      <th>...</th>\n",
              "      <td>...</td>\n",
              "      <td>...</td>\n",
              "      <td>...</td>\n",
              "      <td>...</td>\n",
              "      <td>...</td>\n",
              "      <td>...</td>\n",
              "      <td>...</td>\n",
              "      <td>...</td>\n",
              "      <td>...</td>\n",
              "      <td>...</td>\n",
              "      <td>...</td>\n",
              "      <td>...</td>\n",
              "      <td>...</td>\n",
              "      <td>...</td>\n",
              "      <td>...</td>\n",
              "      <td>...</td>\n",
              "      <td>...</td>\n",
              "      <td>...</td>\n",
              "      <td>...</td>\n",
              "      <td>...</td>\n",
              "      <td>...</td>\n",
              "    </tr>\n",
              "    <tr>\n",
              "      <th>3255477</th>\n",
              "      <td>1428218</td>\n",
              "      <td>478802.0</td>\n",
              "      <td>464.593888</td>\n",
              "      <td>45000000.0</td>\n",
              "      <td>5</td>\n",
              "      <td>4</td>\n",
              "      <td>2</td>\n",
              "      <td>50000000.0</td>\n",
              "      <td>SWITCHLOAN</td>\n",
              "      <td>3.0</td>\n",
              "      <td>...</td>\n",
              "      <td>4.0</td>\n",
              "      <td>0.0</td>\n",
              "      <td>2.0</td>\n",
              "      <td>0.0</td>\n",
              "      <td>3.0</td>\n",
              "      <td>0.695866</td>\n",
              "      <td>-1.378631</td>\n",
              "      <td>62</td>\n",
              "      <td>200</td>\n",
              "      <td>NaN</td>\n",
              "    </tr>\n",
              "    <tr>\n",
              "      <th>3255478</th>\n",
              "      <td>1428218</td>\n",
              "      <td>478802.0</td>\n",
              "      <td>464.593888</td>\n",
              "      <td>45000000.0</td>\n",
              "      <td>5</td>\n",
              "      <td>4</td>\n",
              "      <td>2</td>\n",
              "      <td>50000000.0</td>\n",
              "      <td>SWITCHLOAN</td>\n",
              "      <td>3.0</td>\n",
              "      <td>...</td>\n",
              "      <td>4.0</td>\n",
              "      <td>0.0</td>\n",
              "      <td>2.0</td>\n",
              "      <td>0.0</td>\n",
              "      <td>3.0</td>\n",
              "      <td>-0.129615</td>\n",
              "      <td>1.084336</td>\n",
              "      <td>2</td>\n",
              "      <td>7</td>\n",
              "      <td>NaN</td>\n",
              "    </tr>\n",
              "    <tr>\n",
              "      <th>3255479</th>\n",
              "      <td>1428218</td>\n",
              "      <td>478802.0</td>\n",
              "      <td>464.593888</td>\n",
              "      <td>45000000.0</td>\n",
              "      <td>5</td>\n",
              "      <td>4</td>\n",
              "      <td>2</td>\n",
              "      <td>50000000.0</td>\n",
              "      <td>SWITCHLOAN</td>\n",
              "      <td>3.0</td>\n",
              "      <td>...</td>\n",
              "      <td>4.0</td>\n",
              "      <td>0.0</td>\n",
              "      <td>2.0</td>\n",
              "      <td>0.0</td>\n",
              "      <td>3.0</td>\n",
              "      <td>-1.395352</td>\n",
              "      <td>-0.579831</td>\n",
              "      <td>32</td>\n",
              "      <td>257</td>\n",
              "      <td>NaN</td>\n",
              "    </tr>\n",
              "    <tr>\n",
              "      <th>3255480</th>\n",
              "      <td>1428218</td>\n",
              "      <td>478802.0</td>\n",
              "      <td>464.593888</td>\n",
              "      <td>45000000.0</td>\n",
              "      <td>5</td>\n",
              "      <td>4</td>\n",
              "      <td>2</td>\n",
              "      <td>50000000.0</td>\n",
              "      <td>SWITCHLOAN</td>\n",
              "      <td>3.0</td>\n",
              "      <td>...</td>\n",
              "      <td>4.0</td>\n",
              "      <td>0.0</td>\n",
              "      <td>2.0</td>\n",
              "      <td>0.0</td>\n",
              "      <td>3.0</td>\n",
              "      <td>0.338158</td>\n",
              "      <td>1.350603</td>\n",
              "      <td>33</td>\n",
              "      <td>110</td>\n",
              "      <td>NaN</td>\n",
              "    </tr>\n",
              "    <tr>\n",
              "      <th>3255481</th>\n",
              "      <td>1428218</td>\n",
              "      <td>478802.0</td>\n",
              "      <td>464.593888</td>\n",
              "      <td>45000000.0</td>\n",
              "      <td>5</td>\n",
              "      <td>4</td>\n",
              "      <td>2</td>\n",
              "      <td>50000000.0</td>\n",
              "      <td>SWITCHLOAN</td>\n",
              "      <td>3.0</td>\n",
              "      <td>...</td>\n",
              "      <td>4.0</td>\n",
              "      <td>0.0</td>\n",
              "      <td>2.0</td>\n",
              "      <td>0.0</td>\n",
              "      <td>3.0</td>\n",
              "      <td>-0.707452</td>\n",
              "      <td>1.350603</td>\n",
              "      <td>5</td>\n",
              "      <td>194</td>\n",
              "      <td>NaN</td>\n",
              "    </tr>\n",
              "  </tbody>\n",
              "</table>\n",
              "<p>3255482 rows × 25 columns</p>\n",
              "</div>\n",
              "      <button class=\"colab-df-convert\" onclick=\"convertToInteractive('df-4c10be7e-e468-4883-ae0c-1241a514de2c')\"\n",
              "              title=\"Convert this dataframe to an interactive table.\"\n",
              "              style=\"display:none;\">\n",
              "        \n",
              "  <svg xmlns=\"http://www.w3.org/2000/svg\" height=\"24px\"viewBox=\"0 0 24 24\"\n",
              "       width=\"24px\">\n",
              "    <path d=\"M0 0h24v24H0V0z\" fill=\"none\"/>\n",
              "    <path d=\"M18.56 5.44l.94 2.06.94-2.06 2.06-.94-2.06-.94-.94-2.06-.94 2.06-2.06.94zm-11 1L8.5 8.5l.94-2.06 2.06-.94-2.06-.94L8.5 2.5l-.94 2.06-2.06.94zm10 10l.94 2.06.94-2.06 2.06-.94-2.06-.94-.94-2.06-.94 2.06-2.06.94z\"/><path d=\"M17.41 7.96l-1.37-1.37c-.4-.4-.92-.59-1.43-.59-.52 0-1.04.2-1.43.59L10.3 9.45l-7.72 7.72c-.78.78-.78 2.05 0 2.83L4 21.41c.39.39.9.59 1.41.59.51 0 1.02-.2 1.41-.59l7.78-7.78 2.81-2.81c.8-.78.8-2.07 0-2.86zM5.41 20L4 18.59l7.72-7.72 1.47 1.35L5.41 20z\"/>\n",
              "  </svg>\n",
              "      </button>\n",
              "      \n",
              "  <style>\n",
              "    .colab-df-container {\n",
              "      display:flex;\n",
              "      flex-wrap:wrap;\n",
              "      gap: 12px;\n",
              "    }\n",
              "\n",
              "    .colab-df-convert {\n",
              "      background-color: #E8F0FE;\n",
              "      border: none;\n",
              "      border-radius: 50%;\n",
              "      cursor: pointer;\n",
              "      display: none;\n",
              "      fill: #1967D2;\n",
              "      height: 32px;\n",
              "      padding: 0 0 0 0;\n",
              "      width: 32px;\n",
              "    }\n",
              "\n",
              "    .colab-df-convert:hover {\n",
              "      background-color: #E2EBFA;\n",
              "      box-shadow: 0px 1px 2px rgba(60, 64, 67, 0.3), 0px 1px 3px 1px rgba(60, 64, 67, 0.15);\n",
              "      fill: #174EA6;\n",
              "    }\n",
              "\n",
              "    [theme=dark] .colab-df-convert {\n",
              "      background-color: #3B4455;\n",
              "      fill: #D2E3FC;\n",
              "    }\n",
              "\n",
              "    [theme=dark] .colab-df-convert:hover {\n",
              "      background-color: #434B5C;\n",
              "      box-shadow: 0px 1px 3px 1px rgba(0, 0, 0, 0.15);\n",
              "      filter: drop-shadow(0px 1px 2px rgba(0, 0, 0, 0.3));\n",
              "      fill: #FFFFFF;\n",
              "    }\n",
              "  </style>\n",
              "\n",
              "      <script>\n",
              "        const buttonEl =\n",
              "          document.querySelector('#df-4c10be7e-e468-4883-ae0c-1241a514de2c button.colab-df-convert');\n",
              "        buttonEl.style.display =\n",
              "          google.colab.kernel.accessAllowed ? 'block' : 'none';\n",
              "\n",
              "        async function convertToInteractive(key) {\n",
              "          const element = document.querySelector('#df-4c10be7e-e468-4883-ae0c-1241a514de2c');\n",
              "          const dataTable =\n",
              "            await google.colab.kernel.invokeFunction('convertToInteractive',\n",
              "                                                     [key], {});\n",
              "          if (!dataTable) return;\n",
              "\n",
              "          const docLinkHtml = 'Like what you see? Visit the ' +\n",
              "            '<a target=\"_blank\" href=https://colab.research.google.com/notebooks/data_table.ipynb>data table notebook</a>'\n",
              "            + ' to learn more about interactive tables.';\n",
              "          element.innerHTML = '';\n",
              "          dataTable['output_type'] = 'display_data';\n",
              "          await google.colab.output.renderOutput(dataTable, element);\n",
              "          const docLink = document.createElement('div');\n",
              "          docLink.innerHTML = docLinkHtml;\n",
              "          element.appendChild(docLink);\n",
              "        }\n",
              "      </script>\n",
              "    </div>\n",
              "  </div>\n",
              "  "
            ]
          },
          "metadata": {},
          "execution_count": 43
        }
      ]
    },
    {
      "cell_type": "code",
      "source": [
        "spec_loan_log_6.isna().sum()"
      ],
      "metadata": {
        "colab": {
          "base_uri": "https://localhost:8080/"
        },
        "id": "0VLxaZL0bFpB",
        "outputId": "61af1bb8-01e8-4bc4-94bf-ef00ad6f67a7"
      },
      "execution_count": null,
      "outputs": [
        {
          "output_type": "execute_result",
          "data": {
            "text/plain": [
              "application_id                   0\n",
              "user_id                          0\n",
              "credit_score                     0\n",
              "yearly_income                    0\n",
              "income_type                      0\n",
              "employment_type                  0\n",
              "houseown_type                    0\n",
              "desired_amount                   0\n",
              "purpose                          0\n",
              "CompleteIDCertification          0\n",
              "EndLoanApply                     0\n",
              "GetCreditInfo                    0\n",
              "Login                            0\n",
              "OpenApp                          0\n",
              "SignUp                           0\n",
              "StartLoanApply                   0\n",
              "UseDSRCalc                       0\n",
              "UseLoanManage                    0\n",
              "UsePrepayCalc                    0\n",
              "ViewLoanApplyIntro               0\n",
              "rate_s                           0\n",
              "limit_s                          0\n",
              "bank_id                          0\n",
              "product_id                       0\n",
              "is_applied                 3255482\n",
              "dtype: int64"
            ]
          },
          "metadata": {},
          "execution_count": 44
        }
      ]
    },
    {
      "cell_type": "code",
      "source": [
        "spec_loan_log_6 = pd.merge(spec_loan_log_6, bank_applied, left_on = 'bank_id', right_on = 'bank_id', how = 'left')\n",
        "spec_loan_log_6 = pd.merge(spec_loan_log_6, product_applied, left_on = 'product_id', right_on = 'product_id', how = 'left')\n",
        "spec_loan_log_6"
      ],
      "metadata": {
        "colab": {
          "base_uri": "https://localhost:8080/"
        },
        "id": "3j8LV_oBd0xy",
        "outputId": "89a628eb-f91c-44bb-bb8a-a0a639af2adf"
      },
      "execution_count": null,
      "outputs": [
        {
          "output_type": "execute_result",
          "data": {
            "text/plain": [
              "         application_id   user_id  credit_score  yearly_income  income_type  \\\n",
              "0               1748340  430982.0    473.041049     24000000.0            5   \n",
              "1               1748340  430982.0    473.041049     24000000.0            5   \n",
              "2               1748340  430982.0    473.041049     24000000.0            5   \n",
              "3               1748340  430982.0    473.041049     24000000.0            5   \n",
              "4               1748340  430982.0    473.041049     24000000.0            5   \n",
              "...                 ...       ...           ...            ...          ...   \n",
              "3255477         1428218  478802.0    464.593888     45000000.0            5   \n",
              "3255478         1428218  478802.0    464.593888     45000000.0            5   \n",
              "3255479         1428218  478802.0    464.593888     45000000.0            5   \n",
              "3255480         1428218  478802.0    464.593888     45000000.0            5   \n",
              "3255481         1428218  478802.0    464.593888     45000000.0            5   \n",
              "\n",
              "         employment_type  houseown_type  desired_amount     purpose  \\\n",
              "0                      4              4      25000000.0  SWITCHLOAN   \n",
              "1                      4              4      25000000.0  SWITCHLOAN   \n",
              "2                      4              4      25000000.0  SWITCHLOAN   \n",
              "3                      4              4      25000000.0  SWITCHLOAN   \n",
              "4                      4              4      25000000.0  SWITCHLOAN   \n",
              "...                  ...            ...             ...         ...   \n",
              "3255477                4              2      50000000.0  SWITCHLOAN   \n",
              "3255478                4              2      50000000.0  SWITCHLOAN   \n",
              "3255479                4              2      50000000.0  SWITCHLOAN   \n",
              "3255480                4              2      50000000.0  SWITCHLOAN   \n",
              "3255481                4              2      50000000.0  SWITCHLOAN   \n",
              "\n",
              "         CompleteIDCertification  ...  UseLoanManage  UsePrepayCalc  \\\n",
              "0                            9.0  ...            0.0            0.0   \n",
              "1                            9.0  ...            0.0            0.0   \n",
              "2                            9.0  ...            0.0            0.0   \n",
              "3                            9.0  ...            0.0            0.0   \n",
              "4                            9.0  ...            0.0            0.0   \n",
              "...                          ...  ...            ...            ...   \n",
              "3255477                      3.0  ...            2.0            0.0   \n",
              "3255478                      3.0  ...            2.0            0.0   \n",
              "3255479                      3.0  ...            2.0            0.0   \n",
              "3255480                      3.0  ...            2.0            0.0   \n",
              "3255481                      3.0  ...            2.0            0.0   \n",
              "\n",
              "         ViewLoanApplyIntro    rate_s   limit_s  bank_id  product_id  \\\n",
              "0                      10.0 -0.148554  1.963431        7         191   \n",
              "1                      10.0  1.058626  0.353206       25         169   \n",
              "2                      10.0  1.227070  0.353206        2           7   \n",
              "3                      10.0 -0.934624  0.800491        4         268   \n",
              "4                      10.0  0.637517 -1.346475       11         118   \n",
              "...                     ...       ...       ...      ...         ...   \n",
              "3255477                 3.0  0.695866 -1.378631       62         200   \n",
              "3255478                 3.0 -0.129615  1.084336        2           7   \n",
              "3255479                 3.0 -1.395352 -0.579831       32         257   \n",
              "3255480                 3.0  0.338158  1.350603       33         110   \n",
              "3255481                 3.0 -0.707452  1.350603        5         194   \n",
              "\n",
              "         is_applied  bank_applied  product_applied  \n",
              "0               NaN      0.103032         0.114031  \n",
              "1               NaN      0.021180         0.035277  \n",
              "2               NaN      0.097596         0.093935  \n",
              "3               NaN      0.199582         0.167558  \n",
              "4               NaN      0.016988         0.016116  \n",
              "...             ...           ...              ...  \n",
              "3255477         NaN      0.091395         0.116528  \n",
              "3255478         NaN      0.097596         0.093935  \n",
              "3255479         NaN      0.026144         0.018052  \n",
              "3255480         NaN      0.042242         0.037856  \n",
              "3255481         NaN      0.057393         0.057393  \n",
              "\n",
              "[3255482 rows x 27 columns]"
            ],
            "text/html": [
              "\n",
              "  <div id=\"df-db48eacf-d871-47da-808a-7c99f8fc20ae\">\n",
              "    <div class=\"colab-df-container\">\n",
              "      <div>\n",
              "<style scoped>\n",
              "    .dataframe tbody tr th:only-of-type {\n",
              "        vertical-align: middle;\n",
              "    }\n",
              "\n",
              "    .dataframe tbody tr th {\n",
              "        vertical-align: top;\n",
              "    }\n",
              "\n",
              "    .dataframe thead th {\n",
              "        text-align: right;\n",
              "    }\n",
              "</style>\n",
              "<table border=\"1\" class=\"dataframe\">\n",
              "  <thead>\n",
              "    <tr style=\"text-align: right;\">\n",
              "      <th></th>\n",
              "      <th>application_id</th>\n",
              "      <th>user_id</th>\n",
              "      <th>credit_score</th>\n",
              "      <th>yearly_income</th>\n",
              "      <th>income_type</th>\n",
              "      <th>employment_type</th>\n",
              "      <th>houseown_type</th>\n",
              "      <th>desired_amount</th>\n",
              "      <th>purpose</th>\n",
              "      <th>CompleteIDCertification</th>\n",
              "      <th>...</th>\n",
              "      <th>UseLoanManage</th>\n",
              "      <th>UsePrepayCalc</th>\n",
              "      <th>ViewLoanApplyIntro</th>\n",
              "      <th>rate_s</th>\n",
              "      <th>limit_s</th>\n",
              "      <th>bank_id</th>\n",
              "      <th>product_id</th>\n",
              "      <th>is_applied</th>\n",
              "      <th>bank_applied</th>\n",
              "      <th>product_applied</th>\n",
              "    </tr>\n",
              "  </thead>\n",
              "  <tbody>\n",
              "    <tr>\n",
              "      <th>0</th>\n",
              "      <td>1748340</td>\n",
              "      <td>430982.0</td>\n",
              "      <td>473.041049</td>\n",
              "      <td>24000000.0</td>\n",
              "      <td>5</td>\n",
              "      <td>4</td>\n",
              "      <td>4</td>\n",
              "      <td>25000000.0</td>\n",
              "      <td>SWITCHLOAN</td>\n",
              "      <td>9.0</td>\n",
              "      <td>...</td>\n",
              "      <td>0.0</td>\n",
              "      <td>0.0</td>\n",
              "      <td>10.0</td>\n",
              "      <td>-0.148554</td>\n",
              "      <td>1.963431</td>\n",
              "      <td>7</td>\n",
              "      <td>191</td>\n",
              "      <td>NaN</td>\n",
              "      <td>0.103032</td>\n",
              "      <td>0.114031</td>\n",
              "    </tr>\n",
              "    <tr>\n",
              "      <th>1</th>\n",
              "      <td>1748340</td>\n",
              "      <td>430982.0</td>\n",
              "      <td>473.041049</td>\n",
              "      <td>24000000.0</td>\n",
              "      <td>5</td>\n",
              "      <td>4</td>\n",
              "      <td>4</td>\n",
              "      <td>25000000.0</td>\n",
              "      <td>SWITCHLOAN</td>\n",
              "      <td>9.0</td>\n",
              "      <td>...</td>\n",
              "      <td>0.0</td>\n",
              "      <td>0.0</td>\n",
              "      <td>10.0</td>\n",
              "      <td>1.058626</td>\n",
              "      <td>0.353206</td>\n",
              "      <td>25</td>\n",
              "      <td>169</td>\n",
              "      <td>NaN</td>\n",
              "      <td>0.021180</td>\n",
              "      <td>0.035277</td>\n",
              "    </tr>\n",
              "    <tr>\n",
              "      <th>2</th>\n",
              "      <td>1748340</td>\n",
              "      <td>430982.0</td>\n",
              "      <td>473.041049</td>\n",
              "      <td>24000000.0</td>\n",
              "      <td>5</td>\n",
              "      <td>4</td>\n",
              "      <td>4</td>\n",
              "      <td>25000000.0</td>\n",
              "      <td>SWITCHLOAN</td>\n",
              "      <td>9.0</td>\n",
              "      <td>...</td>\n",
              "      <td>0.0</td>\n",
              "      <td>0.0</td>\n",
              "      <td>10.0</td>\n",
              "      <td>1.227070</td>\n",
              "      <td>0.353206</td>\n",
              "      <td>2</td>\n",
              "      <td>7</td>\n",
              "      <td>NaN</td>\n",
              "      <td>0.097596</td>\n",
              "      <td>0.093935</td>\n",
              "    </tr>\n",
              "    <tr>\n",
              "      <th>3</th>\n",
              "      <td>1748340</td>\n",
              "      <td>430982.0</td>\n",
              "      <td>473.041049</td>\n",
              "      <td>24000000.0</td>\n",
              "      <td>5</td>\n",
              "      <td>4</td>\n",
              "      <td>4</td>\n",
              "      <td>25000000.0</td>\n",
              "      <td>SWITCHLOAN</td>\n",
              "      <td>9.0</td>\n",
              "      <td>...</td>\n",
              "      <td>0.0</td>\n",
              "      <td>0.0</td>\n",
              "      <td>10.0</td>\n",
              "      <td>-0.934624</td>\n",
              "      <td>0.800491</td>\n",
              "      <td>4</td>\n",
              "      <td>268</td>\n",
              "      <td>NaN</td>\n",
              "      <td>0.199582</td>\n",
              "      <td>0.167558</td>\n",
              "    </tr>\n",
              "    <tr>\n",
              "      <th>4</th>\n",
              "      <td>1748340</td>\n",
              "      <td>430982.0</td>\n",
              "      <td>473.041049</td>\n",
              "      <td>24000000.0</td>\n",
              "      <td>5</td>\n",
              "      <td>4</td>\n",
              "      <td>4</td>\n",
              "      <td>25000000.0</td>\n",
              "      <td>SWITCHLOAN</td>\n",
              "      <td>9.0</td>\n",
              "      <td>...</td>\n",
              "      <td>0.0</td>\n",
              "      <td>0.0</td>\n",
              "      <td>10.0</td>\n",
              "      <td>0.637517</td>\n",
              "      <td>-1.346475</td>\n",
              "      <td>11</td>\n",
              "      <td>118</td>\n",
              "      <td>NaN</td>\n",
              "      <td>0.016988</td>\n",
              "      <td>0.016116</td>\n",
              "    </tr>\n",
              "    <tr>\n",
              "      <th>...</th>\n",
              "      <td>...</td>\n",
              "      <td>...</td>\n",
              "      <td>...</td>\n",
              "      <td>...</td>\n",
              "      <td>...</td>\n",
              "      <td>...</td>\n",
              "      <td>...</td>\n",
              "      <td>...</td>\n",
              "      <td>...</td>\n",
              "      <td>...</td>\n",
              "      <td>...</td>\n",
              "      <td>...</td>\n",
              "      <td>...</td>\n",
              "      <td>...</td>\n",
              "      <td>...</td>\n",
              "      <td>...</td>\n",
              "      <td>...</td>\n",
              "      <td>...</td>\n",
              "      <td>...</td>\n",
              "      <td>...</td>\n",
              "      <td>...</td>\n",
              "    </tr>\n",
              "    <tr>\n",
              "      <th>3255477</th>\n",
              "      <td>1428218</td>\n",
              "      <td>478802.0</td>\n",
              "      <td>464.593888</td>\n",
              "      <td>45000000.0</td>\n",
              "      <td>5</td>\n",
              "      <td>4</td>\n",
              "      <td>2</td>\n",
              "      <td>50000000.0</td>\n",
              "      <td>SWITCHLOAN</td>\n",
              "      <td>3.0</td>\n",
              "      <td>...</td>\n",
              "      <td>2.0</td>\n",
              "      <td>0.0</td>\n",
              "      <td>3.0</td>\n",
              "      <td>0.695866</td>\n",
              "      <td>-1.378631</td>\n",
              "      <td>62</td>\n",
              "      <td>200</td>\n",
              "      <td>NaN</td>\n",
              "      <td>0.091395</td>\n",
              "      <td>0.116528</td>\n",
              "    </tr>\n",
              "    <tr>\n",
              "      <th>3255478</th>\n",
              "      <td>1428218</td>\n",
              "      <td>478802.0</td>\n",
              "      <td>464.593888</td>\n",
              "      <td>45000000.0</td>\n",
              "      <td>5</td>\n",
              "      <td>4</td>\n",
              "      <td>2</td>\n",
              "      <td>50000000.0</td>\n",
              "      <td>SWITCHLOAN</td>\n",
              "      <td>3.0</td>\n",
              "      <td>...</td>\n",
              "      <td>2.0</td>\n",
              "      <td>0.0</td>\n",
              "      <td>3.0</td>\n",
              "      <td>-0.129615</td>\n",
              "      <td>1.084336</td>\n",
              "      <td>2</td>\n",
              "      <td>7</td>\n",
              "      <td>NaN</td>\n",
              "      <td>0.097596</td>\n",
              "      <td>0.093935</td>\n",
              "    </tr>\n",
              "    <tr>\n",
              "      <th>3255479</th>\n",
              "      <td>1428218</td>\n",
              "      <td>478802.0</td>\n",
              "      <td>464.593888</td>\n",
              "      <td>45000000.0</td>\n",
              "      <td>5</td>\n",
              "      <td>4</td>\n",
              "      <td>2</td>\n",
              "      <td>50000000.0</td>\n",
              "      <td>SWITCHLOAN</td>\n",
              "      <td>3.0</td>\n",
              "      <td>...</td>\n",
              "      <td>2.0</td>\n",
              "      <td>0.0</td>\n",
              "      <td>3.0</td>\n",
              "      <td>-1.395352</td>\n",
              "      <td>-0.579831</td>\n",
              "      <td>32</td>\n",
              "      <td>257</td>\n",
              "      <td>NaN</td>\n",
              "      <td>0.026144</td>\n",
              "      <td>0.018052</td>\n",
              "    </tr>\n",
              "    <tr>\n",
              "      <th>3255480</th>\n",
              "      <td>1428218</td>\n",
              "      <td>478802.0</td>\n",
              "      <td>464.593888</td>\n",
              "      <td>45000000.0</td>\n",
              "      <td>5</td>\n",
              "      <td>4</td>\n",
              "      <td>2</td>\n",
              "      <td>50000000.0</td>\n",
              "      <td>SWITCHLOAN</td>\n",
              "      <td>3.0</td>\n",
              "      <td>...</td>\n",
              "      <td>2.0</td>\n",
              "      <td>0.0</td>\n",
              "      <td>3.0</td>\n",
              "      <td>0.338158</td>\n",
              "      <td>1.350603</td>\n",
              "      <td>33</td>\n",
              "      <td>110</td>\n",
              "      <td>NaN</td>\n",
              "      <td>0.042242</td>\n",
              "      <td>0.037856</td>\n",
              "    </tr>\n",
              "    <tr>\n",
              "      <th>3255481</th>\n",
              "      <td>1428218</td>\n",
              "      <td>478802.0</td>\n",
              "      <td>464.593888</td>\n",
              "      <td>45000000.0</td>\n",
              "      <td>5</td>\n",
              "      <td>4</td>\n",
              "      <td>2</td>\n",
              "      <td>50000000.0</td>\n",
              "      <td>SWITCHLOAN</td>\n",
              "      <td>3.0</td>\n",
              "      <td>...</td>\n",
              "      <td>2.0</td>\n",
              "      <td>0.0</td>\n",
              "      <td>3.0</td>\n",
              "      <td>-0.707452</td>\n",
              "      <td>1.350603</td>\n",
              "      <td>5</td>\n",
              "      <td>194</td>\n",
              "      <td>NaN</td>\n",
              "      <td>0.057393</td>\n",
              "      <td>0.057393</td>\n",
              "    </tr>\n",
              "  </tbody>\n",
              "</table>\n",
              "<p>3255482 rows × 27 columns</p>\n",
              "</div>\n",
              "      <button class=\"colab-df-convert\" onclick=\"convertToInteractive('df-db48eacf-d871-47da-808a-7c99f8fc20ae')\"\n",
              "              title=\"Convert this dataframe to an interactive table.\"\n",
              "              style=\"display:none;\">\n",
              "        \n",
              "  <svg xmlns=\"http://www.w3.org/2000/svg\" height=\"24px\"viewBox=\"0 0 24 24\"\n",
              "       width=\"24px\">\n",
              "    <path d=\"M0 0h24v24H0V0z\" fill=\"none\"/>\n",
              "    <path d=\"M18.56 5.44l.94 2.06.94-2.06 2.06-.94-2.06-.94-.94-2.06-.94 2.06-2.06.94zm-11 1L8.5 8.5l.94-2.06 2.06-.94-2.06-.94L8.5 2.5l-.94 2.06-2.06.94zm10 10l.94 2.06.94-2.06 2.06-.94-2.06-.94-.94-2.06-.94 2.06-2.06.94z\"/><path d=\"M17.41 7.96l-1.37-1.37c-.4-.4-.92-.59-1.43-.59-.52 0-1.04.2-1.43.59L10.3 9.45l-7.72 7.72c-.78.78-.78 2.05 0 2.83L4 21.41c.39.39.9.59 1.41.59.51 0 1.02-.2 1.41-.59l7.78-7.78 2.81-2.81c.8-.78.8-2.07 0-2.86zM5.41 20L4 18.59l7.72-7.72 1.47 1.35L5.41 20z\"/>\n",
              "  </svg>\n",
              "      </button>\n",
              "      \n",
              "  <style>\n",
              "    .colab-df-container {\n",
              "      display:flex;\n",
              "      flex-wrap:wrap;\n",
              "      gap: 12px;\n",
              "    }\n",
              "\n",
              "    .colab-df-convert {\n",
              "      background-color: #E8F0FE;\n",
              "      border: none;\n",
              "      border-radius: 50%;\n",
              "      cursor: pointer;\n",
              "      display: none;\n",
              "      fill: #1967D2;\n",
              "      height: 32px;\n",
              "      padding: 0 0 0 0;\n",
              "      width: 32px;\n",
              "    }\n",
              "\n",
              "    .colab-df-convert:hover {\n",
              "      background-color: #E2EBFA;\n",
              "      box-shadow: 0px 1px 2px rgba(60, 64, 67, 0.3), 0px 1px 3px 1px rgba(60, 64, 67, 0.15);\n",
              "      fill: #174EA6;\n",
              "    }\n",
              "\n",
              "    [theme=dark] .colab-df-convert {\n",
              "      background-color: #3B4455;\n",
              "      fill: #D2E3FC;\n",
              "    }\n",
              "\n",
              "    [theme=dark] .colab-df-convert:hover {\n",
              "      background-color: #434B5C;\n",
              "      box-shadow: 0px 1px 3px 1px rgba(0, 0, 0, 0.15);\n",
              "      filter: drop-shadow(0px 1px 2px rgba(0, 0, 0, 0.3));\n",
              "      fill: #FFFFFF;\n",
              "    }\n",
              "  </style>\n",
              "\n",
              "      <script>\n",
              "        const buttonEl =\n",
              "          document.querySelector('#df-db48eacf-d871-47da-808a-7c99f8fc20ae button.colab-df-convert');\n",
              "        buttonEl.style.display =\n",
              "          google.colab.kernel.accessAllowed ? 'block' : 'none';\n",
              "\n",
              "        async function convertToInteractive(key) {\n",
              "          const element = document.querySelector('#df-db48eacf-d871-47da-808a-7c99f8fc20ae');\n",
              "          const dataTable =\n",
              "            await google.colab.kernel.invokeFunction('convertToInteractive',\n",
              "                                                     [key], {});\n",
              "          if (!dataTable) return;\n",
              "\n",
              "          const docLinkHtml = 'Like what you see? Visit the ' +\n",
              "            '<a target=\"_blank\" href=https://colab.research.google.com/notebooks/data_table.ipynb>data table notebook</a>'\n",
              "            + ' to learn more about interactive tables.';\n",
              "          element.innerHTML = '';\n",
              "          dataTable['output_type'] = 'display_data';\n",
              "          await google.colab.output.renderOutput(dataTable, element);\n",
              "          const docLink = document.createElement('div');\n",
              "          docLink.innerHTML = docLinkHtml;\n",
              "          element.appendChild(docLink);\n",
              "        }\n",
              "      </script>\n",
              "    </div>\n",
              "  </div>\n",
              "  "
            ]
          },
          "metadata": {},
          "execution_count": 45
        }
      ]
    },
    {
      "cell_type": "code",
      "source": [
        "spec_loan_log_6['bank_applied'] = spec_loan_log_6['bank_applied'].fillna(spec_loan_log_6['bank_applied'].mean())\n",
        "spec_loan_log_6['product_applied'] = spec_loan_log_6['product_applied'].fillna(spec_loan_log_6['product_applied'].mean())"
      ],
      "metadata": {
        "id": "ONeISMdcfaRX"
      },
      "execution_count": null,
      "outputs": []
    },
    {
      "cell_type": "code",
      "source": [
        "spec_loan_log_6.isna().sum()"
      ],
      "metadata": {
        "colab": {
          "base_uri": "https://localhost:8080/"
        },
        "id": "dZEzT6OteORY",
        "outputId": "1ae1fd1e-b1eb-4b3b-9a34-96607177da6b"
      },
      "execution_count": null,
      "outputs": [
        {
          "output_type": "execute_result",
          "data": {
            "text/plain": [
              "application_id                   0\n",
              "user_id                          0\n",
              "credit_score                     0\n",
              "yearly_income                    0\n",
              "income_type                      0\n",
              "employment_type                  0\n",
              "houseown_type                    0\n",
              "desired_amount                   0\n",
              "purpose                          0\n",
              "CompleteIDCertification          0\n",
              "EndLoanApply                     0\n",
              "GetCreditInfo                    0\n",
              "Login                            0\n",
              "OpenApp                          0\n",
              "SignUp                           0\n",
              "StartLoanApply                   0\n",
              "UseDSRCalc                       0\n",
              "UseLoanManage                    0\n",
              "UsePrepayCalc                    0\n",
              "ViewLoanApplyIntro               0\n",
              "rate_s                           0\n",
              "limit_s                          0\n",
              "bank_id                          0\n",
              "product_id                       0\n",
              "is_applied                 3255482\n",
              "bank_applied                     0\n",
              "product_applied                  0\n",
              "dtype: int64"
            ]
          },
          "metadata": {},
          "execution_count": 47
        }
      ]
    },
    {
      "cell_type": "code",
      "source": [
        "#spec_loan_log_6.to_csv('test_data_final.csv', index = False)"
      ],
      "metadata": {
        "id": "W2IrYb9AftPl"
      },
      "execution_count": null,
      "outputs": []
    },
    {
      "cell_type": "markdown",
      "source": [
        "##3.4. 상품 예측 훈련"
      ],
      "metadata": {
        "id": "hnHQf5v0pW-F"
      }
    },
    {
      "cell_type": "code",
      "source": [
        "#대출을 신청한 유저들이 어떤 상품을 신청하는지 예측하는 훈련이므로, 대출 신청한 유저들 대상으로만 훈련\n",
        "\n",
        "X_train_loan = X_train[X_train['applied_once'] == 1]\n",
        "y_train_loan = X_train_loan['is_applied']\n",
        "len(X_train_loan) == len(y_train_loan)"
      ],
      "metadata": {
        "id": "WmAD34hdpaUf",
        "colab": {
          "base_uri": "https://localhost:8080/"
        },
        "outputId": "2e6475a5-83ce-4f46-f445-5d06ebfd3957"
      },
      "execution_count": null,
      "outputs": [
        {
          "output_type": "execute_result",
          "data": {
            "text/plain": [
              "True"
            ]
          },
          "metadata": {},
          "execution_count": 49
        }
      ]
    },
    {
      "cell_type": "code",
      "source": [
        "#상품 예측 훈련의 변수는 다음의 4가지 특성\n",
        "\n",
        "X_train_loan = X_train_loan[['limit_s', 'rate_s', 'bank_applied', 'product_applied']]"
      ],
      "metadata": {
        "id": "wtBxaBvBrG3b"
      },
      "execution_count": null,
      "outputs": []
    },
    {
      "cell_type": "code",
      "source": [
        "RF_loan = RandomForestClassifier(n_estimators = 6)\n",
        "RF_loan.fit(X_train_loan, y_train_loan)\n",
        "# joblib.dump(RF_loan, 'RF_loan.pkl')"
      ],
      "metadata": {
        "id": "MpHom7UJrSYD",
        "colab": {
          "base_uri": "https://localhost:8080/"
        },
        "outputId": "da9c109a-d6e1-4e26-b70a-c7c9e2ef9163"
      },
      "execution_count": null,
      "outputs": [
        {
          "output_type": "execute_result",
          "data": {
            "text/plain": [
              "RandomForestClassifier(n_estimators=6)"
            ]
          },
          "metadata": {},
          "execution_count": 51
        }
      ]
    },
    {
      "cell_type": "code",
      "source": [
        "# rfc_loan = joblib.load('/content/drive/MyDrive/Modeling Project 2022/제출할 것만 최종정리/oversampling_please_RF_loan.pkl')\n",
        "# RF_loan = rfc_loan"
      ],
      "metadata": {
        "id": "VVc5NK2CaC17"
      },
      "execution_count": null,
      "outputs": []
    },
    {
      "cell_type": "markdown",
      "source": [
        "##3.5. 유저 예측 훈련"
      ],
      "metadata": {
        "id": "T_AQkcZ_bwT9"
      }
    },
    {
      "cell_type": "code",
      "source": [
        "#유저 예측의 변수는 다음의 특성들을 사용\n",
        "\n",
        "X_train_user = X_train[['credit_score', 'yearly_income',\n",
        "       'income_type', 'employment_type', 'houseown_type', 'desired_amount',\n",
        "       'purpose', 'CompleteIDCertification', 'EndLoanApply', 'GetCreditInfo', 'Login',\n",
        "       'OpenApp', 'SignUp', 'StartLoanApply', 'UseDSRCalc', 'UseLoanManage',\n",
        "       'UsePrepayCalc', 'ViewLoanApplyIntro']]\n",
        "\n",
        "Y_train_user = X_train['applied_once']"
      ],
      "metadata": {
        "id": "S9yLmf0-b_-J"
      },
      "execution_count": null,
      "outputs": []
    },
    {
      "cell_type": "code",
      "source": [
        "#범주형 변수의 더미변수화\n",
        "\n",
        "X_train_user['income_type'] = X_train_user['income_type'].astype(str)\n",
        "X_train_user['employment_type'] = X_train_user['employment_type'].astype(str)\n",
        "X_train_user['houseown_type'] = X_train_user['houseown_type'].astype(str)\n",
        "X_train_user = pd.get_dummies(X_train_user, columns = ['income_type', 'employment_type', 'houseown_type', 'purpose'])"
      ],
      "metadata": {
        "id": "BUDldLvgLqBE",
        "colab": {
          "base_uri": "https://localhost:8080/"
        },
        "outputId": "79d5b4e4-f735-4767-d232-e9e442150bce"
      },
      "execution_count": null,
      "outputs": [
        {
          "output_type": "stream",
          "name": "stderr",
          "text": [
            "/usr/local/lib/python3.7/dist-packages/ipykernel_launcher.py:3: SettingWithCopyWarning: \n",
            "A value is trying to be set on a copy of a slice from a DataFrame.\n",
            "Try using .loc[row_indexer,col_indexer] = value instead\n",
            "\n",
            "See the caveats in the documentation: https://pandas.pydata.org/pandas-docs/stable/user_guide/indexing.html#returning-a-view-versus-a-copy\n",
            "  This is separate from the ipykernel package so we can avoid doing imports until\n",
            "/usr/local/lib/python3.7/dist-packages/ipykernel_launcher.py:4: SettingWithCopyWarning: \n",
            "A value is trying to be set on a copy of a slice from a DataFrame.\n",
            "Try using .loc[row_indexer,col_indexer] = value instead\n",
            "\n",
            "See the caveats in the documentation: https://pandas.pydata.org/pandas-docs/stable/user_guide/indexing.html#returning-a-view-versus-a-copy\n",
            "  after removing the cwd from sys.path.\n",
            "/usr/local/lib/python3.7/dist-packages/ipykernel_launcher.py:5: SettingWithCopyWarning: \n",
            "A value is trying to be set on a copy of a slice from a DataFrame.\n",
            "Try using .loc[row_indexer,col_indexer] = value instead\n",
            "\n",
            "See the caveats in the documentation: https://pandas.pydata.org/pandas-docs/stable/user_guide/indexing.html#returning-a-view-versus-a-copy\n",
            "  \"\"\"\n"
          ]
        }
      ]
    },
    {
      "cell_type": "code",
      "source": [
        "RF_user = RandomForestClassifier()\n",
        "RF_user.fit(X_train_user, Y_train_user)\n",
        "# joblib.dump('/content/drive/MyDrive/Modeling Project 2022/제출할 것만 최종정리/ch_final_user.pkl')"
      ],
      "metadata": {
        "id": "WdzoOd69EwxN"
      },
      "execution_count": null,
      "outputs": []
    },
    {
      "cell_type": "code",
      "source": [
        " rfc_user = joblib.load('/content/drive/MyDrive/Modeling Project 2022/제출할 것만 최종정리/ch_final_user.pkl')\n",
        " RF_user = rfc_user"
      ],
      "metadata": {
        "id": "7vsvxZ7da7cc"
      },
      "execution_count": null,
      "outputs": []
    },
    {
      "cell_type": "markdown",
      "source": [
        "#4. 예측 모델 평가 (3,4,5월에 대해)"
      ],
      "metadata": {
        "id": "ZtZFatpOrqjl"
      }
    },
    {
      "cell_type": "markdown",
      "source": [
        "##4.1. 유저가 대출을 받을 확률\n"
      ],
      "metadata": {
        "id": "YsDhNpQVrwpt"
      }
    },
    {
      "cell_type": "code",
      "source": [
        "#유저 예측 모형의 변수들 선택\n",
        "\n",
        "X_test_user = X_test[['credit_score', 'yearly_income',\n",
        "       'income_type', 'employment_type', 'houseown_type', 'desired_amount',\n",
        "       'purpose']]\n",
        "\n",
        "#범주형 변수의 더미변수화\n",
        "\n",
        "X_test_user['income_type'] = X_test_user['income_type'].astype(str)\n",
        "X_test_user['employment_type'] = X_test_user['employment_type'].astype(str)\n",
        "X_test_user['houseown_type'] = X_test_user['houseown_type'].astype(str)\n",
        "X_test_user = pd.get_dummies(X_test_user, columns = ['income_type', 'employment_type', 'houseown_type', 'purpose'])"
      ],
      "metadata": {
        "id": "33kpWNNYugAN",
        "colab": {
          "base_uri": "https://localhost:8080/"
        },
        "outputId": "fc6ddd2d-927a-49e8-9c2c-26414b424d79"
      },
      "execution_count": null,
      "outputs": [
        {
          "output_type": "stream",
          "name": "stderr",
          "text": [
            "/usr/local/lib/python3.7/dist-packages/ipykernel_launcher.py:9: SettingWithCopyWarning: \n",
            "A value is trying to be set on a copy of a slice from a DataFrame.\n",
            "Try using .loc[row_indexer,col_indexer] = value instead\n",
            "\n",
            "See the caveats in the documentation: https://pandas.pydata.org/pandas-docs/stable/user_guide/indexing.html#returning-a-view-versus-a-copy\n",
            "  if __name__ == '__main__':\n",
            "/usr/local/lib/python3.7/dist-packages/ipykernel_launcher.py:10: SettingWithCopyWarning: \n",
            "A value is trying to be set on a copy of a slice from a DataFrame.\n",
            "Try using .loc[row_indexer,col_indexer] = value instead\n",
            "\n",
            "See the caveats in the documentation: https://pandas.pydata.org/pandas-docs/stable/user_guide/indexing.html#returning-a-view-versus-a-copy\n",
            "  # Remove the CWD from sys.path while we load stuff.\n",
            "/usr/local/lib/python3.7/dist-packages/ipykernel_launcher.py:11: SettingWithCopyWarning: \n",
            "A value is trying to be set on a copy of a slice from a DataFrame.\n",
            "Try using .loc[row_indexer,col_indexer] = value instead\n",
            "\n",
            "See the caveats in the documentation: https://pandas.pydata.org/pandas-docs/stable/user_guide/indexing.html#returning-a-view-versus-a-copy\n",
            "  # This is added back by InteractiveShellApp.init_path()\n"
          ]
        }
      ]
    },
    {
      "cell_type": "code",
      "source": [
        "y_pred_user = RF_user.predict_proba(X_test_user)"
      ],
      "metadata": {
        "id": "6AfFf81bjyBM"
      },
      "execution_count": null,
      "outputs": []
    },
    {
      "cell_type": "markdown",
      "source": [
        "## 4.2. 유저가 대출을 받을 때 상품이 선택될 확률"
      ],
      "metadata": {
        "id": "hc4112yHr512"
      }
    },
    {
      "cell_type": "code",
      "source": [
        "#상품 예측 모형의 변수들 선택\n",
        "\n",
        "X_test_loan = X_test[['limit_s', 'rate_s', 'bank_applied', 'product_applied']]"
      ],
      "metadata": {
        "id": "S6jXfncTuumP"
      },
      "execution_count": null,
      "outputs": []
    },
    {
      "cell_type": "code",
      "source": [
        "y_pred_loan = RF_loan.predict_proba(X_test_loan)"
      ],
      "metadata": {
        "id": "P5eQK515sOJ2"
      },
      "execution_count": null,
      "outputs": []
    },
    {
      "cell_type": "markdown",
      "source": [
        "##4.3. 최종 예측과 성능"
      ],
      "metadata": {
        "id": "muQ3ogG5sSik"
      }
    },
    {
      "cell_type": "markdown",
      "source": [
        "###4.3.1. 최적 threshold 선택 "
      ],
      "metadata": {
        "id": "id-bOgJU_kfe"
      }
    },
    {
      "cell_type": "code",
      "source": [
        "y_pred_prob = y_pred_user[:,1] * y_pred_loan[:,1] #두 확률의 곱이 최종 예측 확률"
      ],
      "metadata": {
        "id": "JCZ1pyJ7sUcI"
      },
      "execution_count": null,
      "outputs": []
    },
    {
      "cell_type": "code",
      "source": [
        "candidate_threshold = [0.1,0.15,0.2,0.25,0.3,0.35,0.4,0.45,0.5]"
      ],
      "metadata": {
        "id": "dWtXUY2Bilu5"
      },
      "execution_count": null,
      "outputs": []
    },
    {
      "cell_type": "code",
      "source": [
        "list_accuracy_score =[]\n",
        "list_precision_score=[]\n",
        "list_recall_score = [] \n",
        "list_f1_score= [] \n",
        "for threshold in candidate_threshold:\n",
        "  y_pred = [] \n",
        "  y_pred = np.where(y_pred_prob>threshold, 1,0)\n",
        "  print('--------threshold is {} ------'.format(threshold))\n",
        "  print('accuracy : ', accuracy_score(y_test, y_pred))\n",
        "  print('precision : ',precision_score(y_test, y_pred))\n",
        "  print('recall : ',recall_score(y_test, y_pred))\n",
        "  print('f1_score : ',f1_score(y_test, y_pred))\n",
        "  list_accuracy_score.append(accuracy_score(y_test, y_pred))\n",
        "  list_precision_score.append(precision_score(y_test, y_pred))\n",
        "  list_recall_score.append(recall_score(y_test, y_pred))\n",
        "  list_f1_score.append(f1_score(y_test, y_pred))\n",
        "  print('')\n",
        "  print('confusion matrix of model')\n",
        "  print(confusion_matrix(y_test, y_pred)/len(y_test))\n",
        "  print('')\n",
        "  print('------------------------------- \\n')"
      ],
      "metadata": {
        "id": "mY8eUhQusgnl",
        "colab": {
          "base_uri": "https://localhost:8080/"
        },
        "outputId": "49ecf151-0261-4ad2-db8b-56ff1f807310"
      },
      "execution_count": null,
      "outputs": [
        {
          "output_type": "stream",
          "name": "stdout",
          "text": [
            "--------threshold is 0.1 ------\n",
            "accuracy :  0.8379996278395502\n",
            "precision :  0.174189644841806\n",
            "recall :  0.5356829944630614\n",
            "f1_score :  0.26289344140573917\n",
            "\n",
            "confusion matrix of model\n",
            "[[0.80911043 0.13695992]\n",
            " [0.02504046 0.0288892 ]]\n",
            "\n",
            "------------------------------- \n",
            "\n",
            "--------threshold is 0.15 ------\n",
            "accuracy :  0.8662351099285978\n",
            "precision :  0.1958045332719592\n",
            "recall :  0.4764386555988113\n",
            "f1_score :  0.27754494247521033\n",
            "\n",
            "confusion matrix of model\n",
            "[[0.84054094 0.10552941]\n",
            " [0.02823548 0.02569417]]\n",
            "\n",
            "------------------------------- \n",
            "\n",
            "--------threshold is 0.2 ------\n",
            "accuracy :  0.900782706035137\n",
            "precision :  0.24246252036033641\n",
            "recall :  0.39529947340372684\n",
            "f1_score :  0.3005676335552816\n",
            "\n",
            "confusion matrix of model\n",
            "[[0.87946434 0.066606  ]\n",
            " [0.03261129 0.02131836]]\n",
            "\n",
            "------------------------------- \n",
            "\n",
            "--------threshold is 0.25 ------\n",
            "accuracy :  0.9099922158062973\n",
            "precision :  0.25905056866980714\n",
            "recall :  0.35962099520372864\n",
            "f1_score :  0.3011614845519907\n",
            "\n",
            "confusion matrix of model\n",
            "[[0.89059798 0.05547237]\n",
            " [0.03453542 0.01939424]]\n",
            "\n",
            "------------------------------- \n",
            "\n",
            "--------threshold is 0.3 ------\n",
            "accuracy :  0.9170052969538375\n",
            "precision :  0.2744448728707841\n",
            "recall :  0.3278806983949201\n",
            "f1_score :  0.2987924832700903\n",
            "\n",
            "confusion matrix of model\n",
            "[[0.8993228  0.04674754]\n",
            " [0.03624716 0.01768249]]\n",
            "\n",
            "------------------------------- \n",
            "\n",
            "--------threshold is 0.35 ------\n",
            "accuracy :  0.9289636305713247\n",
            "precision :  0.31609761206535403\n",
            "recall :  0.27261067102636594\n",
            "f1_score :  0.2927479860905665\n",
            "\n",
            "confusion matrix of model\n",
            "[[0.91426183 0.03180851]\n",
            " [0.03922785 0.0147018 ]]\n",
            "\n",
            "------------------------------- \n",
            "\n",
            "--------threshold is 0.4 ------\n",
            "accuracy :  0.9313237318535247\n",
            "precision :  0.3254736016787926\n",
            "recall :  0.25497014750115166\n",
            "f1_score :  0.28594003241491084\n",
            "\n",
            "confusion matrix of model\n",
            "[[0.91757328 0.02849707]\n",
            " [0.0401792  0.01375045]]\n",
            "\n",
            "------------------------------- \n",
            "\n",
            "--------threshold is 0.45 ------\n",
            "accuracy :  0.9351846529603804\n",
            "precision :  0.3442392137729142\n",
            "recall :  0.2230492001698115\n",
            "f1_score :  0.2706992754020368\n",
            "\n",
            "confusion matrix of model\n",
            "[[0.92315569 0.02291466]\n",
            " [0.04190069 0.01202897]]\n",
            "\n",
            "------------------------------- \n",
            "\n",
            "--------threshold is 0.5 ------\n",
            "accuracy :  0.939916059307957\n",
            "precision :  0.38093263467410565\n",
            "recall :  0.18254735301821862\n",
            "f1_score :  0.2468170854578207\n",
            "\n",
            "confusion matrix of model\n",
            "[[0.93007134 0.015999  ]\n",
            " [0.04408494 0.00984472]]\n",
            "\n",
            "------------------------------- \n",
            "\n"
          ]
        }
      ]
    },
    {
      "cell_type": "code",
      "source": [
        "plt.figure(figsize=(20,12))\n",
        "plt.subplot(2,1,1)\n",
        "\n",
        "plt.plot(candidate_threshold, list_f1_score)\n",
        "plt.xlabel('threshold ')\n",
        "plt.ylabel('F1-score')\n",
        "plt.title('F1_score by threshold')\n",
        "plt.subplot(2,1,2)\n",
        "\n",
        "plt.plot(candidate_threshold, list_recall_score)\n",
        "plt.xlabel('threshold ')\n",
        "plt.ylabel('recall')\n",
        "plt.title('recall by threshold')\n",
        "\n",
        "# recall은 지속 감소하고, f1 score은 최대화되는 0.3에서 최적 threshold 선택 "
      ],
      "metadata": {
        "id": "S9VWk-vtkaqk",
        "colab": {
          "base_uri": "https://localhost:8080/",
          "height": 748
        },
        "outputId": "d4489d01-2ad9-43e7-8921-c4dbbf899e9e"
      },
      "execution_count": null,
      "outputs": [
        {
          "output_type": "execute_result",
          "data": {
            "text/plain": [
              "Text(0.5, 1.0, 'recall by threshold')"
            ]
          },
          "metadata": {},
          "execution_count": 64
        },
        {
          "output_type": "display_data",
          "data": {
            "text/plain": [
              "<Figure size 1440x864 with 2 Axes>"
            ],
            "image/png": "[encoded data removed]"
          },
          "metadata": {
            "needs_background": "light"
          }
        }
      ]
    },
    {
      "cell_type": "markdown",
      "source": [
        "###4.3.2. 랜덤 포레스트 변수 중요도 시각화 "
      ],
      "metadata": {
        "id": "sFLFLsscl9s5"
      }
    },
    {
      "cell_type": "code",
      "source": [
        "a = RF_loan.feature_importances_\n",
        "b = ['l_limit', 'l_rate', 'bank_app', 'product_app']"
      ],
      "metadata": {
        "id": "Zq259muHl9OM"
      },
      "execution_count": null,
      "outputs": []
    },
    {
      "cell_type": "code",
      "source": [
        "plt.barh(['l_limit', 'l_rate', 'bank_app', 'product_app'],\n",
        "a, align='center', label=\"Loan_rf\")\n",
        "plt.legend()\n",
        "\n",
        "plt.ylabel('Features')\n",
        "plt.xlabel('Feature_Importance')\n",
        "plt.title('Importance per Feature')\n",
        "\n",
        "plt.show()"
      ],
      "metadata": {
        "id": "tN-K3Aedm7Ha",
        "colab": {
          "base_uri": "https://localhost:8080/",
          "height": 296
        },
        "outputId": "f2bf71e8-8850-4eb0-a479-607a1d013ee6"
      },
      "execution_count": null,
      "outputs": [
        {
          "output_type": "display_data",
          "data": {
            "text/plain": [
              "<Figure size 432x288 with 1 Axes>"
            ],
            "image/png": "[encoded data removed]"
          },
          "metadata": {
            "needs_background": "light"
          }
        }
      ]
    },
    {
      "cell_type": "code",
      "source": [
        "a = RF_user.feature_importances_"
      ],
      "metadata": {
        "id": "zqgvx1mco2TV"
      },
      "execution_count": null,
      "outputs": []
    },
    {
      "cell_type": "code",
      "source": [
        "feature_scores = pd.Series(RF_user.feature_importances_, index=['credit_score', 'yearly_income', 'desired_amount', 'income_type_1',\n",
        "       'income_type_2', 'income_type_3', 'income_type_4', 'income_type_5',\n",
        "       'income_type_6', 'employment_type_1', 'employment_type_2',\n",
        "       'employment_type_3', 'employment_type_4', 'houseown_type_1',\n",
        "       'houseown_type_2', 'houseown_type_3', 'houseown_type_4',\n",
        "       'purpose_BUSINESS', 'purpose_BUYCAaR', 'purpose_BUYHOUSE', 'purpose_ETC',\n",
        "       'purpose_HOUSEDEPOSIT', 'purpose_INVEST', 'purpose_LIVING',\n",
        "       'purpose_SWITCHLOAN']).sort_values(ascending=False)"
      ],
      "metadata": {
        "id": "kASLQPninFRq"
      },
      "execution_count": null,
      "outputs": []
    },
    {
      "cell_type": "code",
      "source": [
        "feature_scores['purpose']= feature_scores['purpose_LIVING']+feature_scores['purpose_HOUSEDEPOSIT']+feature_scores['purpose_SWITCHLOAN']+feature_scores['purpose_BUSINESS']+feature_scores['purpose_BUSINESS']+feature_scores['purpose_BUYCAaR']+feature_scores['purpose_ETC']\n",
        "feature_scores['houseown_type'] =feature_scores['houseown_type_1']+feature_scores['houseown_type_2']+feature_scores['houseown_type_3']+feature_scores['houseown_type_4']\n",
        "feature_scores['employment_type']= feature_scores['employment_type_1']+feature_scores['employment_type_2']+feature_scores['employment_type_3']+feature_scores['employment_type_4']\n",
        "feature_scores['income_type']= feature_scores['income_type_1']+feature_scores['income_type_2']+feature_scores['income_type_3']+feature_scores['income_type_4']+feature_scores['income_type_5']+feature_scores['income_type_6']\n",
        "feature_scores.drop(index=['income_type_1','income_type_2','income_type_3','income_type_4','income_type_5','income_type_6','employment_type_1','employment_type_2','employment_type_3','employment_type_4','houseown_type_1','houseown_type_2','houseown_type_3','houseown_type_4','purpose_BUYHOUSE','purpose_BUSINESS','purpose_LIVING','purpose_HOUSEDEPOSIT','purpose_SWITCHLOAN','purpose_INVEST','purpose_BUYCAaR','purpose_ETC'],inplace=True)"
      ],
      "metadata": {
        "id": "2lPHkp0lo9dJ"
      },
      "execution_count": null,
      "outputs": []
    },
    {
      "cell_type": "code",
      "source": [
        "plt.barh(feature_scores.index,feature_scores)  "
      ],
      "metadata": {
        "id": "XvNXlHDttIJt",
        "colab": {
          "base_uri": "https://localhost:8080/",
          "height": 283
        },
        "outputId": "168eb761-bde6-47bf-e39e-c508b2522045"
      },
      "execution_count": null,
      "outputs": [
        {
          "output_type": "execute_result",
          "data": {
            "text/plain": [
              "<BarContainer object of 7 artists>"
            ]
          },
          "metadata": {},
          "execution_count": 70
        },
        {
          "output_type": "display_data",
          "data": {
            "text/plain": [
              "<Figure size 432x288 with 1 Axes>"
            ],
            "image/png": "[encoded data removed]"
          },
          "metadata": {
            "needs_background": "light"
          }
        }
      ]
    },
    {
      "cell_type": "markdown",
      "source": [
        "#5. 6월 데이터 예측"
      ],
      "metadata": {
        "id": "56jT20XNzuZZ"
      }
    },
    {
      "cell_type": "markdown",
      "source": [
        "##5.1. 3~5월 데이터 전체에 대하여 훈련"
      ],
      "metadata": {
        "id": "9rYrVKI7zzgL"
      }
    },
    {
      "cell_type": "code",
      "source": [
        "#데이터 임포트\n",
        "\n",
        "data_345 = pd.read_csv('/content/drive/MyDrive/Modeling Project 2022/제출할 것만 최종정리/train_data_final.csv')\n",
        "data_6 = pd.read_csv('/content/drive/MyDrive/Modeling Project 2022/제출할 것만 최종정리/test_data_final.csv')"
      ],
      "metadata": {
        "id": "OYdP5P2kz9ty"
      },
      "execution_count": null,
      "outputs": []
    },
    {
      "cell_type": "code",
      "source": [
        "data_6"
      ],
      "metadata": {
        "id": "CHRDxjdmBG1C",
        "colab": {
          "base_uri": "https://localhost:8080/",
          "height": 487
        },
        "outputId": "bed1179f-55f3-4bcf-b840-d06bb6e6c4b1"
      },
      "execution_count": null,
      "outputs": [
        {
          "output_type": "execute_result",
          "data": {
            "text/plain": [
              "         application_id   user_id  credit_score  yearly_income  income_type  \\\n",
              "0               1748340  430982.0    473.041049     24000000.0            5   \n",
              "1               1748340  430982.0    473.041049     24000000.0            5   \n",
              "2               1748340  430982.0    473.041049     24000000.0            5   \n",
              "3               1748340  430982.0    473.041049     24000000.0            5   \n",
              "4               1748340  430982.0    473.041049     24000000.0            5   \n",
              "...                 ...       ...           ...            ...          ...   \n",
              "3255477         1428218  478802.0    464.593888     45000000.0            5   \n",
              "3255478         1428218  478802.0    464.593888     45000000.0            5   \n",
              "3255479         1428218  478802.0    464.593888     45000000.0            5   \n",
              "3255480         1428218  478802.0    464.593888     45000000.0            5   \n",
              "3255481         1428218  478802.0    464.593888     45000000.0            5   \n",
              "\n",
              "         employment_type  houseown_type  desired_amount     purpose  \\\n",
              "0                      4              4      25000000.0  SWITCHLOAN   \n",
              "1                      4              4      25000000.0  SWITCHLOAN   \n",
              "2                      4              4      25000000.0  SWITCHLOAN   \n",
              "3                      4              4      25000000.0  SWITCHLOAN   \n",
              "4                      4              4      25000000.0  SWITCHLOAN   \n",
              "...                  ...            ...             ...         ...   \n",
              "3255477                4              2      50000000.0  SWITCHLOAN   \n",
              "3255478                4              2      50000000.0  SWITCHLOAN   \n",
              "3255479                4              2      50000000.0  SWITCHLOAN   \n",
              "3255480                4              2      50000000.0  SWITCHLOAN   \n",
              "3255481                4              2      50000000.0  SWITCHLOAN   \n",
              "\n",
              "         CompleteIDCertification  ...  UseLoanManage  UsePrepayCalc  \\\n",
              "0                            9.0  ...            0.0            0.0   \n",
              "1                            9.0  ...            0.0            0.0   \n",
              "2                            9.0  ...            0.0            0.0   \n",
              "3                            9.0  ...            0.0            0.0   \n",
              "4                            9.0  ...            0.0            0.0   \n",
              "...                          ...  ...            ...            ...   \n",
              "3255477                      3.0  ...            2.0            0.0   \n",
              "3255478                      3.0  ...            2.0            0.0   \n",
              "3255479                      3.0  ...            2.0            0.0   \n",
              "3255480                      3.0  ...            2.0            0.0   \n",
              "3255481                      3.0  ...            2.0            0.0   \n",
              "\n",
              "         ViewLoanApplyIntro    rate_s   limit_s  bank_id  product_id  \\\n",
              "0                      10.0 -0.148554  1.963431        7         191   \n",
              "1                      10.0  1.058626  0.353206       25         169   \n",
              "2                      10.0  1.227070  0.353206        2           7   \n",
              "3                      10.0 -0.934624  0.800491        4         268   \n",
              "4                      10.0  0.637517 -1.346475       11         118   \n",
              "...                     ...       ...       ...      ...         ...   \n",
              "3255477                 3.0  0.695866 -1.378631       62         200   \n",
              "3255478                 3.0 -0.129615  1.084336        2           7   \n",
              "3255479                 3.0 -1.395352 -0.579831       32         257   \n",
              "3255480                 3.0  0.338158  1.350603       33         110   \n",
              "3255481                 3.0 -0.707452  1.350603        5         194   \n",
              "\n",
              "         is_applied  bank_applied  product_applied  \n",
              "0               NaN      0.103032         0.114031  \n",
              "1               NaN      0.021180         0.035277  \n",
              "2               NaN      0.097596         0.093935  \n",
              "3               NaN      0.199582         0.167558  \n",
              "4               NaN      0.016988         0.016116  \n",
              "...             ...           ...              ...  \n",
              "3255477         NaN      0.091395         0.116528  \n",
              "3255478         NaN      0.097596         0.093935  \n",
              "3255479         NaN      0.026144         0.018052  \n",
              "3255480         NaN      0.042242         0.037856  \n",
              "3255481         NaN      0.057393         0.057393  \n",
              "\n",
              "[3255482 rows x 27 columns]"
            ],
            "text/html": [
              "\n",
              "  <div id=\"df-9ad1b37b-dc08-48db-8556-413a5f2b2827\">\n",
              "    <div class=\"colab-df-container\">\n",
              "      <div>\n",
              "<style scoped>\n",
              "    .dataframe tbody tr th:only-of-type {\n",
              "        vertical-align: middle;\n",
              "    }\n",
              "\n",
              "    .dataframe tbody tr th {\n",
              "        vertical-align: top;\n",
              "    }\n",
              "\n",
              "    .dataframe thead th {\n",
              "        text-align: right;\n",
              "    }\n",
              "</style>\n",
              "<table border=\"1\" class=\"dataframe\">\n",
              "  <thead>\n",
              "    <tr style=\"text-align: right;\">\n",
              "      <th></th>\n",
              "      <th>application_id</th>\n",
              "      <th>user_id</th>\n",
              "      <th>credit_score</th>\n",
              "      <th>yearly_income</th>\n",
              "      <th>income_type</th>\n",
              "      <th>employment_type</th>\n",
              "      <th>houseown_type</th>\n",
              "      <th>desired_amount</th>\n",
              "      <th>purpose</th>\n",
              "      <th>CompleteIDCertification</th>\n",
              "      <th>...</th>\n",
              "      <th>UseLoanManage</th>\n",
              "      <th>UsePrepayCalc</th>\n",
              "      <th>ViewLoanApplyIntro</th>\n",
              "      <th>rate_s</th>\n",
              "      <th>limit_s</th>\n",
              "      <th>bank_id</th>\n",
              "      <th>product_id</th>\n",
              "      <th>is_applied</th>\n",
              "      <th>bank_applied</th>\n",
              "      <th>product_applied</th>\n",
              "    </tr>\n",
              "  </thead>\n",
              "  <tbody>\n",
              "    <tr>\n",
              "      <th>0</th>\n",
              "      <td>1748340</td>\n",
              "      <td>430982.0</td>\n",
              "      <td>473.041049</td>\n",
              "      <td>24000000.0</td>\n",
              "      <td>5</td>\n",
              "      <td>4</td>\n",
              "      <td>4</td>\n",
              "      <td>25000000.0</td>\n",
              "      <td>SWITCHLOAN</td>\n",
              "      <td>9.0</td>\n",
              "      <td>...</td>\n",
              "      <td>0.0</td>\n",
              "      <td>0.0</td>\n",
              "      <td>10.0</td>\n",
              "      <td>-0.148554</td>\n",
              "      <td>1.963431</td>\n",
              "      <td>7</td>\n",
              "      <td>191</td>\n",
              "      <td>NaN</td>\n",
              "      <td>0.103032</td>\n",
              "      <td>0.114031</td>\n",
              "    </tr>\n",
              "    <tr>\n",
              "      <th>1</th>\n",
              "      <td>1748340</td>\n",
              "      <td>430982.0</td>\n",
              "      <td>473.041049</td>\n",
              "      <td>24000000.0</td>\n",
              "      <td>5</td>\n",
              "      <td>4</td>\n",
              "      <td>4</td>\n",
              "      <td>25000000.0</td>\n",
              "      <td>SWITCHLOAN</td>\n",
              "      <td>9.0</td>\n",
              "      <td>...</td>\n",
              "      <td>0.0</td>\n",
              "      <td>0.0</td>\n",
              "      <td>10.0</td>\n",
              "      <td>1.058626</td>\n",
              "      <td>0.353206</td>\n",
              "      <td>25</td>\n",
              "      <td>169</td>\n",
              "      <td>NaN</td>\n",
              "      <td>0.021180</td>\n",
              "      <td>0.035277</td>\n",
              "    </tr>\n",
              "    <tr>\n",
              "      <th>2</th>\n",
              "      <td>1748340</td>\n",
              "      <td>430982.0</td>\n",
              "      <td>473.041049</td>\n",
              "      <td>24000000.0</td>\n",
              "      <td>5</td>\n",
              "      <td>4</td>\n",
              "      <td>4</td>\n",
              "      <td>25000000.0</td>\n",
              "      <td>SWITCHLOAN</td>\n",
              "      <td>9.0</td>\n",
              "      <td>...</td>\n",
              "      <td>0.0</td>\n",
              "      <td>0.0</td>\n",
              "      <td>10.0</td>\n",
              "      <td>1.227070</td>\n",
              "      <td>0.353206</td>\n",
              "      <td>2</td>\n",
              "      <td>7</td>\n",
              "      <td>NaN</td>\n",
              "      <td>0.097596</td>\n",
              "      <td>0.093935</td>\n",
              "    </tr>\n",
              "    <tr>\n",
              "      <th>3</th>\n",
              "      <td>1748340</td>\n",
              "      <td>430982.0</td>\n",
              "      <td>473.041049</td>\n",
              "      <td>24000000.0</td>\n",
              "      <td>5</td>\n",
              "      <td>4</td>\n",
              "      <td>4</td>\n",
              "      <td>25000000.0</td>\n",
              "      <td>SWITCHLOAN</td>\n",
              "      <td>9.0</td>\n",
              "      <td>...</td>\n",
              "      <td>0.0</td>\n",
              "      <td>0.0</td>\n",
              "      <td>10.0</td>\n",
              "      <td>-0.934624</td>\n",
              "      <td>0.800491</td>\n",
              "      <td>4</td>\n",
              "      <td>268</td>\n",
              "      <td>NaN</td>\n",
              "      <td>0.199582</td>\n",
              "      <td>0.167558</td>\n",
              "    </tr>\n",
              "    <tr>\n",
              "      <th>4</th>\n",
              "      <td>1748340</td>\n",
              "      <td>430982.0</td>\n",
              "      <td>473.041049</td>\n",
              "      <td>24000000.0</td>\n",
              "      <td>5</td>\n",
              "      <td>4</td>\n",
              "      <td>4</td>\n",
              "      <td>25000000.0</td>\n",
              "      <td>SWITCHLOAN</td>\n",
              "      <td>9.0</td>\n",
              "      <td>...</td>\n",
              "      <td>0.0</td>\n",
              "      <td>0.0</td>\n",
              "      <td>10.0</td>\n",
              "      <td>0.637517</td>\n",
              "      <td>-1.346475</td>\n",
              "      <td>11</td>\n",
              "      <td>118</td>\n",
              "      <td>NaN</td>\n",
              "      <td>0.016988</td>\n",
              "      <td>0.016116</td>\n",
              "    </tr>\n",
              "    <tr>\n",
              "      <th>...</th>\n",
              "      <td>...</td>\n",
              "      <td>...</td>\n",
              "      <td>...</td>\n",
              "      <td>...</td>\n",
              "      <td>...</td>\n",
              "      <td>...</td>\n",
              "      <td>...</td>\n",
              "      <td>...</td>\n",
              "      <td>...</td>\n",
              "      <td>...</td>\n",
              "      <td>...</td>\n",
              "      <td>...</td>\n",
              "      <td>...</td>\n",
              "      <td>...</td>\n",
              "      <td>...</td>\n",
              "      <td>...</td>\n",
              "      <td>...</td>\n",
              "      <td>...</td>\n",
              "      <td>...</td>\n",
              "      <td>...</td>\n",
              "      <td>...</td>\n",
              "    </tr>\n",
              "    <tr>\n",
              "      <th>3255477</th>\n",
              "      <td>1428218</td>\n",
              "      <td>478802.0</td>\n",
              "      <td>464.593888</td>\n",
              "      <td>45000000.0</td>\n",
              "      <td>5</td>\n",
              "      <td>4</td>\n",
              "      <td>2</td>\n",
              "      <td>50000000.0</td>\n",
              "      <td>SWITCHLOAN</td>\n",
              "      <td>3.0</td>\n",
              "      <td>...</td>\n",
              "      <td>2.0</td>\n",
              "      <td>0.0</td>\n",
              "      <td>3.0</td>\n",
              "      <td>0.695866</td>\n",
              "      <td>-1.378631</td>\n",
              "      <td>62</td>\n",
              "      <td>200</td>\n",
              "      <td>NaN</td>\n",
              "      <td>0.091395</td>\n",
              "      <td>0.116528</td>\n",
              "    </tr>\n",
              "    <tr>\n",
              "      <th>3255478</th>\n",
              "      <td>1428218</td>\n",
              "      <td>478802.0</td>\n",
              "      <td>464.593888</td>\n",
              "      <td>45000000.0</td>\n",
              "      <td>5</td>\n",
              "      <td>4</td>\n",
              "      <td>2</td>\n",
              "      <td>50000000.0</td>\n",
              "      <td>SWITCHLOAN</td>\n",
              "      <td>3.0</td>\n",
              "      <td>...</td>\n",
              "      <td>2.0</td>\n",
              "      <td>0.0</td>\n",
              "      <td>3.0</td>\n",
              "      <td>-0.129615</td>\n",
              "      <td>1.084336</td>\n",
              "      <td>2</td>\n",
              "      <td>7</td>\n",
              "      <td>NaN</td>\n",
              "      <td>0.097596</td>\n",
              "      <td>0.093935</td>\n",
              "    </tr>\n",
              "    <tr>\n",
              "      <th>3255479</th>\n",
              "      <td>1428218</td>\n",
              "      <td>478802.0</td>\n",
              "      <td>464.593888</td>\n",
              "      <td>45000000.0</td>\n",
              "      <td>5</td>\n",
              "      <td>4</td>\n",
              "      <td>2</td>\n",
              "      <td>50000000.0</td>\n",
              "      <td>SWITCHLOAN</td>\n",
              "      <td>3.0</td>\n",
              "      <td>...</td>\n",
              "      <td>2.0</td>\n",
              "      <td>0.0</td>\n",
              "      <td>3.0</td>\n",
              "      <td>-1.395352</td>\n",
              "      <td>-0.579831</td>\n",
              "      <td>32</td>\n",
              "      <td>257</td>\n",
              "      <td>NaN</td>\n",
              "      <td>0.026144</td>\n",
              "      <td>0.018052</td>\n",
              "    </tr>\n",
              "    <tr>\n",
              "      <th>3255480</th>\n",
              "      <td>1428218</td>\n",
              "      <td>478802.0</td>\n",
              "      <td>464.593888</td>\n",
              "      <td>45000000.0</td>\n",
              "      <td>5</td>\n",
              "      <td>4</td>\n",
              "      <td>2</td>\n",
              "      <td>50000000.0</td>\n",
              "      <td>SWITCHLOAN</td>\n",
              "      <td>3.0</td>\n",
              "      <td>...</td>\n",
              "      <td>2.0</td>\n",
              "      <td>0.0</td>\n",
              "      <td>3.0</td>\n",
              "      <td>0.338158</td>\n",
              "      <td>1.350603</td>\n",
              "      <td>33</td>\n",
              "      <td>110</td>\n",
              "      <td>NaN</td>\n",
              "      <td>0.042242</td>\n",
              "      <td>0.037856</td>\n",
              "    </tr>\n",
              "    <tr>\n",
              "      <th>3255481</th>\n",
              "      <td>1428218</td>\n",
              "      <td>478802.0</td>\n",
              "      <td>464.593888</td>\n",
              "      <td>45000000.0</td>\n",
              "      <td>5</td>\n",
              "      <td>4</td>\n",
              "      <td>2</td>\n",
              "      <td>50000000.0</td>\n",
              "      <td>SWITCHLOAN</td>\n",
              "      <td>3.0</td>\n",
              "      <td>...</td>\n",
              "      <td>2.0</td>\n",
              "      <td>0.0</td>\n",
              "      <td>3.0</td>\n",
              "      <td>-0.707452</td>\n",
              "      <td>1.350603</td>\n",
              "      <td>5</td>\n",
              "      <td>194</td>\n",
              "      <td>NaN</td>\n",
              "      <td>0.057393</td>\n",
              "      <td>0.057393</td>\n",
              "    </tr>\n",
              "  </tbody>\n",
              "</table>\n",
              "<p>3255482 rows × 27 columns</p>\n",
              "</div>\n",
              "      <button class=\"colab-df-convert\" onclick=\"convertToInteractive('df-9ad1b37b-dc08-48db-8556-413a5f2b2827')\"\n",
              "              title=\"Convert this dataframe to an interactive table.\"\n",
              "              style=\"display:none;\">\n",
              "        \n",
              "  <svg xmlns=\"http://www.w3.org/2000/svg\" height=\"24px\"viewBox=\"0 0 24 24\"\n",
              "       width=\"24px\">\n",
              "    <path d=\"M0 0h24v24H0V0z\" fill=\"none\"/>\n",
              "    <path d=\"M18.56 5.44l.94 2.06.94-2.06 2.06-.94-2.06-.94-.94-2.06-.94 2.06-2.06.94zm-11 1L8.5 8.5l.94-2.06 2.06-.94-2.06-.94L8.5 2.5l-.94 2.06-2.06.94zm10 10l.94 2.06.94-2.06 2.06-.94-2.06-.94-.94-2.06-.94 2.06-2.06.94z\"/><path d=\"M17.41 7.96l-1.37-1.37c-.4-.4-.92-.59-1.43-.59-.52 0-1.04.2-1.43.59L10.3 9.45l-7.72 7.72c-.78.78-.78 2.05 0 2.83L4 21.41c.39.39.9.59 1.41.59.51 0 1.02-.2 1.41-.59l7.78-7.78 2.81-2.81c.8-.78.8-2.07 0-2.86zM5.41 20L4 18.59l7.72-7.72 1.47 1.35L5.41 20z\"/>\n",
              "  </svg>\n",
              "      </button>\n",
              "      \n",
              "  <style>\n",
              "    .colab-df-container {\n",
              "      display:flex;\n",
              "      flex-wrap:wrap;\n",
              "      gap: 12px;\n",
              "    }\n",
              "\n",
              "    .colab-df-convert {\n",
              "      background-color: #E8F0FE;\n",
              "      border: none;\n",
              "      border-radius: 50%;\n",
              "      cursor: pointer;\n",
              "      display: none;\n",
              "      fill: #1967D2;\n",
              "      height: 32px;\n",
              "      padding: 0 0 0 0;\n",
              "      width: 32px;\n",
              "    }\n",
              "\n",
              "    .colab-df-convert:hover {\n",
              "      background-color: #E2EBFA;\n",
              "      box-shadow: 0px 1px 2px rgba(60, 64, 67, 0.3), 0px 1px 3px 1px rgba(60, 64, 67, 0.15);\n",
              "      fill: #174EA6;\n",
              "    }\n",
              "\n",
              "    [theme=dark] .colab-df-convert {\n",
              "      background-color: #3B4455;\n",
              "      fill: #D2E3FC;\n",
              "    }\n",
              "\n",
              "    [theme=dark] .colab-df-convert:hover {\n",
              "      background-color: #434B5C;\n",
              "      box-shadow: 0px 1px 3px 1px rgba(0, 0, 0, 0.15);\n",
              "      filter: drop-shadow(0px 1px 2px rgba(0, 0, 0, 0.3));\n",
              "      fill: #FFFFFF;\n",
              "    }\n",
              "  </style>\n",
              "\n",
              "      <script>\n",
              "        const buttonEl =\n",
              "          document.querySelector('#df-9ad1b37b-dc08-48db-8556-413a5f2b2827 button.colab-df-convert');\n",
              "        buttonEl.style.display =\n",
              "          google.colab.kernel.accessAllowed ? 'block' : 'none';\n",
              "\n",
              "        async function convertToInteractive(key) {\n",
              "          const element = document.querySelector('#df-9ad1b37b-dc08-48db-8556-413a5f2b2827');\n",
              "          const dataTable =\n",
              "            await google.colab.kernel.invokeFunction('convertToInteractive',\n",
              "                                                     [key], {});\n",
              "          if (!dataTable) return;\n",
              "\n",
              "          const docLinkHtml = 'Like what you see? Visit the ' +\n",
              "            '<a target=\"_blank\" href=https://colab.research.google.com/notebooks/data_table.ipynb>data table notebook</a>'\n",
              "            + ' to learn more about interactive tables.';\n",
              "          element.innerHTML = '';\n",
              "          dataTable['output_type'] = 'display_data';\n",
              "          await google.colab.output.renderOutput(dataTable, element);\n",
              "          const docLink = document.createElement('div');\n",
              "          docLink.innerHTML = docLinkHtml;\n",
              "          element.appendChild(docLink);\n",
              "        }\n",
              "      </script>\n",
              "    </div>\n",
              "  </div>\n",
              "  "
            ]
          },
          "metadata": {},
          "execution_count": 6
        }
      ]
    },
    {
      "cell_type": "markdown",
      "source": [
        "##5.2. 유저 예측 훈련"
      ],
      "metadata": {
        "id": "jc8vJl7uz269"
      }
    },
    {
      "cell_type": "code",
      "source": [
        "#유저 예측의 변수는 다음의 특성들을 사용\n",
        "\n",
        "X_train_user = data_345[['credit_score', 'yearly_income', 'income_type', 'employment_type', 'houseown_type', 'desired_amount', 'purpose']]\n",
        "Y_train_user = data_345['applied_once']\n",
        "\n",
        "#6월 데이터의 인풋 변수 정리\n",
        "X_test_user = data_6[['credit_score', 'yearly_income', 'income_type', 'employment_type', 'houseown_type', 'desired_amount', 'purpose']]"
      ],
      "metadata": {
        "id": "knvd_yi-zyKU"
      },
      "execution_count": null,
      "outputs": []
    },
    {
      "cell_type": "code",
      "source": [
        "#범주형 변수들의 더미변수화\n",
        "\n",
        "X_train_user['income_type'] = X_train_user['income_type'].astype(str)\n",
        "X_train_user['employment_type'] = X_train_user['employment_type'].astype(str)\n",
        "X_train_user['houseown_type'] = X_train_user['houseown_type'].astype(str)\n",
        "X_train_user = pd.get_dummies(X_train_user, columns = ['income_type', 'employment_type', 'houseown_type', 'purpose'])\n",
        "\n",
        "X_test_user['income_type'] = X_test_user['income_type'].astype(str)\n",
        "X_test_user['employment_type'] = X_test_user['employment_type'].astype(str)\n",
        "X_test_user['houseown_type'] = X_test_user['houseown_type'].astype(str)\n",
        "X_test_user = pd.get_dummies(X_test_user, columns = ['income_type', 'employment_type', 'houseown_type', 'purpose'])"
      ],
      "metadata": {
        "id": "owl67ltQ0vhn",
        "colab": {
          "base_uri": "https://localhost:8080/"
        },
        "outputId": "3cfb815f-2229-420f-9f96-8677f705335c"
      },
      "execution_count": null,
      "outputs": [
        {
          "output_type": "stream",
          "name": "stderr",
          "text": [
            "/usr/local/lib/python3.7/dist-packages/ipykernel_launcher.py:3: SettingWithCopyWarning: \n",
            "A value is trying to be set on a copy of a slice from a DataFrame.\n",
            "Try using .loc[row_indexer,col_indexer] = value instead\n",
            "\n",
            "See the caveats in the documentation: https://pandas.pydata.org/pandas-docs/stable/user_guide/indexing.html#returning-a-view-versus-a-copy\n",
            "  This is separate from the ipykernel package so we can avoid doing imports until\n",
            "/usr/local/lib/python3.7/dist-packages/ipykernel_launcher.py:4: SettingWithCopyWarning: \n",
            "A value is trying to be set on a copy of a slice from a DataFrame.\n",
            "Try using .loc[row_indexer,col_indexer] = value instead\n",
            "\n",
            "See the caveats in the documentation: https://pandas.pydata.org/pandas-docs/stable/user_guide/indexing.html#returning-a-view-versus-a-copy\n",
            "  after removing the cwd from sys.path.\n",
            "/usr/local/lib/python3.7/dist-packages/ipykernel_launcher.py:5: SettingWithCopyWarning: \n",
            "A value is trying to be set on a copy of a slice from a DataFrame.\n",
            "Try using .loc[row_indexer,col_indexer] = value instead\n",
            "\n",
            "See the caveats in the documentation: https://pandas.pydata.org/pandas-docs/stable/user_guide/indexing.html#returning-a-view-versus-a-copy\n",
            "  \"\"\"\n",
            "/usr/local/lib/python3.7/dist-packages/ipykernel_launcher.py:8: SettingWithCopyWarning: \n",
            "A value is trying to be set on a copy of a slice from a DataFrame.\n",
            "Try using .loc[row_indexer,col_indexer] = value instead\n",
            "\n",
            "See the caveats in the documentation: https://pandas.pydata.org/pandas-docs/stable/user_guide/indexing.html#returning-a-view-versus-a-copy\n",
            "  \n",
            "/usr/local/lib/python3.7/dist-packages/ipykernel_launcher.py:9: SettingWithCopyWarning: \n",
            "A value is trying to be set on a copy of a slice from a DataFrame.\n",
            "Try using .loc[row_indexer,col_indexer] = value instead\n",
            "\n",
            "See the caveats in the documentation: https://pandas.pydata.org/pandas-docs/stable/user_guide/indexing.html#returning-a-view-versus-a-copy\n",
            "  if __name__ == '__main__':\n",
            "/usr/local/lib/python3.7/dist-packages/ipykernel_launcher.py:10: SettingWithCopyWarning: \n",
            "A value is trying to be set on a copy of a slice from a DataFrame.\n",
            "Try using .loc[row_indexer,col_indexer] = value instead\n",
            "\n",
            "See the caveats in the documentation: https://pandas.pydata.org/pandas-docs/stable/user_guide/indexing.html#returning-a-view-versus-a-copy\n",
            "  # Remove the CWD from sys.path while we load stuff.\n"
          ]
        }
      ]
    },
    {
      "cell_type": "code",
      "source": [
        "#유저 예측 훈련\n",
        "\n",
        "RF_user = RandomForestClassifier(n_estimators = 6)\n",
        "RF_user.fit(X_train_user, Y_train_user)\n",
        "# joblib.dump(RF_user,'/content/drive/MyDrive/Modeling Project 2022/제출할 것만 최종정리/real_final_user.pkl')"
      ],
      "metadata": {
        "id": "QXQfeATl1IFE",
        "colab": {
          "base_uri": "https://localhost:8080/"
        },
        "outputId": "2db25538-abb5-46a6-f597-cff9abbedd82"
      },
      "execution_count": null,
      "outputs": [
        {
          "output_type": "execute_result",
          "data": {
            "text/plain": [
              "RandomForestClassifier(n_estimators=6)"
            ]
          },
          "metadata": {},
          "execution_count": 9
        }
      ]
    },
    {
      "cell_type": "code",
      "source": [
        "# rfc_user = joblib.load('/content/drive/MyDrive/Modeling Project 2022/제출할 것만 최종정리/real_final_user.pkl')\n",
        "# RF_user = rfc_user"
      ],
      "metadata": {
        "id": "aYHSBHQcWUMS"
      },
      "execution_count": null,
      "outputs": []
    },
    {
      "cell_type": "markdown",
      "source": [
        "##5.3. 상품 예측 훈련"
      ],
      "metadata": {
        "id": "qL_Zgn-V0UJe"
      }
    },
    {
      "cell_type": "code",
      "source": [
        "#대출을 신청한 유저들이 어떤 상품을 신청하는지 예측하는 훈련이므로, 대출 신청한 유저들 대상으로만 훈련\n",
        "\n",
        "X_train_loan = data_345[data_345['applied_once'] == 1]\n",
        "y_train_loan = X_train_loan['is_applied']"
      ],
      "metadata": {
        "id": "OuigJoKj0rsn"
      },
      "execution_count": null,
      "outputs": []
    },
    {
      "cell_type": "code",
      "source": [
        "#상품 예측 훈련의 변수는 다음의 4가지 특성\n",
        "\n",
        "X_train_loan = X_train_loan[['limit_s', 'rate_s', 'bank_applied', 'product_applied']]\n",
        "\n",
        "#6월 데이터 인풋 변수 정리\n",
        "X_test_loan = data_6[['limit_s', 'rate_s', 'bank_applied', 'product_applied']]"
      ],
      "metadata": {
        "id": "l5Z3fvmA4WVi"
      },
      "execution_count": null,
      "outputs": []
    },
    {
      "cell_type": "code",
      "source": [
        "# 모델설정\n",
        "sm = ADASYN(n_neighbors=5)\n",
        "\n",
        "# train데이터를 넣어 복제함\n",
        "X_resampled, y_resampled = sm.fit_resample(X_train_loan,list(y_train_loan))\n",
        "\n",
        "print(Counter(y_train_loan))\n",
        "print(Counter(y_resampled))"
      ],
      "metadata": {
        "id": "MjxXZwXw4jcV",
        "colab": {
          "base_uri": "https://localhost:8080/"
        },
        "outputId": "e6f7d3db-7067-45ba-97f3-5691442a21ae"
      },
      "execution_count": null,
      "outputs": [
        {
          "output_type": "stream",
          "name": "stdout",
          "text": [
            "Counter({0.0: 7072049, 1.0: 554711})\n",
            "Counter({0.0: 7072049, 1.0: 6994976})\n"
          ]
        }
      ]
    },
    {
      "cell_type": "code",
      "source": [
        "RF_loan = RandomForestClassifier(n_estimators = 6)\n",
        "RF_loan.fit(X_resampled, y_resampled)\n",
        "# joblib.dump(RF_loan,'/content/drive/MyDrive/Modeling Project 2022/제출할 것만 최종정리/oversampling_realfinal2_RF_loan.pkl')"
      ],
      "metadata": {
        "id": "cxMXikWZ4yN9",
        "colab": {
          "base_uri": "https://localhost:8080/"
        },
        "outputId": "d4e547e0-470d-46ac-b1c2-cb48e35c96ed"
      },
      "execution_count": null,
      "outputs": [
        {
          "output_type": "execute_result",
          "data": {
            "text/plain": [
              "RandomForestClassifier(n_estimators=6)"
            ]
          },
          "metadata": {},
          "execution_count": 17
        }
      ]
    },
    {
      "cell_type": "code",
      "source": [
        "# rfc_loan = joblib.load('/content/drive/MyDrive/Modeling Project 2022/제출할 것만 최종정리/oversampling_realfinal2_RF_loan.pkl')\n",
        "# RF_loan = rfc_loan"
      ],
      "metadata": {
        "id": "ePLvDeEBvxGu"
      },
      "execution_count": null,
      "outputs": []
    },
    {
      "cell_type": "markdown",
      "source": [
        "##5.4. 예측값 산출"
      ],
      "metadata": {
        "id": "lm0YSUKk45oV"
      }
    },
    {
      "cell_type": "code",
      "source": [
        "user_pred = RF_user.predict_proba(X_test_user)\n",
        "loan_pred = RF_loan.predict_proba(X_test_loan)"
      ],
      "metadata": {
        "id": "rSF_Kye248K3"
      },
      "execution_count": null,
      "outputs": []
    },
    {
      "cell_type": "code",
      "source": [
        "user_pred = user_pred[:,1]\n",
        "loan_pred = loan_pred[:,1]\n",
        "final_pred = user_pred * loan_pred\n",
        "final_pred = np.where(final_pred > 0.3, 1, 0) #0.3을 넘으면 대출한 것으로 분류"
      ],
      "metadata": {
        "id": "ztSOJXpG5FGP"
      },
      "execution_count": null,
      "outputs": []
    },
    {
      "cell_type": "code",
      "source": [
        "final_pred.mean() #모델의 예측값 분포"
      ],
      "metadata": {
        "id": "ohLFSfL15Hzy",
        "colab": {
          "base_uri": "https://localhost:8080/"
        },
        "outputId": "23cdb0d5-b310-4295-951d-d9ea22273c9b"
      },
      "execution_count": null,
      "outputs": [
        {
          "output_type": "execute_result",
          "data": {
            "text/plain": [
              "0.14038535614695458"
            ]
          },
          "metadata": {},
          "execution_count": 20
        }
      ]
    },
    {
      "cell_type": "code",
      "source": [
        "submit = pd.read_csv('/content/drive/MyDrive/Modeling Project 2022/제출할 것만 최종정리/찐찐막/평가데이터(루키부문,퓨처스부문)_수정_221011/데이터분석분야_퓨처스부문_평가데이터.csv')"
      ],
      "metadata": {
        "id": "ZJsucTerBodc"
      },
      "execution_count": null,
      "outputs": []
    },
    {
      "cell_type": "code",
      "source": [
        "submit = submit[['application_id', 'product_id']]\n",
        "submit"
      ],
      "metadata": {
        "id": "KaEAeqnKCOqv",
        "colab": {
          "base_uri": "https://localhost:8080/",
          "height": 423
        },
        "outputId": "f4e056c3-3aaf-4149-9ca2-1be1b6b63fd1"
      },
      "execution_count": null,
      "outputs": [
        {
          "output_type": "execute_result",
          "data": {
            "text/plain": [
              "         application_id  product_id\n",
              "0                     4         220\n",
              "1                     4         191\n",
              "2                     8          29\n",
              "3                     8         159\n",
              "4                     8          85\n",
              "...                 ...         ...\n",
              "3255189         2167778         258\n",
              "3255190         2167791          29\n",
              "3255191         2167822         149\n",
              "3255192         2167822         157\n",
              "3255193         2167822          65\n",
              "\n",
              "[3255194 rows x 2 columns]"
            ],
            "text/html": [
              "\n",
              "  <div id=\"df-49d559d4-2dbe-4c44-a79a-1b12415d062a\">\n",
              "    <div class=\"colab-df-container\">\n",
              "      <div>\n",
              "<style scoped>\n",
              "    .dataframe tbody tr th:only-of-type {\n",
              "        vertical-align: middle;\n",
              "    }\n",
              "\n",
              "    .dataframe tbody tr th {\n",
              "        vertical-align: top;\n",
              "    }\n",
              "\n",
              "    .dataframe thead th {\n",
              "        text-align: right;\n",
              "    }\n",
              "</style>\n",
              "<table border=\"1\" class=\"dataframe\">\n",
              "  <thead>\n",
              "    <tr style=\"text-align: right;\">\n",
              "      <th></th>\n",
              "      <th>application_id</th>\n",
              "      <th>product_id</th>\n",
              "    </tr>\n",
              "  </thead>\n",
              "  <tbody>\n",
              "    <tr>\n",
              "      <th>0</th>\n",
              "      <td>4</td>\n",
              "      <td>220</td>\n",
              "    </tr>\n",
              "    <tr>\n",
              "      <th>1</th>\n",
              "      <td>4</td>\n",
              "      <td>191</td>\n",
              "    </tr>\n",
              "    <tr>\n",
              "      <th>2</th>\n",
              "      <td>8</td>\n",
              "      <td>29</td>\n",
              "    </tr>\n",
              "    <tr>\n",
              "      <th>3</th>\n",
              "      <td>8</td>\n",
              "      <td>159</td>\n",
              "    </tr>\n",
              "    <tr>\n",
              "      <th>4</th>\n",
              "      <td>8</td>\n",
              "      <td>85</td>\n",
              "    </tr>\n",
              "    <tr>\n",
              "      <th>...</th>\n",
              "      <td>...</td>\n",
              "      <td>...</td>\n",
              "    </tr>\n",
              "    <tr>\n",
              "      <th>3255189</th>\n",
              "      <td>2167778</td>\n",
              "      <td>258</td>\n",
              "    </tr>\n",
              "    <tr>\n",
              "      <th>3255190</th>\n",
              "      <td>2167791</td>\n",
              "      <td>29</td>\n",
              "    </tr>\n",
              "    <tr>\n",
              "      <th>3255191</th>\n",
              "      <td>2167822</td>\n",
              "      <td>149</td>\n",
              "    </tr>\n",
              "    <tr>\n",
              "      <th>3255192</th>\n",
              "      <td>2167822</td>\n",
              "      <td>157</td>\n",
              "    </tr>\n",
              "    <tr>\n",
              "      <th>3255193</th>\n",
              "      <td>2167822</td>\n",
              "      <td>65</td>\n",
              "    </tr>\n",
              "  </tbody>\n",
              "</table>\n",
              "<p>3255194 rows × 2 columns</p>\n",
              "</div>\n",
              "      <button class=\"colab-df-convert\" onclick=\"convertToInteractive('df-49d559d4-2dbe-4c44-a79a-1b12415d062a')\"\n",
              "              title=\"Convert this dataframe to an interactive table.\"\n",
              "              style=\"display:none;\">\n",
              "        \n",
              "  <svg xmlns=\"http://www.w3.org/2000/svg\" height=\"24px\"viewBox=\"0 0 24 24\"\n",
              "       width=\"24px\">\n",
              "    <path d=\"M0 0h24v24H0V0z\" fill=\"none\"/>\n",
              "    <path d=\"M18.56 5.44l.94 2.06.94-2.06 2.06-.94-2.06-.94-.94-2.06-.94 2.06-2.06.94zm-11 1L8.5 8.5l.94-2.06 2.06-.94-2.06-.94L8.5 2.5l-.94 2.06-2.06.94zm10 10l.94 2.06.94-2.06 2.06-.94-2.06-.94-.94-2.06-.94 2.06-2.06.94z\"/><path d=\"M17.41 7.96l-1.37-1.37c-.4-.4-.92-.59-1.43-.59-.52 0-1.04.2-1.43.59L10.3 9.45l-7.72 7.72c-.78.78-.78 2.05 0 2.83L4 21.41c.39.39.9.59 1.41.59.51 0 1.02-.2 1.41-.59l7.78-7.78 2.81-2.81c.8-.78.8-2.07 0-2.86zM5.41 20L4 18.59l7.72-7.72 1.47 1.35L5.41 20z\"/>\n",
              "  </svg>\n",
              "      </button>\n",
              "      \n",
              "  <style>\n",
              "    .colab-df-container {\n",
              "      display:flex;\n",
              "      flex-wrap:wrap;\n",
              "      gap: 12px;\n",
              "    }\n",
              "\n",
              "    .colab-df-convert {\n",
              "      background-color: #E8F0FE;\n",
              "      border: none;\n",
              "      border-radius: 50%;\n",
              "      cursor: pointer;\n",
              "      display: none;\n",
              "      fill: #1967D2;\n",
              "      height: 32px;\n",
              "      padding: 0 0 0 0;\n",
              "      width: 32px;\n",
              "    }\n",
              "\n",
              "    .colab-df-convert:hover {\n",
              "      background-color: #E2EBFA;\n",
              "      box-shadow: 0px 1px 2px rgba(60, 64, 67, 0.3), 0px 1px 3px 1px rgba(60, 64, 67, 0.15);\n",
              "      fill: #174EA6;\n",
              "    }\n",
              "\n",
              "    [theme=dark] .colab-df-convert {\n",
              "      background-color: #3B4455;\n",
              "      fill: #D2E3FC;\n",
              "    }\n",
              "\n",
              "    [theme=dark] .colab-df-convert:hover {\n",
              "      background-color: #434B5C;\n",
              "      box-shadow: 0px 1px 3px 1px rgba(0, 0, 0, 0.15);\n",
              "      filter: drop-shadow(0px 1px 2px rgba(0, 0, 0, 0.3));\n",
              "      fill: #FFFFFF;\n",
              "    }\n",
              "  </style>\n",
              "\n",
              "      <script>\n",
              "        const buttonEl =\n",
              "          document.querySelector('#df-49d559d4-2dbe-4c44-a79a-1b12415d062a button.colab-df-convert');\n",
              "        buttonEl.style.display =\n",
              "          google.colab.kernel.accessAllowed ? 'block' : 'none';\n",
              "\n",
              "        async function convertToInteractive(key) {\n",
              "          const element = document.querySelector('#df-49d559d4-2dbe-4c44-a79a-1b12415d062a');\n",
              "          const dataTable =\n",
              "            await google.colab.kernel.invokeFunction('convertToInteractive',\n",
              "                                                     [key], {});\n",
              "          if (!dataTable) return;\n",
              "\n",
              "          const docLinkHtml = 'Like what you see? Visit the ' +\n",
              "            '<a target=\"_blank\" href=https://colab.research.google.com/notebooks/data_table.ipynb>data table notebook</a>'\n",
              "            + ' to learn more about interactive tables.';\n",
              "          element.innerHTML = '';\n",
              "          dataTable['output_type'] = 'display_data';\n",
              "          await google.colab.output.renderOutput(dataTable, element);\n",
              "          const docLink = document.createElement('div');\n",
              "          docLink.innerHTML = docLinkHtml;\n",
              "          element.appendChild(docLink);\n",
              "        }\n",
              "      </script>\n",
              "    </div>\n",
              "  </div>\n",
              "  "
            ]
          },
          "metadata": {},
          "execution_count": 35
        }
      ]
    },
    {
      "cell_type": "code",
      "source": [
        "submit_temp = data_6[['application_id', 'product_id', 'is_applied']]\n",
        "submit_temp['is_applied'] = final_pred"
      ],
      "metadata": {
        "id": "D9Zg2jlbCmlf",
        "colab": {
          "base_uri": "https://localhost:8080/"
        },
        "outputId": "41c368ce-96eb-4dfc-ed2e-47158021a52f"
      },
      "execution_count": null,
      "outputs": [
        {
          "output_type": "stream",
          "name": "stderr",
          "text": [
            "/usr/local/lib/python3.7/dist-packages/ipykernel_launcher.py:2: SettingWithCopyWarning: \n",
            "A value is trying to be set on a copy of a slice from a DataFrame.\n",
            "Try using .loc[row_indexer,col_indexer] = value instead\n",
            "\n",
            "See the caveats in the documentation: https://pandas.pydata.org/pandas-docs/stable/user_guide/indexing.html#returning-a-view-versus-a-copy\n",
            "  \n"
          ]
        }
      ]
    },
    {
      "cell_type": "code",
      "source": [
        "submit_final = pd.merge(submit, submit_temp, left_on = ['application_id', 'product_id'], right_on = ['application_id', 'product_id'], how = 'left')"
      ],
      "metadata": {
        "id": "ekYc5UvqCzja"
      },
      "execution_count": null,
      "outputs": []
    },
    {
      "cell_type": "code",
      "source": [
        "submit_final['is_applied'].mean()"
      ],
      "metadata": {
        "id": "TvrqhjVGFUeY",
        "colab": {
          "base_uri": "https://localhost:8080/"
        },
        "outputId": "fad0edd5-ed34-4408-b424-f9cfad78bf4c"
      },
      "execution_count": null,
      "outputs": [
        {
          "output_type": "execute_result",
          "data": {
            "text/plain": [
              "0.14037780851156645"
            ]
          },
          "metadata": {},
          "execution_count": 38
        }
      ]
    },
    {
      "cell_type": "code",
      "source": [
        "submit_final.to_csv('데이터분석분야_퓨처스부문_독수리 오형제_평가데이터.csv', index = False)"
      ],
      "metadata": {
        "id": "syW7AmDsZIr8"
      },
      "execution_count": null,
      "outputs": []
    }
  ]
}